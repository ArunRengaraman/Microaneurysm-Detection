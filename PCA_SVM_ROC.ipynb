{
  "nbformat": 4,
  "nbformat_minor": 0,
  "metadata": {
    "colab": {
      "name": "PCA_SVM-ROC.ipynb",
      "provenance": []
    },
    "kernelspec": {
      "name": "python3",
      "display_name": "Python 3"
    }
  },
  "cells": [
    {
      "cell_type": "code",
      "metadata": {
        "id": "wT892A-Pek_Z",
        "colab_type": "code",
        "colab": {
          "base_uri": "https://localhost:8080/",
          "height": 121
        },
        "outputId": "7095b74c-c902-430e-df7b-b0ffad9bbbd2"
      },
      "source": [
        "from google.colab import drive\n",
        "drive.mount('/content/gdrive')\n",
        "rootpath = 'gdrive/My Drive/Patches_ROC/'"
      ],
      "execution_count": 1,
      "outputs": [
        {
          "output_type": "stream",
          "text": [
            "Go to this URL in a browser: https://accounts.google.com/o/oauth2/auth?client_id=947318989803-6bn6qk8qdgf4n4g3pfee6491hc0brc4i.apps.googleusercontent.com&redirect_uri=urn%3Aietf%3Awg%3Aoauth%3A2.0%3Aoob&scope=email%20https%3A%2F%2Fwww.googleapis.com%2Fauth%2Fdocs.test%20https%3A%2F%2Fwww.googleapis.com%2Fauth%2Fdrive%20https%3A%2F%2Fwww.googleapis.com%2Fauth%2Fdrive.photos.readonly%20https%3A%2F%2Fwww.googleapis.com%2Fauth%2Fpeopleapi.readonly&response_type=code\n",
            "\n",
            "Enter your authorization code:\n",
            "··········\n",
            "Mounted at /content/gdrive\n"
          ],
          "name": "stdout"
        }
      ]
    },
    {
      "cell_type": "code",
      "metadata": {
        "id": "aL_2W_eRexd4",
        "colab_type": "code",
        "colab": {}
      },
      "source": [
        "import matplotlib.pyplot as plt\n",
        "import cv2\n",
        "import glob\n",
        "import numpy as np"
      ],
      "execution_count": 0,
      "outputs": []
    },
    {
      "cell_type": "code",
      "metadata": {
        "id": "IJfJaLbvexZu",
        "colab_type": "code",
        "colab": {
          "base_uri": "https://localhost:8080/",
          "height": 50
        },
        "outputId": "620f733e-fc44-4dff-bbdc-e791c1d933db"
      },
      "source": [
        "#Create numpy array of images\n",
        "X = []\n",
        "files = glob.glob (rootpath+\"*.jpg\")\n",
        "#print(files)\n",
        "files.sort()\n",
        "# files = sorted(files)\n",
        "for myFile in files:\n",
        "    #print(myFile)\n",
        "    image = cv2.imread (myFile,0)\n",
        "    X.append (image)\n",
        "\n",
        "X = np.array(X)\n",
        "print('X_data shape:', X.shape)\n",
        "print(len(X))"
      ],
      "execution_count": 3,
      "outputs": [
        {
          "output_type": "stream",
          "text": [
            "X_data shape: (471, 300, 300)\n",
            "471\n"
          ],
          "name": "stdout"
        }
      ]
    },
    {
      "cell_type": "code",
      "metadata": {
        "id": "Pgsi1H7yexYN",
        "colab_type": "code",
        "colab": {}
      },
      "source": [
        "y = ['No','No',\n",
        "     'No','No',\n",
        "     'No','No',\n",
        "     'No','Yes','Yes','Yes','No','No','No','No','No','No','No','Yes','No','No','No','Yes',\n",
        "     'No','No','No','Yes','No','No','No','No','Yes','No','No','No','No','Yes','No','No',\n",
        "     'No','No','No','No','No','No','No','No','No','No','Yes','No','No','No','No','No',\n",
        "     'No','No','No','No','No','No','No','No','No','No','No','No','No','No','No','No', #6\n",
        "     'No','No', \n",
        "     'Yes','No',\n",
        "     'No','No',\n",
        "     'No','Yes',\n",
        "     'Yes','Yes',\n",
        "     'Yes','No',\n",
        "     'Yes','No', #13\n",
        "     'No','No','No','No','No','No','No','No','No','No','No','No','No','Yes','No','No', #14\n",
        "     'No','No','No','No','No','No','No','No','No','No','No','No','No','No','No','No',\n",
        "     'No','No','No','No','No','No','No','No','No','No','No','Yes','No','No','No','No',\n",
        "     'No','No','No','No','No','Yes','No','No','No','No','No','No','No','No','No','No',\n",
        "     'No','No','Yes','No','No','Yes','Yes','No','No','Yes','Yes','Yes','Yes','No','Yes','Yes',\n",
        "     'No','No',\n",
        "     'No','No','No','No','No','No','No','No','No','No','Yes','No','No','No','No','No', #20\n",
        "     'No','No','No','No','No','No','No','No','No',\n",
        "     'No','No','No','Yes','No','No','Yes','No','No','Yes','No','No','No','No','No','No',\n",
        "     'No','No','No','Yes','Yes','Yes','No','Yes','Yes',\n",
        "     'No','No','No','No','No','Yes','No','Yes','No','No','No','No','No','No','No','No', #24\n",
        "     'No','No',\n",
        "     'No','Yes','No','No','Yes','Yes','Yes','Yes','Yes',\n",
        "     'No','Yes',\n",
        "     'No','No','No','No','Yes','Yes','No','No','No','No','Yes','No','No','No','No','No',\n",
        "     'Yes','No',\n",
        "     'No','No','No','No','No','No','No','No','No','Yes','No','No','No','No','Yes','Yes',\n",
        "     'No','No',\n",
        "     'No','No','No','Yes','No','No','Yes','Yes','No','No','No','No','No','No','Yes','Yes',\n",
        "     'Yes','No',\n",
        "     'Yes','No',\n",
        "     'No','No','No','No','No','No','No','No','No','No','No','No','No','No','No','No', #35\n",
        "     'No','No','No','No','No','No','No','No','No','No','No','No','No','No','No','No',\n",
        "     'No','No','No','No','No','No','No','No','No','Yes','No','No','No','Yes','No','No',\n",
        "     'No','Yes',\n",
        "     'No','No',\n",
        "     'No','No','No','No','No','No','Yes','No','No','No','No','No','No','No','No','No',\n",
        "     'No','No',\n",
        "     'No','No','No','No','No','No','No','No','No','No','No','No','No','No','No','No',\n",
        "     'No','No','No','No','No','No','No','No','No','No','No','No','No','Yes','No','No',\n",
        "     'No','No',\n",
        "     'No','No','No','No','No','No','No','No','No','No','No','No','Yes','No','No','No',\n",
        "     'No','No','No','No','No','No','No','No','No','No','No','No','No','No','Yes','No',\n",
        "     'No','No','No','No','No','No','No','No','No','Yes','No','No','No','No','No','No',\n",
        "     'No','No',\n",
        "     'No','No','No','Yes','No','No','Yes','No','No','No','No','No','Yes','No','No','No' #49\n",
        "    ]"
      ],
      "execution_count": 0,
      "outputs": []
    },
    {
      "cell_type": "code",
      "metadata": {
        "id": "AUuSQZP5exUX",
        "colab_type": "code",
        "colab": {
          "base_uri": "https://localhost:8080/",
          "height": 34
        },
        "outputId": "7b28a68b-8111-4a6f-d4f8-463c381c59c2"
      },
      "source": [
        "y = np.asarray(y) \n",
        "print(y.shape)"
      ],
      "execution_count": 5,
      "outputs": [
        {
          "output_type": "stream",
          "text": [
            "(471,)\n"
          ],
          "name": "stdout"
        }
      ]
    },
    {
      "cell_type": "code",
      "metadata": {
        "id": "2qVzqGSGexSz",
        "colab_type": "code",
        "colab": {}
      },
      "source": [
        "from sklearn.utils import shuffle\n",
        "# X = X.reshape(X.shape[0],X.shape[1]*X.shape[2]).T\n",
        "# y = y.reshape(y.shape[0],)\n",
        "X = np.reshape(X, [X.shape[0], X.shape[1]*X.shape[2]])\n",
        "\n",
        "X, y = shuffle(X, y, random_state=42)"
      ],
      "execution_count": 0,
      "outputs": []
    },
    {
      "cell_type": "code",
      "metadata": {
        "id": "KjBSsDX1exOt",
        "colab_type": "code",
        "colab": {}
      },
      "source": [
        "#############################   Support Vector Machine Algorithm-With PCA 1% components  ##############################"
      ],
      "execution_count": 0,
      "outputs": []
    },
    {
      "cell_type": "code",
      "metadata": {
        "id": "eRO7YznZexM9",
        "colab_type": "code",
        "colab": {}
      },
      "source": [
        "from sklearn.model_selection import train_test_split\n",
        "# test_size: what proportion of original data is used for test set\n",
        "X_train, X_test, y_train, y_test = train_test_split( X, y, test_size=0.1, random_state=0)"
      ],
      "execution_count": 0,
      "outputs": []
    },
    {
      "cell_type": "code",
      "metadata": {
        "id": "xAayUmU1exKK",
        "colab_type": "code",
        "colab": {}
      },
      "source": [
        "from sklearn.preprocessing import StandardScaler\n",
        "scaler = StandardScaler()\n",
        "# Fit on training set only.\n",
        "scaler.fit(X_train)\n",
        "# Apply transform to both the training set and the test set.\n",
        "X_train = scaler.transform(X_train)\n",
        "X_test = scaler.transform(X_test)\n"
      ],
      "execution_count": 0,
      "outputs": []
    },
    {
      "cell_type": "code",
      "metadata": {
        "id": "Dp-dHUN9exHh",
        "colab_type": "code",
        "colab": {}
      },
      "source": [
        "from sklearn.decomposition import PCA\n",
        "# Make an instance of the Model\n",
        "pca = PCA(.1)\n",
        "pca.fit(X_train)\n",
        "\n",
        "X_train = pca.transform(X_train) \n",
        "X_test = pca.transform(X_test) "
      ],
      "execution_count": 0,
      "outputs": []
    },
    {
      "cell_type": "code",
      "metadata": {
        "id": "zyapVyB0exEF",
        "colab_type": "code",
        "colab": {}
      },
      "source": [
        "from sklearn import svm\n",
        "svl = svm.SVC()"
      ],
      "execution_count": 0,
      "outputs": []
    },
    {
      "cell_type": "code",
      "metadata": {
        "id": "pkuXHrM8exCP",
        "colab_type": "code",
        "colab": {
          "base_uri": "https://localhost:8080/",
          "height": 138
        },
        "outputId": "1f220923-d00a-482f-d485-73d356fae472"
      },
      "source": [
        "svl.fit(X_train,y_train)"
      ],
      "execution_count": 12,
      "outputs": [
        {
          "output_type": "stream",
          "text": [
            "/usr/local/lib/python3.6/dist-packages/sklearn/svm/base.py:193: FutureWarning: The default value of gamma will change from 'auto' to 'scale' in version 0.22 to account better for unscaled features. Set gamma explicitly to 'auto' or 'scale' to avoid this warning.\n",
            "  \"avoid this warning.\", FutureWarning)\n"
          ],
          "name": "stderr"
        },
        {
          "output_type": "execute_result",
          "data": {
            "text/plain": [
              "SVC(C=1.0, cache_size=200, class_weight=None, coef0=0.0,\n",
              "    decision_function_shape='ovr', degree=3, gamma='auto_deprecated',\n",
              "    kernel='rbf', max_iter=-1, probability=False, random_state=None,\n",
              "    shrinking=True, tol=0.001, verbose=False)"
            ]
          },
          "metadata": {
            "tags": []
          },
          "execution_count": 12
        }
      ]
    },
    {
      "cell_type": "code",
      "metadata": {
        "id": "OiiW1vpyew-S",
        "colab_type": "code",
        "colab": {
          "base_uri": "https://localhost:8080/",
          "height": 34
        },
        "outputId": "14f1c227-838f-4ec4-bf00-bfb85d0ee178"
      },
      "source": [
        "from sklearn.metrics import accuracy_score\n",
        "\n",
        "preds2 = svl.predict(X_test)\n",
        "#print(preds2)\n",
        "\n",
        "print(\"Accuracy:\", accuracy_score(y_test,preds2))"
      ],
      "execution_count": 13,
      "outputs": [
        {
          "output_type": "stream",
          "text": [
            "Accuracy: 0.8958333333333334\n"
          ],
          "name": "stdout"
        }
      ]
    },
    {
      "cell_type": "code",
      "metadata": {
        "id": "xml4j19Qew8L",
        "colab_type": "code",
        "colab": {
          "base_uri": "https://localhost:8080/",
          "height": 87
        },
        "outputId": "df07b99b-73af-4bfc-a8b3-6489221e6303"
      },
      "source": [
        "from sklearn.metrics import f1_score\n",
        "from sklearn.metrics import cohen_kappa_score\n",
        "from sklearn.metrics import roc_auc_score\n",
        "print(f1_score(y_test, preds2, average=None))"
      ],
      "execution_count": 14,
      "outputs": [
        {
          "output_type": "stream",
          "text": [
            "[0.94505495 0.        ]\n"
          ],
          "name": "stdout"
        },
        {
          "output_type": "stream",
          "text": [
            "/usr/local/lib/python3.6/dist-packages/sklearn/metrics/classification.py:1437: UndefinedMetricWarning: F-score is ill-defined and being set to 0.0 in labels with no predicted samples.\n",
            "  'precision', 'predicted', average, warn_for)\n"
          ],
          "name": "stderr"
        }
      ]
    },
    {
      "cell_type": "code",
      "metadata": {
        "id": "UMlzBpysew4F",
        "colab_type": "code",
        "colab": {}
      },
      "source": [
        "for i in range(len(y_test)):\n",
        "    if(y_test[i]=='No'):\n",
        "        #print(y_test[i])\n",
        "        num = int(0)\n",
        "        #print(type(num))\n",
        "        y_test[i]= int(num)\n",
        "        #print(type(y_test[i]))\n",
        "        #print(y_test[i])\n",
        "    else:\n",
        "        num = int(1)\n",
        "        y_test[i]=int(num)\n",
        "        #print(type(y_test[i]))\n",
        "        \n",
        "    if(preds2[i]=='No'):\n",
        "        num = int(0)\n",
        "        preds2[i]=int(num)\n",
        "    else:\n",
        "        num = int(1)\n",
        "        preds2[i]=int(num)\n",
        "\n",
        "#print(y_test)\n",
        "#print(preds)"
      ],
      "execution_count": 0,
      "outputs": []
    },
    {
      "cell_type": "code",
      "metadata": {
        "id": "kIpUoHNdew2Z",
        "colab_type": "code",
        "colab": {}
      },
      "source": [
        "y_test = list(map(int, y_test)) \n",
        "preds2 = list(map(int, preds2)) "
      ],
      "execution_count": 0,
      "outputs": []
    },
    {
      "cell_type": "code",
      "metadata": {
        "id": "AQaCqQ9_ewyt",
        "colab_type": "code",
        "colab": {
          "base_uri": "https://localhost:8080/",
          "height": 34
        },
        "outputId": "1fdf1777-7864-4a83-def0-f663966ba1f7"
      },
      "source": [
        "print(roc_auc_score(y_test, preds2))"
      ],
      "execution_count": 17,
      "outputs": [
        {
          "output_type": "stream",
          "text": [
            "0.5\n"
          ],
          "name": "stdout"
        }
      ]
    },
    {
      "cell_type": "code",
      "metadata": {
        "id": "2ZaYV-08ewwY",
        "colab_type": "code",
        "colab": {}
      },
      "source": [
        "#############################   Support Vector Machine Algorithm-With PCA 5% components  ##############################"
      ],
      "execution_count": 0,
      "outputs": []
    },
    {
      "cell_type": "code",
      "metadata": {
        "id": "RvjWd0dofeeU",
        "colab_type": "code",
        "colab": {}
      },
      "source": [
        "from sklearn.model_selection import train_test_split\n",
        "# test_size: what proportion of original data is used for test set\n",
        "X_train, X_test, y_train, y_test = train_test_split( X, y, test_size=0.1, random_state=0)"
      ],
      "execution_count": 0,
      "outputs": []
    },
    {
      "cell_type": "code",
      "metadata": {
        "id": "5V0fkz8Lfeba",
        "colab_type": "code",
        "colab": {}
      },
      "source": [
        "from sklearn.preprocessing import StandardScaler\n",
        "scaler = StandardScaler()\n",
        "# Fit on training set only.\n",
        "scaler.fit(X_train)\n",
        "# Apply transform to both the training set and the test set.\n",
        "X_train = scaler.transform(X_train)\n",
        "X_test = scaler.transform(X_test)"
      ],
      "execution_count": 0,
      "outputs": []
    },
    {
      "cell_type": "code",
      "metadata": {
        "id": "3_JeJI0AfeY9",
        "colab_type": "code",
        "colab": {}
      },
      "source": [
        "from sklearn.decomposition import PCA\n",
        "# Make an instance of the Model\n",
        "pca = PCA(.5)\n",
        "pca.fit(X_train)\n",
        "\n",
        "X_train = pca.transform(X_train) \n",
        "X_test = pca.transform(X_test) "
      ],
      "execution_count": 0,
      "outputs": []
    },
    {
      "cell_type": "code",
      "metadata": {
        "id": "JuZ25qDQfeWL",
        "colab_type": "code",
        "colab": {}
      },
      "source": [
        "from sklearn import svm\n",
        "svl = svm.SVC()"
      ],
      "execution_count": 0,
      "outputs": []
    },
    {
      "cell_type": "code",
      "metadata": {
        "id": "eLcsP032feSX",
        "colab_type": "code",
        "colab": {
          "base_uri": "https://localhost:8080/",
          "height": 138
        },
        "outputId": "32dfe108-d83a-4453-af64-30a7f089d347"
      },
      "source": [
        "svl.fit(X_train,y_train)"
      ],
      "execution_count": 23,
      "outputs": [
        {
          "output_type": "stream",
          "text": [
            "/usr/local/lib/python3.6/dist-packages/sklearn/svm/base.py:193: FutureWarning: The default value of gamma will change from 'auto' to 'scale' in version 0.22 to account better for unscaled features. Set gamma explicitly to 'auto' or 'scale' to avoid this warning.\n",
            "  \"avoid this warning.\", FutureWarning)\n"
          ],
          "name": "stderr"
        },
        {
          "output_type": "execute_result",
          "data": {
            "text/plain": [
              "SVC(C=1.0, cache_size=200, class_weight=None, coef0=0.0,\n",
              "    decision_function_shape='ovr', degree=3, gamma='auto_deprecated',\n",
              "    kernel='rbf', max_iter=-1, probability=False, random_state=None,\n",
              "    shrinking=True, tol=0.001, verbose=False)"
            ]
          },
          "metadata": {
            "tags": []
          },
          "execution_count": 23
        }
      ]
    },
    {
      "cell_type": "code",
      "metadata": {
        "id": "wFTvHtQhfeQV",
        "colab_type": "code",
        "colab": {
          "base_uri": "https://localhost:8080/",
          "height": 34
        },
        "outputId": "7f4c38ac-d538-48dc-84a2-c6806aaca320"
      },
      "source": [
        "from sklearn.metrics import accuracy_score\n",
        "\n",
        "preds2 = svl.predict(X_test)\n",
        "#print(preds2)\n",
        "\n",
        "print(\"Accuracy:\", accuracy_score(y_test,preds2))"
      ],
      "execution_count": 24,
      "outputs": [
        {
          "output_type": "stream",
          "text": [
            "Accuracy: 0.8958333333333334\n"
          ],
          "name": "stdout"
        }
      ]
    },
    {
      "cell_type": "code",
      "metadata": {
        "id": "_47rqHW_feMR",
        "colab_type": "code",
        "colab": {
          "base_uri": "https://localhost:8080/",
          "height": 87
        },
        "outputId": "31a3e98f-4158-47de-9323-b4945dd37934"
      },
      "source": [
        "from sklearn.metrics import f1_score\n",
        "from sklearn.metrics import cohen_kappa_score\n",
        "from sklearn.metrics import roc_auc_score\n",
        "print(f1_score(y_test, preds2, average=None))"
      ],
      "execution_count": 25,
      "outputs": [
        {
          "output_type": "stream",
          "text": [
            "[0.94505495 0.        ]\n"
          ],
          "name": "stdout"
        },
        {
          "output_type": "stream",
          "text": [
            "/usr/local/lib/python3.6/dist-packages/sklearn/metrics/classification.py:1437: UndefinedMetricWarning: F-score is ill-defined and being set to 0.0 in labels with no predicted samples.\n",
            "  'precision', 'predicted', average, warn_for)\n"
          ],
          "name": "stderr"
        }
      ]
    },
    {
      "cell_type": "code",
      "metadata": {
        "id": "bT-xyO4hfeJk",
        "colab_type": "code",
        "colab": {}
      },
      "source": [
        "for i in range(len(y_test)):\n",
        "    if(y_test[i]=='No'):\n",
        "        #print(y_test[i])\n",
        "        num = int(0)\n",
        "        #print(type(num))\n",
        "        y_test[i]= int(num)\n",
        "        #print(type(y_test[i]))\n",
        "        #print(y_test[i])\n",
        "    else:\n",
        "        num = int(1)\n",
        "        y_test[i]=int(num)\n",
        "        #print(type(y_test[i]))\n",
        "        \n",
        "    if(preds2[i]=='No'):\n",
        "        num = int(0)\n",
        "        preds2[i]=int(num)\n",
        "    else:\n",
        "        num = int(1)\n",
        "        preds2[i]=int(num)\n",
        "\n",
        "#print(y_test)\n",
        "#print(preds)"
      ],
      "execution_count": 0,
      "outputs": []
    },
    {
      "cell_type": "code",
      "metadata": {
        "id": "kZhD3PeHfeGJ",
        "colab_type": "code",
        "colab": {}
      },
      "source": [
        "y_test = list(map(int, y_test)) \n",
        "preds2 = list(map(int, preds2)) "
      ],
      "execution_count": 0,
      "outputs": []
    },
    {
      "cell_type": "code",
      "metadata": {
        "id": "1aGo3P1XfeC4",
        "colab_type": "code",
        "colab": {
          "base_uri": "https://localhost:8080/",
          "height": 34
        },
        "outputId": "eb712983-1be6-4f94-c771-c3f308101782"
      },
      "source": [
        "print(roc_auc_score(y_test, preds2))"
      ],
      "execution_count": 28,
      "outputs": [
        {
          "output_type": "stream",
          "text": [
            "0.5\n"
          ],
          "name": "stdout"
        }
      ]
    },
    {
      "cell_type": "code",
      "metadata": {
        "id": "Y9CC83qCfeBT",
        "colab_type": "code",
        "colab": {}
      },
      "source": [
        "#############################   Support Vector Machine Algorithm-With PCA 10% components  ##############################"
      ],
      "execution_count": 0,
      "outputs": []
    },
    {
      "cell_type": "code",
      "metadata": {
        "id": "sp_Dmmi6fd9c",
        "colab_type": "code",
        "colab": {}
      },
      "source": [
        "from sklearn.model_selection import train_test_split\n",
        "# test_size: what proportion of original data is used for test set\n",
        "X_train, X_test, y_train, y_test = train_test_split( X, y, test_size=0.1, random_state=0)"
      ],
      "execution_count": 0,
      "outputs": []
    },
    {
      "cell_type": "code",
      "metadata": {
        "id": "vB0KoRqHfd7C",
        "colab_type": "code",
        "colab": {}
      },
      "source": [
        "from sklearn.preprocessing import StandardScaler\n",
        "scaler = StandardScaler()\n",
        "# Fit on training set only.\n",
        "scaler.fit(X_train)\n",
        "# Apply transform to both the training set and the test set.\n",
        "X_train = scaler.transform(X_train)\n",
        "X_test = scaler.transform(X_test)"
      ],
      "execution_count": 0,
      "outputs": []
    },
    {
      "cell_type": "code",
      "metadata": {
        "id": "jV_uG0Zffd3x",
        "colab_type": "code",
        "colab": {}
      },
      "source": [
        "from sklearn.decomposition import PCA\n",
        "# Make an instance of the Model\n",
        "pca = PCA(.10)\n",
        "pca.fit(X_train)\n",
        "\n",
        "X_train = pca.transform(X_train) \n",
        "X_test = pca.transform(X_test) "
      ],
      "execution_count": 0,
      "outputs": []
    },
    {
      "cell_type": "code",
      "metadata": {
        "id": "Mk1N_fLWfdz9",
        "colab_type": "code",
        "colab": {}
      },
      "source": [
        "from sklearn import svm\n",
        "svl = svm.SVC()"
      ],
      "execution_count": 0,
      "outputs": []
    },
    {
      "cell_type": "code",
      "metadata": {
        "id": "V-GUjMlQfdxT",
        "colab_type": "code",
        "colab": {
          "base_uri": "https://localhost:8080/",
          "height": 138
        },
        "outputId": "9eb9983c-dc7e-4322-aada-f84c87a6d03a"
      },
      "source": [
        "svl.fit(X_train,y_train)"
      ],
      "execution_count": 34,
      "outputs": [
        {
          "output_type": "stream",
          "text": [
            "/usr/local/lib/python3.6/dist-packages/sklearn/svm/base.py:193: FutureWarning: The default value of gamma will change from 'auto' to 'scale' in version 0.22 to account better for unscaled features. Set gamma explicitly to 'auto' or 'scale' to avoid this warning.\n",
            "  \"avoid this warning.\", FutureWarning)\n"
          ],
          "name": "stderr"
        },
        {
          "output_type": "execute_result",
          "data": {
            "text/plain": [
              "SVC(C=1.0, cache_size=200, class_weight=None, coef0=0.0,\n",
              "    decision_function_shape='ovr', degree=3, gamma='auto_deprecated',\n",
              "    kernel='rbf', max_iter=-1, probability=False, random_state=None,\n",
              "    shrinking=True, tol=0.001, verbose=False)"
            ]
          },
          "metadata": {
            "tags": []
          },
          "execution_count": 34
        }
      ]
    },
    {
      "cell_type": "code",
      "metadata": {
        "id": "tiRxBpJHfdsL",
        "colab_type": "code",
        "colab": {
          "base_uri": "https://localhost:8080/",
          "height": 34
        },
        "outputId": "3ced56e1-3dc8-4192-c7f3-41b20242e112"
      },
      "source": [
        "from sklearn.metrics import accuracy_score\n",
        "\n",
        "preds2 = svl.predict(X_test)\n",
        "#print(preds2)\n",
        "\n",
        "print(\"Accuracy:\", accuracy_score(y_test,preds2))"
      ],
      "execution_count": 35,
      "outputs": [
        {
          "output_type": "stream",
          "text": [
            "Accuracy: 0.8958333333333334\n"
          ],
          "name": "stdout"
        }
      ]
    },
    {
      "cell_type": "code",
      "metadata": {
        "id": "CDPq2wCkfdoQ",
        "colab_type": "code",
        "colab": {
          "base_uri": "https://localhost:8080/",
          "height": 87
        },
        "outputId": "643708e3-a8b9-4bdc-a43d-21ef940908a6"
      },
      "source": [
        "from sklearn.metrics import f1_score\n",
        "from sklearn.metrics import cohen_kappa_score\n",
        "from sklearn.metrics import roc_auc_score\n",
        "print(f1_score(y_test, preds2, average=None))"
      ],
      "execution_count": 36,
      "outputs": [
        {
          "output_type": "stream",
          "text": [
            "[0.94505495 0.        ]\n"
          ],
          "name": "stdout"
        },
        {
          "output_type": "stream",
          "text": [
            "/usr/local/lib/python3.6/dist-packages/sklearn/metrics/classification.py:1437: UndefinedMetricWarning: F-score is ill-defined and being set to 0.0 in labels with no predicted samples.\n",
            "  'precision', 'predicted', average, warn_for)\n"
          ],
          "name": "stderr"
        }
      ]
    },
    {
      "cell_type": "code",
      "metadata": {
        "id": "d25D3vHxfdlw",
        "colab_type": "code",
        "colab": {}
      },
      "source": [
        "for i in range(len(y_test)):\n",
        "    if(y_test[i]=='No'):\n",
        "        #print(y_test[i])\n",
        "        num = int(0)\n",
        "        #print(type(num))\n",
        "        y_test[i]= int(num)\n",
        "        #print(type(y_test[i]))\n",
        "        #print(y_test[i])\n",
        "    else:\n",
        "        num = int(1)\n",
        "        y_test[i]=int(num)\n",
        "        #print(type(y_test[i]))\n",
        "        \n",
        "    if(preds2[i]=='No'):\n",
        "        num = int(0)\n",
        "        preds2[i]=int(num)\n",
        "    else:\n",
        "        num = int(1)\n",
        "        preds2[i]=int(num)\n",
        "\n",
        "#print(y_test)\n",
        "#print(preds)"
      ],
      "execution_count": 0,
      "outputs": []
    },
    {
      "cell_type": "code",
      "metadata": {
        "id": "XPHPiVvNfdiJ",
        "colab_type": "code",
        "colab": {}
      },
      "source": [
        "y_test = list(map(int, y_test)) \n",
        "preds2 = list(map(int, preds2)) "
      ],
      "execution_count": 0,
      "outputs": []
    },
    {
      "cell_type": "code",
      "metadata": {
        "id": "-UlOD_PZfde0",
        "colab_type": "code",
        "colab": {
          "base_uri": "https://localhost:8080/",
          "height": 34
        },
        "outputId": "adb0c94b-8023-47f5-e369-3d95fa7bbdd1"
      },
      "source": [
        "print(roc_auc_score(y_test, preds2))"
      ],
      "execution_count": 39,
      "outputs": [
        {
          "output_type": "stream",
          "text": [
            "0.5\n"
          ],
          "name": "stdout"
        }
      ]
    },
    {
      "cell_type": "code",
      "metadata": {
        "id": "i3jkuTYqfdcJ",
        "colab_type": "code",
        "colab": {}
      },
      "source": [
        "#############################   Support Vector Machine Algorithm-With PCA 20% components  ##############################"
      ],
      "execution_count": 0,
      "outputs": []
    },
    {
      "cell_type": "code",
      "metadata": {
        "id": "NbEWltFOfdYn",
        "colab_type": "code",
        "colab": {}
      },
      "source": [
        "from sklearn.model_selection import train_test_split\n",
        "# test_size: what proportion of original data is used for test set\n",
        "X_train, X_test, y_train, y_test = train_test_split( X, y, test_size=0.1, random_state=0)"
      ],
      "execution_count": 0,
      "outputs": []
    },
    {
      "cell_type": "code",
      "metadata": {
        "id": "SvGdj9r4fdWN",
        "colab_type": "code",
        "colab": {}
      },
      "source": [
        "from sklearn.preprocessing import StandardScaler\n",
        "scaler = StandardScaler()\n",
        "# Fit on training set only.\n",
        "scaler.fit(X_train)\n",
        "# Apply transform to both the training set and the test set.\n",
        "X_train = scaler.transform(X_train)\n",
        "X_test = scaler.transform(X_test)"
      ],
      "execution_count": 0,
      "outputs": []
    },
    {
      "cell_type": "code",
      "metadata": {
        "id": "28zzmjOnfdS6",
        "colab_type": "code",
        "colab": {}
      },
      "source": [
        "from sklearn.decomposition import PCA\n",
        "# Make an instance of the Model\n",
        "pca = PCA(.20)\n",
        "pca.fit(X_train)\n",
        "\n",
        "X_train = pca.transform(X_train) \n",
        "X_test = pca.transform(X_test) "
      ],
      "execution_count": 0,
      "outputs": []
    },
    {
      "cell_type": "code",
      "metadata": {
        "id": "tIMb0A-hfdQM",
        "colab_type": "code",
        "colab": {}
      },
      "source": [
        "from sklearn import svm\n",
        "svl = svm.SVC()"
      ],
      "execution_count": 0,
      "outputs": []
    },
    {
      "cell_type": "code",
      "metadata": {
        "id": "a0JloP7ofdN7",
        "colab_type": "code",
        "colab": {
          "base_uri": "https://localhost:8080/",
          "height": 138
        },
        "outputId": "65b6e6e8-904d-4bec-f53f-4960a2742608"
      },
      "source": [
        "svl.fit(X_train,y_train)"
      ],
      "execution_count": 45,
      "outputs": [
        {
          "output_type": "stream",
          "text": [
            "/usr/local/lib/python3.6/dist-packages/sklearn/svm/base.py:193: FutureWarning: The default value of gamma will change from 'auto' to 'scale' in version 0.22 to account better for unscaled features. Set gamma explicitly to 'auto' or 'scale' to avoid this warning.\n",
            "  \"avoid this warning.\", FutureWarning)\n"
          ],
          "name": "stderr"
        },
        {
          "output_type": "execute_result",
          "data": {
            "text/plain": [
              "SVC(C=1.0, cache_size=200, class_weight=None, coef0=0.0,\n",
              "    decision_function_shape='ovr', degree=3, gamma='auto_deprecated',\n",
              "    kernel='rbf', max_iter=-1, probability=False, random_state=None,\n",
              "    shrinking=True, tol=0.001, verbose=False)"
            ]
          },
          "metadata": {
            "tags": []
          },
          "execution_count": 45
        }
      ]
    },
    {
      "cell_type": "code",
      "metadata": {
        "id": "r3IV8GFTfdJ8",
        "colab_type": "code",
        "colab": {
          "base_uri": "https://localhost:8080/",
          "height": 34
        },
        "outputId": "1144ff38-ec3e-4200-beb7-a3fa65120a3b"
      },
      "source": [
        "from sklearn.metrics import accuracy_score\n",
        "\n",
        "preds2 = svl.predict(X_test)\n",
        "#print(preds2)\n",
        "\n",
        "print(\"Accuracy:\", accuracy_score(y_test,preds2))"
      ],
      "execution_count": 46,
      "outputs": [
        {
          "output_type": "stream",
          "text": [
            "Accuracy: 0.8958333333333334\n"
          ],
          "name": "stdout"
        }
      ]
    },
    {
      "cell_type": "code",
      "metadata": {
        "id": "e6j2y5UnfdHt",
        "colab_type": "code",
        "colab": {
          "base_uri": "https://localhost:8080/",
          "height": 87
        },
        "outputId": "0560282e-e773-4806-fce3-d29c442099c0"
      },
      "source": [
        "from sklearn.metrics import f1_score\n",
        "from sklearn.metrics import cohen_kappa_score\n",
        "from sklearn.metrics import roc_auc_score\n",
        "print(f1_score(y_test, preds2, average=None))"
      ],
      "execution_count": 47,
      "outputs": [
        {
          "output_type": "stream",
          "text": [
            "[0.94505495 0.        ]\n"
          ],
          "name": "stdout"
        },
        {
          "output_type": "stream",
          "text": [
            "/usr/local/lib/python3.6/dist-packages/sklearn/metrics/classification.py:1437: UndefinedMetricWarning: F-score is ill-defined and being set to 0.0 in labels with no predicted samples.\n",
            "  'precision', 'predicted', average, warn_for)\n"
          ],
          "name": "stderr"
        }
      ]
    },
    {
      "cell_type": "code",
      "metadata": {
        "id": "j3M9nHyufdEk",
        "colab_type": "code",
        "colab": {}
      },
      "source": [
        "for i in range(len(y_test)):\n",
        "    if(y_test[i]=='No'):\n",
        "        #print(y_test[i])\n",
        "        num = int(0)\n",
        "        #print(type(num))\n",
        "        y_test[i]= int(num)\n",
        "        #print(type(y_test[i]))\n",
        "        #print(y_test[i])\n",
        "    else:\n",
        "        num = int(1)\n",
        "        y_test[i]=int(num)\n",
        "        #print(type(y_test[i]))\n",
        "        \n",
        "    if(preds2[i]=='No'):\n",
        "        num = int(0)\n",
        "        preds2[i]=int(num)\n",
        "    else:\n",
        "        num = int(1)\n",
        "        preds2[i]=int(num)\n",
        "\n",
        "#print(y_test)\n",
        "#print(preds)"
      ],
      "execution_count": 0,
      "outputs": []
    },
    {
      "cell_type": "code",
      "metadata": {
        "id": "SVtyeraffdBZ",
        "colab_type": "code",
        "colab": {}
      },
      "source": [
        "y_test = list(map(int, y_test)) \n",
        "preds2 = list(map(int, preds2)) "
      ],
      "execution_count": 0,
      "outputs": []
    },
    {
      "cell_type": "code",
      "metadata": {
        "id": "w8xU8raRfc_b",
        "colab_type": "code",
        "colab": {
          "base_uri": "https://localhost:8080/",
          "height": 34
        },
        "outputId": "f31014e3-36c7-4862-abd0-5f308c6637cb"
      },
      "source": [
        "print(roc_auc_score(y_test, preds2))"
      ],
      "execution_count": 50,
      "outputs": [
        {
          "output_type": "stream",
          "text": [
            "0.5\n"
          ],
          "name": "stdout"
        }
      ]
    },
    {
      "cell_type": "code",
      "metadata": {
        "id": "N6PfNiWIfc8Q",
        "colab_type": "code",
        "colab": {}
      },
      "source": [
        "#############################   Support Vector Machine Algorithm-With PCA 30% components  ##############################"
      ],
      "execution_count": 0,
      "outputs": []
    },
    {
      "cell_type": "code",
      "metadata": {
        "id": "lRpuUlPtfc5p",
        "colab_type": "code",
        "colab": {}
      },
      "source": [
        "from sklearn.model_selection import train_test_split\n",
        "# test_size: what proportion of original data is used for test set\n",
        "X_train, X_test, y_train, y_test = train_test_split( X, y, test_size=0.1, random_state=0)"
      ],
      "execution_count": 0,
      "outputs": []
    },
    {
      "cell_type": "code",
      "metadata": {
        "id": "bv-M6g6lfc2U",
        "colab_type": "code",
        "colab": {}
      },
      "source": [
        "from sklearn.preprocessing import StandardScaler\n",
        "scaler = StandardScaler()\n",
        "# Fit on training set only.\n",
        "scaler.fit(X_train)\n",
        "# Apply transform to both the training set and the test set.\n",
        "X_train = scaler.transform(X_train)\n",
        "X_test = scaler.transform(X_test)"
      ],
      "execution_count": 0,
      "outputs": []
    },
    {
      "cell_type": "code",
      "metadata": {
        "id": "vcORFOHlfczm",
        "colab_type": "code",
        "colab": {}
      },
      "source": [
        "from sklearn.decomposition import PCA\n",
        "# Make an instance of the Model\n",
        "pca = PCA(.30)\n",
        "pca.fit(X_train)\n",
        "\n",
        "X_train = pca.transform(X_train) \n",
        "X_test = pca.transform(X_test) "
      ],
      "execution_count": 0,
      "outputs": []
    },
    {
      "cell_type": "code",
      "metadata": {
        "id": "DdsU6Gsufcxc",
        "colab_type": "code",
        "colab": {}
      },
      "source": [
        "from sklearn import svm\n",
        "svl = svm.SVC()"
      ],
      "execution_count": 0,
      "outputs": []
    },
    {
      "cell_type": "code",
      "metadata": {
        "id": "q-jC1KMffcte",
        "colab_type": "code",
        "colab": {
          "base_uri": "https://localhost:8080/",
          "height": 138
        },
        "outputId": "38b279bf-1a6f-41cc-8fb9-e0c7a9703269"
      },
      "source": [
        "svl.fit(X_train,y_train)"
      ],
      "execution_count": 56,
      "outputs": [
        {
          "output_type": "stream",
          "text": [
            "/usr/local/lib/python3.6/dist-packages/sklearn/svm/base.py:193: FutureWarning: The default value of gamma will change from 'auto' to 'scale' in version 0.22 to account better for unscaled features. Set gamma explicitly to 'auto' or 'scale' to avoid this warning.\n",
            "  \"avoid this warning.\", FutureWarning)\n"
          ],
          "name": "stderr"
        },
        {
          "output_type": "execute_result",
          "data": {
            "text/plain": [
              "SVC(C=1.0, cache_size=200, class_weight=None, coef0=0.0,\n",
              "    decision_function_shape='ovr', degree=3, gamma='auto_deprecated',\n",
              "    kernel='rbf', max_iter=-1, probability=False, random_state=None,\n",
              "    shrinking=True, tol=0.001, verbose=False)"
            ]
          },
          "metadata": {
            "tags": []
          },
          "execution_count": 56
        }
      ]
    },
    {
      "cell_type": "code",
      "metadata": {
        "id": "M0jvctvefcrt",
        "colab_type": "code",
        "colab": {
          "base_uri": "https://localhost:8080/",
          "height": 34
        },
        "outputId": "99c00b9b-9614-4b46-8c36-fe72e63fc198"
      },
      "source": [
        "from sklearn.metrics import accuracy_score\n",
        "\n",
        "preds2 = svl.predict(X_test)\n",
        "#print(preds2)\n",
        "\n",
        "print(\"Accuracy:\", accuracy_score(y_test,preds2))"
      ],
      "execution_count": 57,
      "outputs": [
        {
          "output_type": "stream",
          "text": [
            "Accuracy: 0.8958333333333334\n"
          ],
          "name": "stdout"
        }
      ]
    },
    {
      "cell_type": "code",
      "metadata": {
        "id": "MZVFcm6TfcpQ",
        "colab_type": "code",
        "colab": {
          "base_uri": "https://localhost:8080/",
          "height": 87
        },
        "outputId": "0f6e043d-6b1d-48a7-8666-15ce29ec7c07"
      },
      "source": [
        "from sklearn.metrics import f1_score\n",
        "from sklearn.metrics import cohen_kappa_score\n",
        "from sklearn.metrics import roc_auc_score\n",
        "print(f1_score(y_test, preds2, average=None))"
      ],
      "execution_count": 58,
      "outputs": [
        {
          "output_type": "stream",
          "text": [
            "[0.94505495 0.        ]\n"
          ],
          "name": "stdout"
        },
        {
          "output_type": "stream",
          "text": [
            "/usr/local/lib/python3.6/dist-packages/sklearn/metrics/classification.py:1437: UndefinedMetricWarning: F-score is ill-defined and being set to 0.0 in labels with no predicted samples.\n",
            "  'precision', 'predicted', average, warn_for)\n"
          ],
          "name": "stderr"
        }
      ]
    },
    {
      "cell_type": "code",
      "metadata": {
        "id": "olJ_ryBifcmd",
        "colab_type": "code",
        "colab": {}
      },
      "source": [
        "for i in range(len(y_test)):\n",
        "    if(y_test[i]=='No'):\n",
        "        #print(y_test[i])\n",
        "        num = int(0)\n",
        "        #print(type(num))\n",
        "        y_test[i]= int(num)\n",
        "        #print(type(y_test[i]))\n",
        "        #print(y_test[i])\n",
        "    else:\n",
        "        num = int(1)\n",
        "        y_test[i]=int(num)\n",
        "        #print(type(y_test[i]))\n",
        "        \n",
        "    if(preds2[i]=='No'):\n",
        "        num = int(0)\n",
        "        preds2[i]=int(num)\n",
        "    else:\n",
        "        num = int(1)\n",
        "        preds2[i]=int(num)\n",
        "\n",
        "#print(y_test)\n",
        "#print(preds)"
      ],
      "execution_count": 0,
      "outputs": []
    },
    {
      "cell_type": "code",
      "metadata": {
        "id": "_nSJdrPXfciP",
        "colab_type": "code",
        "colab": {}
      },
      "source": [
        "y_test = list(map(int, y_test)) \n",
        "preds2 = list(map(int, preds2)) "
      ],
      "execution_count": 0,
      "outputs": []
    },
    {
      "cell_type": "code",
      "metadata": {
        "id": "SrvkiuJafcfz",
        "colab_type": "code",
        "colab": {
          "base_uri": "https://localhost:8080/",
          "height": 34
        },
        "outputId": "1134e257-61a5-43b6-ae54-0c6ee9117656"
      },
      "source": [
        "print(roc_auc_score(y_test, preds2))"
      ],
      "execution_count": 61,
      "outputs": [
        {
          "output_type": "stream",
          "text": [
            "0.5\n"
          ],
          "name": "stdout"
        }
      ]
    },
    {
      "cell_type": "code",
      "metadata": {
        "id": "OVF-8udxfccs",
        "colab_type": "code",
        "colab": {}
      },
      "source": [
        "#############################   Support Vector Machine Algorithm-With PCA 40% components  ##############################"
      ],
      "execution_count": 0,
      "outputs": []
    },
    {
      "cell_type": "code",
      "metadata": {
        "id": "RCqjxXJDfcZg",
        "colab_type": "code",
        "colab": {}
      },
      "source": [
        "from sklearn.model_selection import train_test_split\n",
        "# test_size: what proportion of original data is used for test set\n",
        "X_train, X_test, y_train, y_test = train_test_split( X, y, test_size=0.1, random_state=0)"
      ],
      "execution_count": 0,
      "outputs": []
    },
    {
      "cell_type": "code",
      "metadata": {
        "id": "UxEg7iLBfcXt",
        "colab_type": "code",
        "colab": {}
      },
      "source": [
        "from sklearn.preprocessing import StandardScaler\n",
        "scaler = StandardScaler()\n",
        "# Fit on training set only.\n",
        "scaler.fit(X_train)\n",
        "# Apply transform to both the training set and the test set.\n",
        "X_train = scaler.transform(X_train)\n",
        "X_test = scaler.transform(X_test)"
      ],
      "execution_count": 0,
      "outputs": []
    },
    {
      "cell_type": "code",
      "metadata": {
        "id": "ERbpLL0KfcTz",
        "colab_type": "code",
        "colab": {}
      },
      "source": [
        "from sklearn.decomposition import PCA\n",
        "# Make an instance of the Model\n",
        "pca = PCA(.40)\n",
        "pca.fit(X_train)\n",
        "\n",
        "X_train = pca.transform(X_train) \n",
        "X_test = pca.transform(X_test) "
      ],
      "execution_count": 0,
      "outputs": []
    },
    {
      "cell_type": "code",
      "metadata": {
        "id": "IjEx4Y6QfcQk",
        "colab_type": "code",
        "colab": {}
      },
      "source": [
        "from sklearn import svm\n",
        "svl = svm.SVC()"
      ],
      "execution_count": 0,
      "outputs": []
    },
    {
      "cell_type": "code",
      "metadata": {
        "id": "BzbaHxtSfcNy",
        "colab_type": "code",
        "colab": {
          "base_uri": "https://localhost:8080/",
          "height": 138
        },
        "outputId": "cbd28405-81a9-40c8-c5de-6b1ed3ec7075"
      },
      "source": [
        "svl.fit(X_train,y_train)"
      ],
      "execution_count": 67,
      "outputs": [
        {
          "output_type": "stream",
          "text": [
            "/usr/local/lib/python3.6/dist-packages/sklearn/svm/base.py:193: FutureWarning: The default value of gamma will change from 'auto' to 'scale' in version 0.22 to account better for unscaled features. Set gamma explicitly to 'auto' or 'scale' to avoid this warning.\n",
            "  \"avoid this warning.\", FutureWarning)\n"
          ],
          "name": "stderr"
        },
        {
          "output_type": "execute_result",
          "data": {
            "text/plain": [
              "SVC(C=1.0, cache_size=200, class_weight=None, coef0=0.0,\n",
              "    decision_function_shape='ovr', degree=3, gamma='auto_deprecated',\n",
              "    kernel='rbf', max_iter=-1, probability=False, random_state=None,\n",
              "    shrinking=True, tol=0.001, verbose=False)"
            ]
          },
          "metadata": {
            "tags": []
          },
          "execution_count": 67
        }
      ]
    },
    {
      "cell_type": "code",
      "metadata": {
        "id": "ZPKwhwSifcLM",
        "colab_type": "code",
        "colab": {
          "base_uri": "https://localhost:8080/",
          "height": 34
        },
        "outputId": "900dd5bc-58b7-4260-a083-ba77edcef235"
      },
      "source": [
        "from sklearn.metrics import accuracy_score\n",
        "\n",
        "preds2 = svl.predict(X_test)\n",
        "#print(preds2)\n",
        "\n",
        "print(\"Accuracy:\", accuracy_score(y_test,preds2))"
      ],
      "execution_count": 68,
      "outputs": [
        {
          "output_type": "stream",
          "text": [
            "Accuracy: 0.8958333333333334\n"
          ],
          "name": "stdout"
        }
      ]
    },
    {
      "cell_type": "code",
      "metadata": {
        "id": "TqwHaGnNfcIX",
        "colab_type": "code",
        "colab": {
          "base_uri": "https://localhost:8080/",
          "height": 87
        },
        "outputId": "0aa9252d-05cb-4ac0-902f-5207877a59db"
      },
      "source": [
        "from sklearn.metrics import f1_score\n",
        "from sklearn.metrics import cohen_kappa_score\n",
        "from sklearn.metrics import roc_auc_score\n",
        "print(f1_score(y_test, preds2, average=None))"
      ],
      "execution_count": 69,
      "outputs": [
        {
          "output_type": "stream",
          "text": [
            "[0.94505495 0.        ]\n"
          ],
          "name": "stdout"
        },
        {
          "output_type": "stream",
          "text": [
            "/usr/local/lib/python3.6/dist-packages/sklearn/metrics/classification.py:1437: UndefinedMetricWarning: F-score is ill-defined and being set to 0.0 in labels with no predicted samples.\n",
            "  'precision', 'predicted', average, warn_for)\n"
          ],
          "name": "stderr"
        }
      ]
    },
    {
      "cell_type": "code",
      "metadata": {
        "id": "uKZY9VRvfcC3",
        "colab_type": "code",
        "colab": {}
      },
      "source": [
        "for i in range(len(y_test)):\n",
        "    if(y_test[i]=='No'):\n",
        "        #print(y_test[i])\n",
        "        num = int(0)\n",
        "        #print(type(num))\n",
        "        y_test[i]= int(num)\n",
        "        #print(type(y_test[i]))\n",
        "        #print(y_test[i])\n",
        "    else:\n",
        "        num = int(1)\n",
        "        y_test[i]=int(num)\n",
        "        #print(type(y_test[i]))\n",
        "        \n",
        "    if(preds2[i]=='No'):\n",
        "        num = int(0)\n",
        "        preds2[i]=int(num)\n",
        "    else:\n",
        "        num = int(1)\n",
        "        preds2[i]=int(num)\n",
        "\n",
        "#print(y_test)\n",
        "#print(preds)"
      ],
      "execution_count": 0,
      "outputs": []
    },
    {
      "cell_type": "code",
      "metadata": {
        "id": "JqrA2s2RfcAT",
        "colab_type": "code",
        "colab": {}
      },
      "source": [
        "y_test = list(map(int, y_test)) \n",
        "preds2 = list(map(int, preds2)) "
      ],
      "execution_count": 0,
      "outputs": []
    },
    {
      "cell_type": "code",
      "metadata": {
        "id": "j-HceRhdfb-O",
        "colab_type": "code",
        "colab": {
          "base_uri": "https://localhost:8080/",
          "height": 34
        },
        "outputId": "88f73c25-182e-4bb3-f063-66b324e44b0f"
      },
      "source": [
        "print(roc_auc_score(y_test, preds2))"
      ],
      "execution_count": 72,
      "outputs": [
        {
          "output_type": "stream",
          "text": [
            "0.5\n"
          ],
          "name": "stdout"
        }
      ]
    },
    {
      "cell_type": "code",
      "metadata": {
        "id": "wPZUl66Nfb6l",
        "colab_type": "code",
        "colab": {}
      },
      "source": [
        "#############################   Support Vector Machine Algorithm-With PCA 60% components  ##############################"
      ],
      "execution_count": 0,
      "outputs": []
    },
    {
      "cell_type": "code",
      "metadata": {
        "id": "MEQVUlgsfb3W",
        "colab_type": "code",
        "colab": {}
      },
      "source": [
        "from sklearn.model_selection import train_test_split\n",
        "# test_size: what proportion of original data is used for test set\n",
        "X_train, X_test, y_train, y_test = train_test_split( X, y, test_size=0.1, random_state=0)"
      ],
      "execution_count": 0,
      "outputs": []
    },
    {
      "cell_type": "code",
      "metadata": {
        "id": "hcuOWkFefb0z",
        "colab_type": "code",
        "colab": {}
      },
      "source": [
        "from sklearn.preprocessing import StandardScaler\n",
        "scaler = StandardScaler()\n",
        "# Fit on training set only.\n",
        "scaler.fit(X_train)\n",
        "# Apply transform to both the training set and the test set.\n",
        "X_train = scaler.transform(X_train)\n",
        "X_test = scaler.transform(X_test)"
      ],
      "execution_count": 0,
      "outputs": []
    },
    {
      "cell_type": "code",
      "metadata": {
        "id": "SLEdsGGlfbyd",
        "colab_type": "code",
        "colab": {}
      },
      "source": [
        "from sklearn.decomposition import PCA\n",
        "# Make an instance of the Model\n",
        "pca = PCA(.60)\n",
        "pca.fit(X_train)\n",
        "\n",
        "X_train = pca.transform(X_train) \n",
        "X_test = pca.transform(X_test) "
      ],
      "execution_count": 0,
      "outputs": []
    },
    {
      "cell_type": "code",
      "metadata": {
        "id": "6ZeeEKmNfbvy",
        "colab_type": "code",
        "colab": {}
      },
      "source": [
        "from sklearn import svm\n",
        "svl = svm.SVC()"
      ],
      "execution_count": 0,
      "outputs": []
    },
    {
      "cell_type": "code",
      "metadata": {
        "id": "kFvVpZz9fbtE",
        "colab_type": "code",
        "colab": {
          "base_uri": "https://localhost:8080/",
          "height": 138
        },
        "outputId": "25caf731-5193-43a7-d793-05aee066780d"
      },
      "source": [
        "svl.fit(X_train,y_train)"
      ],
      "execution_count": 78,
      "outputs": [
        {
          "output_type": "stream",
          "text": [
            "/usr/local/lib/python3.6/dist-packages/sklearn/svm/base.py:193: FutureWarning: The default value of gamma will change from 'auto' to 'scale' in version 0.22 to account better for unscaled features. Set gamma explicitly to 'auto' or 'scale' to avoid this warning.\n",
            "  \"avoid this warning.\", FutureWarning)\n"
          ],
          "name": "stderr"
        },
        {
          "output_type": "execute_result",
          "data": {
            "text/plain": [
              "SVC(C=1.0, cache_size=200, class_weight=None, coef0=0.0,\n",
              "    decision_function_shape='ovr', degree=3, gamma='auto_deprecated',\n",
              "    kernel='rbf', max_iter=-1, probability=False, random_state=None,\n",
              "    shrinking=True, tol=0.001, verbose=False)"
            ]
          },
          "metadata": {
            "tags": []
          },
          "execution_count": 78
        }
      ]
    },
    {
      "cell_type": "code",
      "metadata": {
        "id": "TpyUUCnvfbqU",
        "colab_type": "code",
        "colab": {
          "base_uri": "https://localhost:8080/",
          "height": 34
        },
        "outputId": "82078616-7dc5-499e-f3cf-34a8f27c9506"
      },
      "source": [
        "from sklearn.metrics import accuracy_score\n",
        "\n",
        "preds2 = svl.predict(X_test)\n",
        "#print(preds2)\n",
        "\n",
        "print(\"Accuracy:\", accuracy_score(y_test,preds2))"
      ],
      "execution_count": 79,
      "outputs": [
        {
          "output_type": "stream",
          "text": [
            "Accuracy: 0.8958333333333334\n"
          ],
          "name": "stdout"
        }
      ]
    },
    {
      "cell_type": "code",
      "metadata": {
        "id": "nFYOPT0sfbnO",
        "colab_type": "code",
        "colab": {
          "base_uri": "https://localhost:8080/",
          "height": 87
        },
        "outputId": "0ec04914-6e87-48c7-fdf2-164252e0c27d"
      },
      "source": [
        "from sklearn.metrics import f1_score\n",
        "from sklearn.metrics import cohen_kappa_score\n",
        "from sklearn.metrics import roc_auc_score\n",
        "print(f1_score(y_test, preds2, average=None))"
      ],
      "execution_count": 80,
      "outputs": [
        {
          "output_type": "stream",
          "text": [
            "[0.94505495 0.        ]\n"
          ],
          "name": "stdout"
        },
        {
          "output_type": "stream",
          "text": [
            "/usr/local/lib/python3.6/dist-packages/sklearn/metrics/classification.py:1437: UndefinedMetricWarning: F-score is ill-defined and being set to 0.0 in labels with no predicted samples.\n",
            "  'precision', 'predicted', average, warn_for)\n"
          ],
          "name": "stderr"
        }
      ]
    },
    {
      "cell_type": "code",
      "metadata": {
        "id": "JnHZDWzefbkp",
        "colab_type": "code",
        "colab": {}
      },
      "source": [
        "for i in range(len(y_test)):\n",
        "    if(y_test[i]=='No'):\n",
        "        #print(y_test[i])\n",
        "        num = int(0)\n",
        "        #print(type(num))\n",
        "        y_test[i]= int(num)\n",
        "        #print(type(y_test[i]))\n",
        "        #print(y_test[i])\n",
        "    else:\n",
        "        num = int(1)\n",
        "        y_test[i]=int(num)\n",
        "        #print(type(y_test[i]))\n",
        "        \n",
        "    if(preds2[i]=='No'):\n",
        "        num = int(0)\n",
        "        preds2[i]=int(num)\n",
        "    else:\n",
        "        num = int(1)\n",
        "        preds2[i]=int(num)\n",
        "\n",
        "#print(y_test)\n",
        "#print(preds)"
      ],
      "execution_count": 0,
      "outputs": []
    },
    {
      "cell_type": "code",
      "metadata": {
        "id": "mnmbT0BUfbhm",
        "colab_type": "code",
        "colab": {}
      },
      "source": [
        "y_test = list(map(int, y_test)) \n",
        "preds2 = list(map(int, preds2)) "
      ],
      "execution_count": 0,
      "outputs": []
    },
    {
      "cell_type": "code",
      "metadata": {
        "id": "tdJVTTL9fbe7",
        "colab_type": "code",
        "colab": {
          "base_uri": "https://localhost:8080/",
          "height": 34
        },
        "outputId": "569ca101-cd85-4577-9366-3873f22c5f80"
      },
      "source": [
        "print(roc_auc_score(y_test, preds2))"
      ],
      "execution_count": 83,
      "outputs": [
        {
          "output_type": "stream",
          "text": [
            "0.5\n"
          ],
          "name": "stdout"
        }
      ]
    },
    {
      "cell_type": "code",
      "metadata": {
        "id": "AooGOXucfbb3",
        "colab_type": "code",
        "colab": {}
      },
      "source": [
        "#############################   Support Vector Machine Algorithm-With PCA 80% components  ##############################"
      ],
      "execution_count": 0,
      "outputs": []
    },
    {
      "cell_type": "code",
      "metadata": {
        "id": "DiZ1WL5FfbYn",
        "colab_type": "code",
        "colab": {}
      },
      "source": [
        "from sklearn.model_selection import train_test_split\n",
        "# test_size: what proportion of original data is used for test set\n",
        "X_train, X_test, y_train, y_test = train_test_split( X, y, test_size=0.1, random_state=0)"
      ],
      "execution_count": 0,
      "outputs": []
    },
    {
      "cell_type": "code",
      "metadata": {
        "id": "Hlnbs_2dewtF",
        "colab_type": "code",
        "colab": {}
      },
      "source": [
        "from sklearn.preprocessing import StandardScaler\n",
        "scaler = StandardScaler()\n",
        "# Fit on training set only.\n",
        "scaler.fit(X_train)\n",
        "# Apply transform to both the training set and the test set.\n",
        "X_train = scaler.transform(X_train)\n",
        "X_test = scaler.transform(X_test)"
      ],
      "execution_count": 0,
      "outputs": []
    },
    {
      "cell_type": "code",
      "metadata": {
        "id": "l1e0Ot4eewrN",
        "colab_type": "code",
        "colab": {}
      },
      "source": [
        "from sklearn.decomposition import PCA\n",
        "# Make an instance of the Model\n",
        "pca = PCA(.80)\n",
        "pca.fit(X_train)\n",
        "\n",
        "X_train = pca.transform(X_train) \n",
        "X_test = pca.transform(X_test) "
      ],
      "execution_count": 0,
      "outputs": []
    },
    {
      "cell_type": "code",
      "metadata": {
        "id": "N_x5mCpuewnv",
        "colab_type": "code",
        "colab": {}
      },
      "source": [
        "from sklearn import svm\n",
        "svl = svm.SVC()"
      ],
      "execution_count": 0,
      "outputs": []
    },
    {
      "cell_type": "code",
      "metadata": {
        "id": "KCpR_9kYhZPf",
        "colab_type": "code",
        "colab": {
          "base_uri": "https://localhost:8080/",
          "height": 138
        },
        "outputId": "d3684cda-6cd0-4801-887d-d09ee302fdb3"
      },
      "source": [
        "svl.fit(X_train,y_train)"
      ],
      "execution_count": 89,
      "outputs": [
        {
          "output_type": "stream",
          "text": [
            "/usr/local/lib/python3.6/dist-packages/sklearn/svm/base.py:193: FutureWarning: The default value of gamma will change from 'auto' to 'scale' in version 0.22 to account better for unscaled features. Set gamma explicitly to 'auto' or 'scale' to avoid this warning.\n",
            "  \"avoid this warning.\", FutureWarning)\n"
          ],
          "name": "stderr"
        },
        {
          "output_type": "execute_result",
          "data": {
            "text/plain": [
              "SVC(C=1.0, cache_size=200, class_weight=None, coef0=0.0,\n",
              "    decision_function_shape='ovr', degree=3, gamma='auto_deprecated',\n",
              "    kernel='rbf', max_iter=-1, probability=False, random_state=None,\n",
              "    shrinking=True, tol=0.001, verbose=False)"
            ]
          },
          "metadata": {
            "tags": []
          },
          "execution_count": 89
        }
      ]
    },
    {
      "cell_type": "code",
      "metadata": {
        "id": "DdP6zlXyewmQ",
        "colab_type": "code",
        "colab": {
          "base_uri": "https://localhost:8080/",
          "height": 34
        },
        "outputId": "40f9978c-9a88-4e5d-e2b4-9754d1b40fd5"
      },
      "source": [
        "from sklearn.metrics import accuracy_score\n",
        "\n",
        "preds2 = svl.predict(X_test)\n",
        "#print(preds2)\n",
        "\n",
        "print(\"Accuracy:\", accuracy_score(y_test,preds2))"
      ],
      "execution_count": 90,
      "outputs": [
        {
          "output_type": "stream",
          "text": [
            "Accuracy: 0.8958333333333334\n"
          ],
          "name": "stdout"
        }
      ]
    },
    {
      "cell_type": "code",
      "metadata": {
        "id": "c6IfX5cvgTuC",
        "colab_type": "code",
        "colab": {
          "base_uri": "https://localhost:8080/",
          "height": 87
        },
        "outputId": "de8ee9e7-c77d-4f45-d731-af8e88dc2fb9"
      },
      "source": [
        "from sklearn.metrics import f1_score\n",
        "from sklearn.metrics import cohen_kappa_score\n",
        "from sklearn.metrics import roc_auc_score\n",
        "print(f1_score(y_test, preds2, average=None))"
      ],
      "execution_count": 91,
      "outputs": [
        {
          "output_type": "stream",
          "text": [
            "[0.94505495 0.        ]\n"
          ],
          "name": "stdout"
        },
        {
          "output_type": "stream",
          "text": [
            "/usr/local/lib/python3.6/dist-packages/sklearn/metrics/classification.py:1437: UndefinedMetricWarning: F-score is ill-defined and being set to 0.0 in labels with no predicted samples.\n",
            "  'precision', 'predicted', average, warn_for)\n"
          ],
          "name": "stderr"
        }
      ]
    },
    {
      "cell_type": "code",
      "metadata": {
        "id": "O-hBQJhQgTrw",
        "colab_type": "code",
        "colab": {}
      },
      "source": [
        "for i in range(len(y_test)):\n",
        "    if(y_test[i]=='No'):\n",
        "        #print(y_test[i])\n",
        "        num = int(0)\n",
        "        #print(type(num))\n",
        "        y_test[i]= int(num)\n",
        "        #print(type(y_test[i]))\n",
        "        #print(y_test[i])\n",
        "    else:\n",
        "        num = int(1)\n",
        "        y_test[i]=int(num)\n",
        "        #print(type(y_test[i]))\n",
        "        \n",
        "    if(preds2[i]=='No'):\n",
        "        num = int(0)\n",
        "        preds2[i]=int(num)\n",
        "    else:\n",
        "        num = int(1)\n",
        "        preds2[i]=int(num)\n",
        "\n",
        "#print(y_test)\n",
        "#print(preds)"
      ],
      "execution_count": 0,
      "outputs": []
    },
    {
      "cell_type": "code",
      "metadata": {
        "id": "BD2B130ugTp9",
        "colab_type": "code",
        "colab": {}
      },
      "source": [
        "y_test = list(map(int, y_test)) \n",
        "preds2 = list(map(int, preds2)) "
      ],
      "execution_count": 0,
      "outputs": []
    },
    {
      "cell_type": "code",
      "metadata": {
        "id": "ncyp9ro8gTla",
        "colab_type": "code",
        "colab": {
          "base_uri": "https://localhost:8080/",
          "height": 34
        },
        "outputId": "61cde751-a70d-4a18-e2b2-dd38bc291923"
      },
      "source": [
        "print(roc_auc_score(y_test, preds2))"
      ],
      "execution_count": 94,
      "outputs": [
        {
          "output_type": "stream",
          "text": [
            "0.5\n"
          ],
          "name": "stdout"
        }
      ]
    },
    {
      "cell_type": "code",
      "metadata": {
        "id": "uk4Q2sgFgThc",
        "colab_type": "code",
        "colab": {}
      },
      "source": [
        "#############################   Support Vector Machine Algorithm-With PCA 100% components  ##############################"
      ],
      "execution_count": 0,
      "outputs": []
    },
    {
      "cell_type": "code",
      "metadata": {
        "id": "y_Ui5WK6gTe0",
        "colab_type": "code",
        "colab": {}
      },
      "source": [
        "from sklearn.model_selection import train_test_split\n",
        "# test_size: what proportion of original data is used for test set\n",
        "X_train, X_test, y_train, y_test = train_test_split( X, y, test_size=0.1, random_state=0)"
      ],
      "execution_count": 0,
      "outputs": []
    },
    {
      "cell_type": "code",
      "metadata": {
        "id": "eL2fXvbYgTbM",
        "colab_type": "code",
        "colab": {}
      },
      "source": [
        "from sklearn.preprocessing import StandardScaler\n",
        "scaler = StandardScaler()\n",
        "# Fit on training set only.\n",
        "scaler.fit(X_train)\n",
        "# Apply transform to both the training set and the test set.\n",
        "X_train = scaler.transform(X_train)\n",
        "X_test = scaler.transform(X_test)"
      ],
      "execution_count": 0,
      "outputs": []
    },
    {
      "cell_type": "code",
      "metadata": {
        "id": "_hbrWlN-gTZg",
        "colab_type": "code",
        "colab": {}
      },
      "source": [
        "from sklearn.decomposition import PCA\n",
        "# Make an instance of the Model\n",
        "pca = PCA(.100)\n",
        "pca.fit(X_train)\n",
        "\n",
        "X_train = pca.transform(X_train) \n",
        "X_test = pca.transform(X_test) "
      ],
      "execution_count": 0,
      "outputs": []
    },
    {
      "cell_type": "code",
      "metadata": {
        "id": "jdF4gUAMgTUs",
        "colab_type": "code",
        "colab": {}
      },
      "source": [
        "from sklearn import svm\n",
        "svl = svm.SVC()"
      ],
      "execution_count": 0,
      "outputs": []
    },
    {
      "cell_type": "code",
      "metadata": {
        "id": "LHedzOoFha2J",
        "colab_type": "code",
        "colab": {
          "base_uri": "https://localhost:8080/",
          "height": 138
        },
        "outputId": "3f4d4d2f-c846-422e-c6a9-4a92b411336d"
      },
      "source": [
        "svl.fit(X_train,y_train)"
      ],
      "execution_count": 100,
      "outputs": [
        {
          "output_type": "stream",
          "text": [
            "/usr/local/lib/python3.6/dist-packages/sklearn/svm/base.py:193: FutureWarning: The default value of gamma will change from 'auto' to 'scale' in version 0.22 to account better for unscaled features. Set gamma explicitly to 'auto' or 'scale' to avoid this warning.\n",
            "  \"avoid this warning.\", FutureWarning)\n"
          ],
          "name": "stderr"
        },
        {
          "output_type": "execute_result",
          "data": {
            "text/plain": [
              "SVC(C=1.0, cache_size=200, class_weight=None, coef0=0.0,\n",
              "    decision_function_shape='ovr', degree=3, gamma='auto_deprecated',\n",
              "    kernel='rbf', max_iter=-1, probability=False, random_state=None,\n",
              "    shrinking=True, tol=0.001, verbose=False)"
            ]
          },
          "metadata": {
            "tags": []
          },
          "execution_count": 100
        }
      ]
    },
    {
      "cell_type": "code",
      "metadata": {
        "id": "PFxjhhTwgTSl",
        "colab_type": "code",
        "colab": {
          "base_uri": "https://localhost:8080/",
          "height": 34
        },
        "outputId": "39be63d8-cda6-4a8b-d5cb-46a58dfe0810"
      },
      "source": [
        "from sklearn.metrics import accuracy_score\n",
        "\n",
        "preds2 = svl.predict(X_test)\n",
        "#print(preds2)\n",
        "\n",
        "print(\"Accuracy:\", accuracy_score(y_test,preds2))"
      ],
      "execution_count": 101,
      "outputs": [
        {
          "output_type": "stream",
          "text": [
            "Accuracy: 0.8958333333333334\n"
          ],
          "name": "stdout"
        }
      ]
    },
    {
      "cell_type": "code",
      "metadata": {
        "id": "IegXd4RbgTPr",
        "colab_type": "code",
        "colab": {
          "base_uri": "https://localhost:8080/",
          "height": 87
        },
        "outputId": "5740c1fd-9c3d-4ba7-c794-72aab3c3b30b"
      },
      "source": [
        "from sklearn.metrics import f1_score\n",
        "from sklearn.metrics import cohen_kappa_score\n",
        "from sklearn.metrics import roc_auc_score\n",
        "print(f1_score(y_test, preds2, average=None))"
      ],
      "execution_count": 102,
      "outputs": [
        {
          "output_type": "stream",
          "text": [
            "[0.94505495 0.        ]\n"
          ],
          "name": "stdout"
        },
        {
          "output_type": "stream",
          "text": [
            "/usr/local/lib/python3.6/dist-packages/sklearn/metrics/classification.py:1437: UndefinedMetricWarning: F-score is ill-defined and being set to 0.0 in labels with no predicted samples.\n",
            "  'precision', 'predicted', average, warn_for)\n"
          ],
          "name": "stderr"
        }
      ]
    },
    {
      "cell_type": "code",
      "metadata": {
        "id": "sxrQck1vgTNE",
        "colab_type": "code",
        "colab": {}
      },
      "source": [
        "for i in range(len(y_test)):\n",
        "    if(y_test[i]=='No'):\n",
        "        #print(y_test[i])\n",
        "        num = int(0)\n",
        "        #print(type(num))\n",
        "        y_test[i]= int(num)\n",
        "        #print(type(y_test[i]))\n",
        "        #print(y_test[i])\n",
        "    else:\n",
        "        num = int(1)\n",
        "        y_test[i]=int(num)\n",
        "        #print(type(y_test[i]))\n",
        "        \n",
        "    if(preds2[i]=='No'):\n",
        "        num = int(0)\n",
        "        preds2[i]=int(num)\n",
        "    else:\n",
        "        num = int(1)\n",
        "        preds2[i]=int(num)\n",
        "\n",
        "#print(y_test)\n",
        "#print(preds)"
      ],
      "execution_count": 0,
      "outputs": []
    },
    {
      "cell_type": "code",
      "metadata": {
        "id": "1Hy8QjmugTJh",
        "colab_type": "code",
        "colab": {}
      },
      "source": [
        "y_test = list(map(int, y_test)) \n",
        "preds2 = list(map(int, preds2)) "
      ],
      "execution_count": 0,
      "outputs": []
    },
    {
      "cell_type": "code",
      "metadata": {
        "id": "Wuy2fxP_gTD2",
        "colab_type": "code",
        "colab": {
          "base_uri": "https://localhost:8080/",
          "height": 34
        },
        "outputId": "ae0d037b-1534-4730-e600-6e4d88ba1177"
      },
      "source": [
        "print(roc_auc_score(y_test, preds2))"
      ],
      "execution_count": 105,
      "outputs": [
        {
          "output_type": "stream",
          "text": [
            "0.5\n"
          ],
          "name": "stdout"
        }
      ]
    }
  ]
}
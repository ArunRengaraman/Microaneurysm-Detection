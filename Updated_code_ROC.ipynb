{
 "cells": [
  {
   "cell_type": "code",
   "execution_count": 28,
   "metadata": {},
   "outputs": [],
   "source": [
    "import glob\n",
    "import numpy as np\n",
    "import matplotlib.pyplot as plt\n",
    "import cv2"
   ]
  },
  {
   "cell_type": "code",
   "execution_count": 29,
   "metadata": {},
   "outputs": [
    {
     "name": "stdout",
     "output_type": "stream",
     "text": [
      "X_data shape: (471, 300, 300)\n",
      "471\n"
     ]
    }
   ],
   "source": [
    "#Create numpy array of images\n",
    "X = []\n",
    "files = glob.glob (\"./Patches_ROC/*.jpg\")\n",
    "# print(type(files))\n",
    "files.sort()\n",
    "# files = sorted(files)\n",
    "for myFile in files:\n",
    "    #print(myFile)\n",
    "    image = cv2.imread (myFile,0)\n",
    "    X.append (image)\n",
    "\n",
    "X = np.array(X)\n",
    "print('X_data shape:', X.shape)\n",
    "print(len(X))"
   ]
  },
  {
   "cell_type": "code",
   "execution_count": 30,
   "metadata": {},
   "outputs": [],
   "source": [
    "y = ['No','No',\n",
    "     'No','No',\n",
    "     'No','No',\n",
    "     'No','Yes','Yes','Yes','No','No','No','No','No','No','No','Yes','No','No','No','Yes',\n",
    "     'No','No','No','Yes','No','No','No','No','Yes','No','No','No','No','Yes','No','No',\n",
    "     'No','No','No','No','No','No','No','No','No','No','Yes','No','No','No','No','No',\n",
    "     'No','No','No','No','No','No','No','No','No','No','No','No','No','No','No','No', #6\n",
    "     'No','No', \n",
    "     'Yes','No',\n",
    "     'No','No',\n",
    "     'No','Yes',\n",
    "     'Yes','Yes',\n",
    "     'Yes','No',\n",
    "     'Yes','No', #13\n",
    "     'No','No','No','No','No','No','No','No','No','No','No','No','No','Yes','No','No', #14\n",
    "     'No','No','No','No','No','No','No','No','No','No','No','No','No','No','No','No',\n",
    "     'No','No','No','No','No','No','No','No','No','No','No','Yes','No','No','No','No',\n",
    "     'No','No','No','No','No','Yes','No','No','No','No','No','No','No','No','No','No',\n",
    "     'No','No','Yes','No','No','Yes','Yes','No','No','Yes','Yes','Yes','Yes','No','Yes','Yes',\n",
    "     'No','No',\n",
    "     'No','No','No','No','No','No','No','No','No','No','Yes','No','No','No','No','No', #20\n",
    "     'No','No','No','No','No','No','No','No','No',\n",
    "     'No','No','No','Yes','No','No','Yes','No','No','Yes','No','No','No','No','No','No',\n",
    "     'No','No','No','Yes','Yes','Yes','No','Yes','Yes',\n",
    "     'No','No','No','No','No','Yes','No','Yes','No','No','No','No','No','No','No','No', #24\n",
    "     'No','No',\n",
    "     'No','Yes','No','No','Yes','Yes','Yes','Yes','Yes',\n",
    "     'No','Yes',\n",
    "     'No','No','No','No','Yes','Yes','No','No','No','No','Yes','No','No','No','No','No',\n",
    "     'Yes','No',\n",
    "     'No','No','No','No','No','No','No','No','No','Yes','No','No','No','No','Yes','Yes',\n",
    "     'No','No',\n",
    "     'No','No','No','Yes','No','No','Yes','Yes','No','No','No','No','No','No','Yes','Yes',\n",
    "     'Yes','No',\n",
    "     'Yes','No',\n",
    "     'No','No','No','No','No','No','No','No','No','No','No','No','No','No','No','No', #35\n",
    "     'No','No','No','No','No','No','No','No','No','No','No','No','No','No','No','No',\n",
    "     'No','No','No','No','No','No','No','No','No','Yes','No','No','No','Yes','No','No',\n",
    "     'No','Yes',\n",
    "     'No','No',\n",
    "     'No','No','No','No','No','No','Yes','No','No','No','No','No','No','No','No','No',\n",
    "     'No','No',\n",
    "     'No','No','No','No','No','No','No','No','No','No','No','No','No','No','No','No',\n",
    "     'No','No','No','No','No','No','No','No','No','No','No','No','No','Yes','No','No',\n",
    "     'No','No',\n",
    "     'No','No','No','No','No','No','No','No','No','No','No','No','Yes','No','No','No',\n",
    "     'No','No','No','No','No','No','No','No','No','No','No','No','No','No','Yes','No',\n",
    "     'No','No','No','No','No','No','No','No','No','Yes','No','No','No','No','No','No',\n",
    "     'No','No',\n",
    "     'No','No','No','Yes','No','No','Yes','No','No','No','No','No','Yes','No','No','No' #29\n",
    "    ]"
   ]
  },
  {
   "cell_type": "code",
   "execution_count": 31,
   "metadata": {},
   "outputs": [
    {
     "name": "stdout",
     "output_type": "stream",
     "text": [
      "(471,)\n"
     ]
    }
   ],
   "source": [
    "y = np.asarray(y) \n",
    "print(y.shape)"
   ]
  },
  {
   "cell_type": "code",
   "execution_count": 32,
   "metadata": {},
   "outputs": [
    {
     "name": "stdout",
     "output_type": "stream",
     "text": [
      "Yes\n"
     ]
    }
   ],
   "source": [
    "img_index = 25\n",
    "#plt.imshow(X_data1[:,:,:,img_index])\n",
    "#plt.show()\n",
    "print(y[img_index])"
   ]
  },
  {
   "cell_type": "code",
   "execution_count": 33,
   "metadata": {},
   "outputs": [
    {
     "name": "stdout",
     "output_type": "stream",
     "text": [
      "471\n",
      "471\n"
     ]
    }
   ],
   "source": [
    "print(len(X))\n",
    "print(len(y))"
   ]
  },
  {
   "cell_type": "code",
   "execution_count": 34,
   "metadata": {},
   "outputs": [],
   "source": [
    "from sklearn.utils import shuffle\n",
    "# X = X.reshape(X.shape[0],X.shape[1]*X.shape[2]).T\n",
    "# y = y.reshape(y.shape[0],)\n",
    "X = np.reshape(X, [X.shape[0], X.shape[1]*X.shape[2]])\n",
    "\n",
    "X, y = shuffle(X, y, random_state=42)"
   ]
  },
  {
   "cell_type": "code",
   "execution_count": 35,
   "metadata": {},
   "outputs": [],
   "source": [
    "#############################   Random Forest Algorithm  ##############################"
   ]
  },
  {
   "cell_type": "code",
   "execution_count": 36,
   "metadata": {},
   "outputs": [
    {
     "name": "stdout",
     "output_type": "stream",
     "text": [
      "RandomForestClassifier(bootstrap=True, class_weight=None, criterion='gini',\n",
      "            max_depth=None, max_features='auto', max_leaf_nodes=None,\n",
      "            min_impurity_decrease=0.0, min_impurity_split=None,\n",
      "            min_samples_leaf=1, min_samples_split=2,\n",
      "            min_weight_fraction_leaf=0.0, n_estimators=10, n_jobs=1,\n",
      "            oob_score=False, random_state=None, verbose=0,\n",
      "            warm_start=False)\n"
     ]
    }
   ],
   "source": [
    "from sklearn.ensemble import RandomForestClassifier\n",
    "clf = RandomForestClassifier()\n",
    "print(clf)"
   ]
  },
  {
   "cell_type": "code",
   "execution_count": 37,
   "metadata": {},
   "outputs": [
    {
     "data": {
      "text/plain": [
       "RandomForestClassifier(bootstrap=True, class_weight=None, criterion='gini',\n",
       "            max_depth=None, max_features='auto', max_leaf_nodes=None,\n",
       "            min_impurity_decrease=0.0, min_impurity_split=None,\n",
       "            min_samples_leaf=1, min_samples_split=2,\n",
       "            min_weight_fraction_leaf=0.0, n_estimators=10, n_jobs=1,\n",
       "            oob_score=False, random_state=None, verbose=0,\n",
       "            warm_start=False)"
      ]
     },
     "execution_count": 37,
     "metadata": {},
     "output_type": "execute_result"
    }
   ],
   "source": [
    "from sklearn.model_selection import train_test_split\n",
    "X_train, X_test, y_train, y_test = train_test_split(X, y, test_size=0.1, random_state=42)\n",
    "clf.fit(X_train, y_train)"
   ]
  },
  {
   "cell_type": "code",
   "execution_count": 38,
   "metadata": {},
   "outputs": [
    {
     "name": "stdout",
     "output_type": "stream",
     "text": [
      "Accuracy: 0.9583333333333334\n"
     ]
    }
   ],
   "source": [
    "from sklearn.metrics import accuracy_score\n",
    "\n",
    "preds = clf.predict(X_test)\n",
    "print(\"Accuracy:\", accuracy_score(y_test,preds))"
   ]
  },
  {
   "cell_type": "code",
   "execution_count": 39,
   "metadata": {},
   "outputs": [],
   "source": [
    "#print(preds)\n",
    "pred_prob = clf.predict_proba(X_test)\n",
    "#print(pred_prob)"
   ]
  },
  {
   "cell_type": "code",
   "execution_count": 40,
   "metadata": {},
   "outputs": [],
   "source": [
    "from sklearn.metrics import precision_recall_fscore_support"
   ]
  },
  {
   "cell_type": "code",
   "execution_count": 41,
   "metadata": {},
   "outputs": [
    {
     "data": {
      "text/plain": [
       "(array([0.9787234, 0.       ]),\n",
       " array([0.9787234, 0.       ]),\n",
       " array([0.9787234, 0.       ]),\n",
       " array([47,  1], dtype=int32))"
      ]
     },
     "execution_count": 41,
     "metadata": {},
     "output_type": "execute_result"
    }
   ],
   "source": [
    "precision_recall_fscore_support(y_test, preds, average=None)"
   ]
  },
  {
   "cell_type": "code",
   "execution_count": 42,
   "metadata": {},
   "outputs": [
    {
     "name": "stdout",
     "output_type": "stream",
     "text": [
      "[0.9787234 0.       ]\n"
     ]
    }
   ],
   "source": [
    "from sklearn.metrics import f1_score\n",
    "from sklearn.metrics import cohen_kappa_score\n",
    "from sklearn.metrics import roc_auc_score\n",
    "print(f1_score(y_test, preds, average=None))"
   ]
  },
  {
   "cell_type": "code",
   "execution_count": 43,
   "metadata": {},
   "outputs": [],
   "source": [
    "for i in range(len(y_test)):\n",
    "    if(y_test[i]=='No'):\n",
    "        #print(y_test[i])\n",
    "        num = int(0)\n",
    "        #print(type(num))\n",
    "        y_test[i]= int(num)\n",
    "        #print(type(y_test[i]))\n",
    "        #print(y_test[i])\n",
    "    else:\n",
    "        num = int(1)\n",
    "        y_test[i]=int(num)\n",
    "        #print(type(y_test[i]))\n",
    "        \n",
    "    if(preds[i]=='No'):\n",
    "        num = int(0)\n",
    "        preds[i]=int(num)\n",
    "    else:\n",
    "        num = int(1)\n",
    "        preds[i]=int(num)\n",
    "\n",
    "#print(y_test)\n",
    "#print(preds)"
   ]
  },
  {
   "cell_type": "code",
   "execution_count": 44,
   "metadata": {},
   "outputs": [],
   "source": [
    "y_test = list(map(int, y_test)) \n",
    "preds = list(map(int, preds)) "
   ]
  },
  {
   "cell_type": "code",
   "execution_count": 45,
   "metadata": {},
   "outputs": [
    {
     "name": "stdout",
     "output_type": "stream",
     "text": [
      "0.48936170212765956\n"
     ]
    }
   ],
   "source": [
    "print(roc_auc_score(y_test, preds))"
   ]
  },
  {
   "cell_type": "code",
   "execution_count": 46,
   "metadata": {},
   "outputs": [],
   "source": [
    "###############################  Neural Network Algorithm ##############################"
   ]
  },
  {
   "cell_type": "code",
   "execution_count": 47,
   "metadata": {},
   "outputs": [],
   "source": [
    "from sklearn.model_selection import train_test_split\n",
    "X_train, X_test, y_train, y_test = train_test_split(X, y, test_size = 0.1)"
   ]
  },
  {
   "cell_type": "code",
   "execution_count": 48,
   "metadata": {},
   "outputs": [
    {
     "data": {
      "text/plain": [
       "MLPClassifier(activation='relu', alpha=0.0001, batch_size='auto', beta_1=0.9,\n",
       "       beta_2=0.999, early_stopping=False, epsilon=1e-08,\n",
       "       hidden_layer_sizes=(10, 10, 10), learning_rate='constant',\n",
       "       learning_rate_init=0.001, max_iter=200, momentum=0.9,\n",
       "       nesterovs_momentum=True, power_t=0.5, random_state=None,\n",
       "       shuffle=True, solver='adam', tol=0.0001, validation_fraction=0.1,\n",
       "       verbose=False, warm_start=False)"
      ]
     },
     "execution_count": 48,
     "metadata": {},
     "output_type": "execute_result"
    }
   ],
   "source": [
    "from sklearn.neural_network import MLPClassifier\n",
    "mlp = MLPClassifier(hidden_layer_sizes=(10,10,10))\n",
    "mlp.fit(X_train, y_train)"
   ]
  },
  {
   "cell_type": "code",
   "execution_count": 49,
   "metadata": {},
   "outputs": [
    {
     "name": "stdout",
     "output_type": "stream",
     "text": [
      "Accuracy: 0.9166666666666666\n"
     ]
    }
   ],
   "source": [
    "preds1 = mlp.predict(X_test)\n",
    "#print(preds1)\n",
    "\n",
    "#preds = clf.predict(X_test)\n",
    "print(\"Accuracy:\", accuracy_score(y_test,preds1))"
   ]
  },
  {
   "cell_type": "code",
   "execution_count": 50,
   "metadata": {},
   "outputs": [],
   "source": [
    "################################## Support Vector Machine Algorithm ####################################"
   ]
  },
  {
   "cell_type": "code",
   "execution_count": 51,
   "metadata": {},
   "outputs": [],
   "source": [
    "X_train, X_test, y_train, y_test = train_test_split(X, y, test_size = 0.1)"
   ]
  },
  {
   "cell_type": "code",
   "execution_count": 52,
   "metadata": {},
   "outputs": [],
   "source": [
    "from sklearn import svm\n",
    "svl = svm.SVC()"
   ]
  },
  {
   "cell_type": "code",
   "execution_count": 53,
   "metadata": {},
   "outputs": [
    {
     "ename": "MemoryError",
     "evalue": "",
     "output_type": "error",
     "traceback": [
      "\u001b[1;31m---------------------------------------------------------------------------\u001b[0m",
      "\u001b[1;31mMemoryError\u001b[0m                               Traceback (most recent call last)",
      "\u001b[1;32m<ipython-input-53-e5051b284967>\u001b[0m in \u001b[0;36m<module>\u001b[1;34m()\u001b[0m\n\u001b[1;32m----> 1\u001b[1;33m \u001b[0msvl\u001b[0m\u001b[1;33m.\u001b[0m\u001b[0mfit\u001b[0m\u001b[1;33m(\u001b[0m\u001b[0mX_train\u001b[0m\u001b[1;33m,\u001b[0m\u001b[0my_train\u001b[0m\u001b[1;33m)\u001b[0m\u001b[1;33m\u001b[0m\u001b[0m\n\u001b[0m",
      "\u001b[1;32mD:\\python programs\\lib\\site-packages\\sklearn\\svm\\base.py\u001b[0m in \u001b[0;36mfit\u001b[1;34m(self, X, y, sample_weight)\u001b[0m\n\u001b[0;32m    185\u001b[0m \u001b[1;33m\u001b[0m\u001b[0m\n\u001b[0;32m    186\u001b[0m         \u001b[0mseed\u001b[0m \u001b[1;33m=\u001b[0m \u001b[0mrnd\u001b[0m\u001b[1;33m.\u001b[0m\u001b[0mrandint\u001b[0m\u001b[1;33m(\u001b[0m\u001b[0mnp\u001b[0m\u001b[1;33m.\u001b[0m\u001b[0miinfo\u001b[0m\u001b[1;33m(\u001b[0m\u001b[1;34m'i'\u001b[0m\u001b[1;33m)\u001b[0m\u001b[1;33m.\u001b[0m\u001b[0mmax\u001b[0m\u001b[1;33m)\u001b[0m\u001b[1;33m\u001b[0m\u001b[0m\n\u001b[1;32m--> 187\u001b[1;33m         \u001b[0mfit\u001b[0m\u001b[1;33m(\u001b[0m\u001b[0mX\u001b[0m\u001b[1;33m,\u001b[0m \u001b[0my\u001b[0m\u001b[1;33m,\u001b[0m \u001b[0msample_weight\u001b[0m\u001b[1;33m,\u001b[0m \u001b[0msolver_type\u001b[0m\u001b[1;33m,\u001b[0m \u001b[0mkernel\u001b[0m\u001b[1;33m,\u001b[0m \u001b[0mrandom_seed\u001b[0m\u001b[1;33m=\u001b[0m\u001b[0mseed\u001b[0m\u001b[1;33m)\u001b[0m\u001b[1;33m\u001b[0m\u001b[0m\n\u001b[0m\u001b[0;32m    188\u001b[0m         \u001b[1;31m# see comment on the other call to np.iinfo in this file\u001b[0m\u001b[1;33m\u001b[0m\u001b[1;33m\u001b[0m\u001b[0m\n\u001b[0;32m    189\u001b[0m \u001b[1;33m\u001b[0m\u001b[0m\n",
      "\u001b[1;32mD:\\python programs\\lib\\site-packages\\sklearn\\svm\\base.py\u001b[0m in \u001b[0;36m_dense_fit\u001b[1;34m(self, X, y, sample_weight, solver_type, kernel, random_seed)\u001b[0m\n\u001b[0;32m    252\u001b[0m                 \u001b[0mcache_size\u001b[0m\u001b[1;33m=\u001b[0m\u001b[0mself\u001b[0m\u001b[1;33m.\u001b[0m\u001b[0mcache_size\u001b[0m\u001b[1;33m,\u001b[0m \u001b[0mcoef0\u001b[0m\u001b[1;33m=\u001b[0m\u001b[0mself\u001b[0m\u001b[1;33m.\u001b[0m\u001b[0mcoef0\u001b[0m\u001b[1;33m,\u001b[0m\u001b[1;33m\u001b[0m\u001b[0m\n\u001b[0;32m    253\u001b[0m                 \u001b[0mgamma\u001b[0m\u001b[1;33m=\u001b[0m\u001b[0mself\u001b[0m\u001b[1;33m.\u001b[0m\u001b[0m_gamma\u001b[0m\u001b[1;33m,\u001b[0m \u001b[0mepsilon\u001b[0m\u001b[1;33m=\u001b[0m\u001b[0mself\u001b[0m\u001b[1;33m.\u001b[0m\u001b[0mepsilon\u001b[0m\u001b[1;33m,\u001b[0m\u001b[1;33m\u001b[0m\u001b[0m\n\u001b[1;32m--> 254\u001b[1;33m                 max_iter=self.max_iter, random_seed=random_seed)\n\u001b[0m\u001b[0;32m    255\u001b[0m \u001b[1;33m\u001b[0m\u001b[0m\n\u001b[0;32m    256\u001b[0m         \u001b[0mself\u001b[0m\u001b[1;33m.\u001b[0m\u001b[0m_warn_from_fit_status\u001b[0m\u001b[1;33m(\u001b[0m\u001b[1;33m)\u001b[0m\u001b[1;33m\u001b[0m\u001b[0m\n",
      "\u001b[1;32msklearn\\svm\\libsvm.pyx\u001b[0m in \u001b[0;36msklearn.svm.libsvm.fit\u001b[1;34m()\u001b[0m\n",
      "\u001b[1;31mMemoryError\u001b[0m: "
     ]
    }
   ],
   "source": [
    "svl.fit(X_train,y_train)"
   ]
  },
  {
   "cell_type": "code",
   "execution_count": null,
   "metadata": {},
   "outputs": [],
   "source": [
    "preds2 = svl.predict(X_test)\n",
    "#print(preds2)\n",
    "\n",
    "print(\"Accuracy:\", accuracy_score(y_test,preds2))"
   ]
  }
 ],
 "metadata": {
  "kernelspec": {
   "display_name": "Python 3",
   "language": "python",
   "name": "python3"
  },
  "language_info": {
   "codemirror_mode": {
    "name": "ipython",
    "version": 3
   },
   "file_extension": ".py",
   "mimetype": "text/x-python",
   "name": "python",
   "nbconvert_exporter": "python",
   "pygments_lexer": "ipython3",
   "version": "3.6.5"
  }
 },
 "nbformat": 4,
 "nbformat_minor": 2
}

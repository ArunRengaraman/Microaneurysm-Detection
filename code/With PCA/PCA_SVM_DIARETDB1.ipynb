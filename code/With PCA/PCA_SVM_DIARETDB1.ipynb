{
  "nbformat": 4,
  "nbformat_minor": 0,
  "metadata": {
    "colab": {
      "name": "PCA_SVM-DIARETDB1.ipynb",
      "provenance": [],
      "collapsed_sections": []
    },
    "kernelspec": {
      "name": "python3",
      "display_name": "Python 3"
    }
  },
  "cells": [
    {
      "cell_type": "code",
      "metadata": {
        "id": "E3nUI56FhZ7S",
        "colab_type": "code",
        "outputId": "803d1c27-095f-4fc7-a08e-7b1e8afae817",
        "colab": {
          "base_uri": "https://localhost:8080/",
          "height": 34
        }
      },
      "source": [
        "from google.colab import drive\n",
        "drive.mount('/content/gdrive')\n",
        "rootpath = 'gdrive/My Drive/Patches_DIARETDB1/'"
      ],
      "execution_count": 0,
      "outputs": [
        {
          "output_type": "stream",
          "text": [
            "Mounted at /content/gdrive\n"
          ],
          "name": "stdout"
        }
      ]
    },
    {
      "cell_type": "code",
      "metadata": {
        "id": "JE-NWLfjhf9v",
        "colab_type": "code",
        "colab": {}
      },
      "source": [
        "import matplotlib.pyplot as plt\n",
        "import cv2\n",
        "import glob\n",
        "import numpy as np"
      ],
      "execution_count": 0,
      "outputs": []
    },
    {
      "cell_type": "code",
      "metadata": {
        "id": "SxcPV9NIhmpu",
        "colab_type": "code",
        "outputId": "467b08c3-1ba1-49fe-db16-b35bae237d36",
        "colab": {
          "base_uri": "https://localhost:8080/",
          "height": 50
        }
      },
      "source": [
        "#Create numpy array of images\n",
        "X = []\n",
        "files = glob.glob (rootpath+\"*.png\")\n",
        "#print(files)\n",
        "files.sort()\n",
        "# files = sorted(files)\n",
        "for myFile in files:\n",
        "    #print(myFile)\n",
        "    image = cv2.imread (myFile,0)\n",
        "    X.append (image)\n",
        "\n",
        "X = np.array(X)\n",
        "print('X_data shape:', X.shape)\n",
        "print(len(X))"
      ],
      "execution_count": 0,
      "outputs": [
        {
          "output_type": "stream",
          "text": [
            "X_data shape: (1335, 300, 300)\n",
            "1335\n"
          ],
          "name": "stdout"
        }
      ]
    },
    {
      "cell_type": "code",
      "metadata": {
        "id": "d2oU13qwhf8F",
        "colab_type": "code",
        "colab": {}
      },
      "source": [
        "y = ['No','No','Yes','No','Yes','No','No','Yes','Yes','No','No','No','No','Yes','No',\n",
        "     'No','No','Yes','No','Yes','Yes','No','Yes','Yes','No','No','Yes','Yes','Yes','Yes',\n",
        "     'No','Yes','Yes','No','Yes','No','No','Yes','Yes','No','No','Yes','Yes','Yes','Yes',\n",
        "     'No','Yes','Yes','Yes','Yes','No','No','Yes','Yes','No','Yes','Yes','No','Yes','No',\n",
        "     'Yes','No','Yes','No','Yes','Yes','No','Yes','Yes','Yes','Yes','Yes','Yes','Yes','Yes',\n",
        "     'Yes','No','No','No','Yes','No','No','Yes','Yes','No','No','No','No','Yes','No',\n",
        "     'Yes','Yes','Yes','No','Yes','No','No','No','Yes','No','Yes','Yes','Yes','Yes','No',\n",
        "     'Yes','No','Yes','Yes','Yes','Yes','No','Yes','Yes','No','Yes','Yes','Yes','Yes','Yes',\n",
        "     'No','No','Yes','No','Yes','Yes','No','No','Yes','No','No','No','No','Yes','Yes',\n",
        "     'No','No','Yes','No','Yes','Yes','No','No','Yes','No','Yes','Yes','Yes','Yes','Yes',\n",
        "     'No','No','Yes','No','Yes','Yes','No','Yes','Yes','No','Yes','Yes','Yes','Yes','Yes',\n",
        "     'No','No','No','No','Yes','No','No','Yes','Yes','No','No','No','No','Yes','No',\n",
        "     'No','No','No','No','Yes','No','No','Yes','Yes','No','Yes','No','Yes','Yes','Yes',\n",
        "     'Yes','No','No','No','No','Yes','No','No','No','No','Yes','Yes','Yes','Yes','No',\n",
        "     'Yes','No','Yes','Yes','Yes','Yes','Yes','Yes','Yes','No','Yes','Yes','Yes','Yes','Yes',\n",
        "     'Yes','Yes','Yes','No','Yes','Yes','No','No','No','No','Yes','Yes','Yes','No','Yes',\n",
        "     'Yes','No','No','No','Yes','No','No','Yes','Yes','No','No','No','No','Yes','No',\n",
        "     'No','No','No','No','Yes','No','No','Yes','Yes','No','No','Yes','No','Yes','Yes',\n",
        "     'No','Yes','Yes','Yes','No','Yes','Yes','Yes','Yes','No','No','Yes','Yes','Yes','Yes',\n",
        "     'No','Yes','Yes','Yes','Yes','Yes','No','Yes','Yes','No','Yes','Yes','Yes','Yes','Yes',\n",
        "     'No','Yes','Yes','Yes','Yes','Yes','No','Yes','Yes','Yes','Yes','Yes','Yes','Yes','Yes',\n",
        "     'Yes','No','Yes','Yes','No','Yes','No','Yes','Yes','No','No','No','No','Yes','Yes',\n",
        "     'No','No','No','No','No','Yes','No','No','No','No','Yes','Yes','No','No','Yes',\n",
        "     'No','No','No','No','No','Yes','No','No','No','No','Yes','Yes','Yes','No','Yes',\n",
        "     'No','No','Yes','No','Yes','Yes','No','No','No','No','Yes','Yes','Yes','No','Yes',\n",
        "     'No','Yes','Yes','No','No','No','No','No','Yes','Yes','Yes','Yes','Yes','Yes','Yes',\n",
        "     'Yes','Yes','Yes','Yes','No','Yes','No','Yes','Yes','Yes','Yes','No','Yes','Yes','No',\n",
        "     'No','No','No','Yes','Yes','No','Yes','No','Yes','No','No','No','No','Yes','No',\n",
        "     'No','Yes','No','No','Yes','No','Yes','No','No','Yes','Yes','Yes','Yes','Yes','No',\n",
        "     'No','No','No','No','Yes','No','No','Yes','Yes','No','No','No','No','Yes','No', #30\n",
        "     'No','No','No','No','Yes','No','No','No','Yes','No','No','No','No','Yes','No',\n",
        "     'No','No','No','No','Yes','No','No','No','No','No','No','No','No','Yes','No',\n",
        "     'No','No','No','No','Yes','No','No','No','Yes','No','No','No','No','Yes','No',\n",
        "     'No','No','No','No','Yes','No','No','No','Yes','No','No','No','No','Yes','No',\n",
        "     'No','No','No','No','Yes','No','Yes','No','Yes','No','No','No','No','Yes','No',\n",
        "     'No','No','No','No','Yes','No','Yes','No','Yes','No','No','No','No','Yes','No',\n",
        "     'No','No','No','No','Yes','No','No','No','Yes','No','No','No','No','Yes','No', \n",
        "     'No','No','No','No','Yes','No','No','No','Yes','No','No','No','No','Yes','No',\n",
        "     'No','No','No','No','Yes','No','No','No','Yes','No','No','No','No','Yes','No',\n",
        "     'No','No','No','No','Yes','No','No','No','Yes','No','No','No','No','Yes','No',\n",
        "     'No','No','No','No','Yes','No','No','No','Yes','No','No','No','No','Yes','No',\n",
        "     'No','No','No','No','Yes','No','No','No','Yes','No','No','No','No','Yes','No',\n",
        "     'No','No','No','No','Yes','No','Yes','No','Yes','No','No','Yes','No','Yes','No',\n",
        "     'No','No','No','No','Yes','No','Yes','No','Yes','No','Yes','Yes','No','Yes','No',\n",
        "     'No','No','No','No','Yes','No','No','No','Yes','No','No','No','No','Yes','No',\n",
        "     'No','No','No','No','Yes','No','No','No','Yes','No','No','No','No','Yes','No',\n",
        "     'No','No','No','No','Yes','No','No','No','Yes','No','No','No','No','Yes','No',\n",
        "     'No','No','No','No','Yes','No','No','No','Yes','No','No','No','No','Yes','No',\n",
        "     'No','No','No','No','Yes','No','No','Yes','Yes','No','No','No','No','Yes','No',\n",
        "     'No','No','No','No','Yes','No','No','No','Yes','No','No','No','No','Yes','Yes', #50\n",
        "     'No','No','No','No','Yes','No','No','Yes','Yes','No','No','No','No','Yes','Yes',\n",
        "     'No','No','Yes','Yes','Yes','No','No','No','Yes','No','Yes','No','Yes','Yes','No',\n",
        "     'No','No','Yes','Yes','Yes','Yes','Yes','No','Yes','No','No','Yes','No','Yes','Yes',\n",
        "     'No','No','No','No','Yes','No','No','No','Yes','No','Yes','Yes','No','Yes','No',\n",
        "     'No','No','Yes','No','Yes','No','No','Yes','Yes','No','No','No','No','Yes','Yes',\n",
        "     'No','No','No','No','Yes','No','No','No','Yes','No','No','No','No','Yes','Yes',\n",
        "     'No','No','No','No','Yes','No','No','No','Yes','No','No','No','No','Yes','No',\n",
        "     'No','No','No','No','Yes','No','No','No','Yes','No','No','No','No','Yes','No',\n",
        "     'No','Yes','No','No','Yes','No','No','Yes','Yes','No','No','No','No','Yes','No',\n",
        "     'No','No','No','No','Yes','No','No','Yes','Yes','No','No','No','No','Yes','No', #60\n",
        "     'No','No','No','No','Yes','No','No','No','Yes','No','No','No','No','Yes','No',\n",
        "     'No','No','No','No','Yes','No','No','Yes','Yes','No','No','No','No','Yes','No',\n",
        "     'No','No','No','No','Yes','No','No','No','Yes','No','No','No','No','Yes','No',\n",
        "     'No','No','Yes','No','Yes','No','Yes','Yes','Yes','No','Yes','No','No','Yes','No',\n",
        "     'No','No','No','No','Yes','No','Yes','No','No','No','Yes','Yes','No','Yes','Yes',\n",
        "     'No','No','No','No','Yes','No','No','No','Yes','No','No','No','No','Yes','No',\n",
        "     'No','No','No','Yes','Yes','Yes','No','No','Yes','No','No','No','No','Yes','Yes',\n",
        "     'No','No','No','No','Yes','No','No','No','Yes','No','No','No','No','Yes','No',\n",
        "     'No','Yes','No','No','Yes','No','No','No','Yes','No','No','No','No','Yes','No',\n",
        "     'No','No','No','No','Yes','No','No','No','Yes','No','No','No','No','Yes','No', #70\n",
        "     'No','No','No','No','Yes','No','No','No','Yes','No','No','No','No','Yes','No',\n",
        "     'No','No','No','No','Yes','No','Yes','No','Yes','No','No','No','No','Yes','No',\n",
        "     'No','No','No','No','Yes','No','Yes','No','Yes','No','No','No','No','Yes','No',\n",
        "     'No','No','No','No','Yes','No','No','No','Yes','No','No','No','No','Yes','No',\n",
        "     'No','No','No','No','Yes','No','No','Yes','Yes','No','No','No','No','Yes','No',\n",
        "     'No','No','No','No','Yes','No','No','No','Yes','No','No','No','No','Yes','No',\n",
        "     'No','No','No','No','Yes','No','No','No','Yes','No','No','No','No','Yes','No',\n",
        "     'No','No','No','No','Yes','No','No','No','Yes','No','No','No','No','Yes','No',\n",
        "     'No','No','No','No','Yes','No','No','Yes','Yes','No','No','No','No','Yes','No', #79\n",
        "     'Yes','Yes','No','No','Yes','No','No','No','Yes','No','No','No','No','Yes','No',\n",
        "     'No','Yes','No','No','Yes','No','No','No','Yes','No','No','No','Yes','Yes','No',\n",
        "     'No','No','No','No','Yes','No','No','No','Yes','No','No','No','No','Yes','No',\n",
        "     'No','No','No','No','Yes','No','No','No','Yes','No','No','Yes','No','Yes','No',\n",
        "     'No','No','No','No','No','Yes','No','No','No','No','Yes','Yes','No','No','Yes',\n",
        "     'No','No','No','No','No','Yes','No','No','No','No','No','Yes','No','No','Yes',\n",
        "     'No','No','No','No','Yes','No','No','No','Yes','No','No','No','No','Yes','No',\n",
        "     'No','No','No','No','Yes','No','No','No','Yes','No','No','No','No','Yes','No',\n",
        "     'No','No','No','No','Yes','No','No','No','Yes','No','No','No','No','Yes','No',\n",
        "     'No','No','No','No','Yes','No','No','No','Yes','No','No','Yes','No','Yes','No' #89\n",
        "     ]"
      ],
      "execution_count": 0,
      "outputs": []
    },
    {
      "cell_type": "code",
      "metadata": {
        "id": "EEn91VR2hf4n",
        "colab_type": "code",
        "outputId": "08ff5379-fe13-4bf1-860b-bccf982f823f",
        "colab": {
          "base_uri": "https://localhost:8080/",
          "height": 34
        }
      },
      "source": [
        "y = np.asarray(y) \n",
        "print(y.shape)"
      ],
      "execution_count": 0,
      "outputs": [
        {
          "output_type": "stream",
          "text": [
            "(1335,)\n"
          ],
          "name": "stdout"
        }
      ]
    },
    {
      "cell_type": "code",
      "metadata": {
        "id": "ImF7H1xehf3G",
        "colab_type": "code",
        "colab": {}
      },
      "source": [
        "from sklearn.utils import shuffle\n",
        "# X = X.reshape(X.shape[0],X.shape[1]*X.shape[2]).T\n",
        "# y = y.reshape(y.shape[0],)\n",
        "X = np.reshape(X, [X.shape[0], X.shape[1]*X.shape[2]])\n",
        "\n",
        "X, y = shuffle(X, y, random_state=42)"
      ],
      "execution_count": 0,
      "outputs": []
    },
    {
      "cell_type": "code",
      "metadata": {
        "id": "dK6m_KdKhfzh",
        "colab_type": "code",
        "colab": {}
      },
      "source": [
        "#############################   Support Vector Machine Algorithm-With PCA 10% components  ##############################"
      ],
      "execution_count": 0,
      "outputs": []
    },
    {
      "cell_type": "code",
      "metadata": {
        "id": "dSYdzwzvhfyD",
        "colab_type": "code",
        "colab": {}
      },
      "source": [
        "from sklearn.model_selection import train_test_split\n",
        "# test_size: what proportion of original data is used for test set\n",
        "X_train, X_test, y_train, y_test = train_test_split( X, y, test_size=0.1, random_state=0)"
      ],
      "execution_count": 0,
      "outputs": []
    },
    {
      "cell_type": "code",
      "metadata": {
        "id": "7VYbkifWhfut",
        "colab_type": "code",
        "colab": {}
      },
      "source": [
        "from sklearn.preprocessing import StandardScaler\n",
        "scaler = StandardScaler()\n",
        "# Fit on training set only.\n",
        "scaler.fit(X_train)\n",
        "# Apply transform to both the training set and the test set.\n",
        "X_train = scaler.transform(X_train)\n",
        "X_test = scaler.transform(X_test)\n"
      ],
      "execution_count": 0,
      "outputs": []
    },
    {
      "cell_type": "code",
      "metadata": {
        "id": "MARHi1XGhftj",
        "colab_type": "code",
        "colab": {}
      },
      "source": [
        "from sklearn.decomposition import PCA\n",
        "# Make an instance of the Model\n",
        "pca = PCA(.10)\n",
        "pca.fit(X_train)\n",
        "\n",
        "X_train = pca.transform(X_train) \n",
        "X_test = pca.transform(X_test) "
      ],
      "execution_count": 0,
      "outputs": []
    },
    {
      "cell_type": "code",
      "metadata": {
        "id": "ULg3z_B6hfqG",
        "colab_type": "code",
        "colab": {}
      },
      "source": [
        "from sklearn import svm\n",
        "svl = svm.SVC()"
      ],
      "execution_count": 0,
      "outputs": []
    },
    {
      "cell_type": "code",
      "metadata": {
        "id": "XB7gb5cZhfo7",
        "colab_type": "code",
        "outputId": "35d9c92c-90c1-4503-9c9f-2ac68105d2c9",
        "colab": {
          "base_uri": "https://localhost:8080/",
          "height": 138
        }
      },
      "source": [
        "svl.fit(X_train,y_train)"
      ],
      "execution_count": 0,
      "outputs": [
        {
          "output_type": "stream",
          "text": [
            "/usr/local/lib/python3.6/dist-packages/sklearn/svm/base.py:193: FutureWarning: The default value of gamma will change from 'auto' to 'scale' in version 0.22 to account better for unscaled features. Set gamma explicitly to 'auto' or 'scale' to avoid this warning.\n",
            "  \"avoid this warning.\", FutureWarning)\n"
          ],
          "name": "stderr"
        },
        {
          "output_type": "execute_result",
          "data": {
            "text/plain": [
              "SVC(C=1.0, cache_size=200, class_weight=None, coef0=0.0,\n",
              "    decision_function_shape='ovr', degree=3, gamma='auto_deprecated',\n",
              "    kernel='rbf', max_iter=-1, probability=False, random_state=None,\n",
              "    shrinking=True, tol=0.001, verbose=False)"
            ]
          },
          "metadata": {
            "tags": []
          },
          "execution_count": 27
        }
      ]
    },
    {
      "cell_type": "code",
      "metadata": {
        "id": "yvFK4WWGhflb",
        "colab_type": "code",
        "outputId": "bc90463e-a5b5-480f-ba0e-a432219ed6ad",
        "colab": {
          "base_uri": "https://localhost:8080/",
          "height": 34
        }
      },
      "source": [
        "from sklearn.metrics import accuracy_score\n",
        "\n",
        "preds2 = svl.predict(X_test)\n",
        "#print(preds2)\n",
        "\n",
        "print(\"Accuracy:\", accuracy_score(y_test,preds2))"
      ],
      "execution_count": 0,
      "outputs": [
        {
          "output_type": "stream",
          "text": [
            "Accuracy: 0.6268656716417911\n"
          ],
          "name": "stdout"
        }
      ]
    },
    {
      "cell_type": "code",
      "metadata": {
        "id": "HxAYuJNhhfjn",
        "colab_type": "code",
        "outputId": "1f729c49-fa90-4201-8802-490399f51a75",
        "colab": {
          "base_uri": "https://localhost:8080/",
          "height": 34
        }
      },
      "source": [
        "from sklearn.metrics import f1_score\n",
        "from sklearn.metrics import cohen_kappa_score\n",
        "from sklearn.metrics import roc_auc_score\n",
        "print(f1_score(y_test, preds2, average=None))"
      ],
      "execution_count": 0,
      "outputs": [
        {
          "output_type": "stream",
          "text": [
            "[0.74226804 0.32432432]\n"
          ],
          "name": "stdout"
        }
      ]
    },
    {
      "cell_type": "code",
      "metadata": {
        "id": "mgcKjGE7hfhI",
        "colab_type": "code",
        "colab": {}
      },
      "source": [
        "for i in range(len(y_test)):\n",
        "    if(y_test[i]=='No'):\n",
        "        #print(y_test[i])\n",
        "        num = int(0)\n",
        "        #print(type(num))\n",
        "        y_test[i]= int(num)\n",
        "        #print(type(y_test[i]))\n",
        "        #print(y_test[i])\n",
        "    else:\n",
        "        num = int(1)\n",
        "        y_test[i]=int(num)\n",
        "        #print(type(y_test[i]))\n",
        "        \n",
        "    if(preds2[i]=='No'):\n",
        "        num = int(0)\n",
        "        preds2[i]=int(num)\n",
        "    else:\n",
        "        num = int(1)\n",
        "        preds2[i]=int(num)\n",
        "\n",
        "#print(y_test)\n",
        "#print(preds)"
      ],
      "execution_count": 0,
      "outputs": []
    },
    {
      "cell_type": "code",
      "metadata": {
        "id": "JO2mVFyJhffF",
        "colab_type": "code",
        "colab": {}
      },
      "source": [
        "y_test = list(map(int, y_test)) \n",
        "preds2 = list(map(int, preds2)) "
      ],
      "execution_count": 0,
      "outputs": []
    },
    {
      "cell_type": "code",
      "metadata": {
        "id": "9oCMOqx8ijmN",
        "colab_type": "code",
        "outputId": "b3ab3c41-881a-4e9c-ec3a-0285fd455877",
        "colab": {
          "base_uri": "https://localhost:8080/",
          "height": 34
        }
      },
      "source": [
        "print(roc_auc_score(y_test, preds2))"
      ],
      "execution_count": 0,
      "outputs": [
        {
          "output_type": "stream",
          "text": [
            "0.5436046511627907\n"
          ],
          "name": "stdout"
        }
      ]
    },
    {
      "cell_type": "code",
      "metadata": {
        "id": "BkwQHolVijjT",
        "colab_type": "code",
        "colab": {}
      },
      "source": [
        "#############################   Support Vector Machine Algorithm-With PCA 20% components  ##############################"
      ],
      "execution_count": 0,
      "outputs": []
    },
    {
      "cell_type": "code",
      "metadata": {
        "id": "v4-ZBRlCijgB",
        "colab_type": "code",
        "colab": {}
      },
      "source": [
        "from sklearn.model_selection import train_test_split\n",
        "# test_size: what proportion of original data is used for test set\n",
        "X_train, X_test, y_train, y_test = train_test_split( X, y, test_size=0.1, random_state=0)"
      ],
      "execution_count": 0,
      "outputs": []
    },
    {
      "cell_type": "code",
      "metadata": {
        "id": "WU8-okgUijed",
        "colab_type": "code",
        "colab": {}
      },
      "source": [
        "from sklearn.preprocessing import StandardScaler\n",
        "scaler = StandardScaler()\n",
        "# Fit on training set only.\n",
        "scaler.fit(X_train)\n",
        "# Apply transform to both the training set and the test set.\n",
        "X_train = scaler.transform(X_train)\n",
        "X_test = scaler.transform(X_test)\n"
      ],
      "execution_count": 0,
      "outputs": []
    },
    {
      "cell_type": "code",
      "metadata": {
        "id": "AkmEN4P8ijbV",
        "colab_type": "code",
        "colab": {}
      },
      "source": [
        "from sklearn.decomposition import PCA\n",
        "# Make an instance of the Model\n",
        "pca = PCA(.20)\n",
        "pca.fit(X_train)\n",
        "\n",
        "X_train = pca.transform(X_train) \n",
        "X_test = pca.transform(X_test) "
      ],
      "execution_count": 0,
      "outputs": []
    },
    {
      "cell_type": "code",
      "metadata": {
        "id": "02McC7N0ijZw",
        "colab_type": "code",
        "colab": {}
      },
      "source": [
        "from sklearn import svm\n",
        "svl = svm.SVC()"
      ],
      "execution_count": 0,
      "outputs": []
    },
    {
      "cell_type": "code",
      "metadata": {
        "id": "MVRldLNHijW4",
        "colab_type": "code",
        "outputId": "a0b66955-821f-4116-e70d-037874a18c2d",
        "colab": {
          "base_uri": "https://localhost:8080/",
          "height": 138
        }
      },
      "source": [
        "svl.fit(X_train,y_train)"
      ],
      "execution_count": 0,
      "outputs": [
        {
          "output_type": "stream",
          "text": [
            "/usr/local/lib/python3.6/dist-packages/sklearn/svm/base.py:193: FutureWarning: The default value of gamma will change from 'auto' to 'scale' in version 0.22 to account better for unscaled features. Set gamma explicitly to 'auto' or 'scale' to avoid this warning.\n",
            "  \"avoid this warning.\", FutureWarning)\n"
          ],
          "name": "stderr"
        },
        {
          "output_type": "execute_result",
          "data": {
            "text/plain": [
              "SVC(C=1.0, cache_size=200, class_weight=None, coef0=0.0,\n",
              "    decision_function_shape='ovr', degree=3, gamma='auto_deprecated',\n",
              "    kernel='rbf', max_iter=-1, probability=False, random_state=None,\n",
              "    shrinking=True, tol=0.001, verbose=False)"
            ]
          },
          "metadata": {
            "tags": []
          },
          "execution_count": 38
        }
      ]
    },
    {
      "cell_type": "code",
      "metadata": {
        "id": "jdRxZ_nGijU9",
        "colab_type": "code",
        "outputId": "70f6ce63-7283-4f14-a99e-9b1dd8e33feb",
        "colab": {
          "base_uri": "https://localhost:8080/",
          "height": 34
        }
      },
      "source": [
        "from sklearn.metrics import accuracy_score\n",
        "\n",
        "preds2 = svl.predict(X_test)\n",
        "#print(preds2)\n",
        "\n",
        "print(\"Accuracy:\", accuracy_score(y_test,preds2))"
      ],
      "execution_count": 0,
      "outputs": [
        {
          "output_type": "stream",
          "text": [
            "Accuracy: 0.6268656716417911\n"
          ],
          "name": "stdout"
        }
      ]
    },
    {
      "cell_type": "code",
      "metadata": {
        "id": "6XogtTNJijSM",
        "colab_type": "code",
        "outputId": "2c362b2b-e2f3-43cb-bd64-793fe029e5ce",
        "colab": {
          "base_uri": "https://localhost:8080/",
          "height": 34
        }
      },
      "source": [
        "from sklearn.metrics import f1_score\n",
        "from sklearn.metrics import cohen_kappa_score\n",
        "from sklearn.metrics import roc_auc_score\n",
        "print(f1_score(y_test, preds2, average=None))"
      ],
      "execution_count": 0,
      "outputs": [
        {
          "output_type": "stream",
          "text": [
            "[0.74226804 0.32432432]\n"
          ],
          "name": "stdout"
        }
      ]
    },
    {
      "cell_type": "code",
      "metadata": {
        "id": "7Hqy0SeuijQi",
        "colab_type": "code",
        "colab": {}
      },
      "source": [
        "for i in range(len(y_test)):\n",
        "    if(y_test[i]=='No'):\n",
        "        #print(y_test[i])\n",
        "        num = int(0)\n",
        "        #print(type(num))\n",
        "        y_test[i]= int(num)\n",
        "        #print(type(y_test[i]))\n",
        "        #print(y_test[i])\n",
        "    else:\n",
        "        num = int(1)\n",
        "        y_test[i]=int(num)\n",
        "        #print(type(y_test[i]))\n",
        "        \n",
        "    if(preds2[i]=='No'):\n",
        "        num = int(0)\n",
        "        preds2[i]=int(num)\n",
        "    else:\n",
        "        num = int(1)\n",
        "        preds2[i]=int(num)\n",
        "\n",
        "#print(y_test)\n",
        "#print(preds)"
      ],
      "execution_count": 0,
      "outputs": []
    },
    {
      "cell_type": "code",
      "metadata": {
        "id": "TxBPlPWGijMg",
        "colab_type": "code",
        "colab": {}
      },
      "source": [
        "y_test = list(map(int, y_test)) \n",
        "preds2 = list(map(int, preds2)) "
      ],
      "execution_count": 0,
      "outputs": []
    },
    {
      "cell_type": "code",
      "metadata": {
        "id": "Egqb01PFijK6",
        "colab_type": "code",
        "outputId": "bc0df4c0-f828-4659-8ca2-99021f4d3e55",
        "colab": {
          "base_uri": "https://localhost:8080/",
          "height": 34
        }
      },
      "source": [
        "print(roc_auc_score(y_test, preds2))"
      ],
      "execution_count": 0,
      "outputs": [
        {
          "output_type": "stream",
          "text": [
            "0.5436046511627907\n"
          ],
          "name": "stdout"
        }
      ]
    },
    {
      "cell_type": "code",
      "metadata": {
        "id": "B9oB8HIuijHu",
        "colab_type": "code",
        "colab": {}
      },
      "source": [
        "#############################   Support Vector Machine Algorithm-With PCA 30% components  ##############################"
      ],
      "execution_count": 0,
      "outputs": []
    },
    {
      "cell_type": "code",
      "metadata": {
        "id": "pvFFpuomijFt",
        "colab_type": "code",
        "colab": {}
      },
      "source": [
        "from sklearn.model_selection import train_test_split\n",
        "# test_size: what proportion of original data is used for test set\n",
        "X_train, X_test, y_train, y_test = train_test_split( X, y, test_size=0.1, random_state=0)"
      ],
      "execution_count": 0,
      "outputs": []
    },
    {
      "cell_type": "code",
      "metadata": {
        "id": "Ojb_5qoVijCU",
        "colab_type": "code",
        "colab": {}
      },
      "source": [
        "from sklearn.preprocessing import StandardScaler\n",
        "scaler = StandardScaler()\n",
        "# Fit on training set only.\n",
        "scaler.fit(X_train)\n",
        "# Apply transform to both the training set and the test set.\n",
        "X_train = scaler.transform(X_train)\n",
        "X_test = scaler.transform(X_test)\n"
      ],
      "execution_count": 0,
      "outputs": []
    },
    {
      "cell_type": "code",
      "metadata": {
        "id": "wq6O7y0vijAn",
        "colab_type": "code",
        "colab": {}
      },
      "source": [
        "from sklearn.decomposition import PCA\n",
        "# Make an instance of the Model\n",
        "pca = PCA(.30)\n",
        "pca.fit(X_train)\n",
        "\n",
        "X_train = pca.transform(X_train) \n",
        "X_test = pca.transform(X_test) "
      ],
      "execution_count": 0,
      "outputs": []
    },
    {
      "cell_type": "code",
      "metadata": {
        "id": "yW_G7GpYii9d",
        "colab_type": "code",
        "colab": {}
      },
      "source": [
        "from sklearn import svm\n",
        "svl = svm.SVC()"
      ],
      "execution_count": 0,
      "outputs": []
    },
    {
      "cell_type": "code",
      "metadata": {
        "id": "MuihfTMfjffv",
        "colab_type": "code",
        "outputId": "1046c525-e977-4d11-edcc-d99beba65b4f",
        "colab": {
          "base_uri": "https://localhost:8080/",
          "height": 138
        }
      },
      "source": [
        "svl.fit(X_train,y_train)"
      ],
      "execution_count": 0,
      "outputs": [
        {
          "output_type": "stream",
          "text": [
            "/usr/local/lib/python3.6/dist-packages/sklearn/svm/base.py:193: FutureWarning: The default value of gamma will change from 'auto' to 'scale' in version 0.22 to account better for unscaled features. Set gamma explicitly to 'auto' or 'scale' to avoid this warning.\n",
            "  \"avoid this warning.\", FutureWarning)\n"
          ],
          "name": "stderr"
        },
        {
          "output_type": "execute_result",
          "data": {
            "text/plain": [
              "SVC(C=1.0, cache_size=200, class_weight=None, coef0=0.0,\n",
              "    decision_function_shape='ovr', degree=3, gamma='auto_deprecated',\n",
              "    kernel='rbf', max_iter=-1, probability=False, random_state=None,\n",
              "    shrinking=True, tol=0.001, verbose=False)"
            ]
          },
          "metadata": {
            "tags": []
          },
          "execution_count": 49
        }
      ]
    },
    {
      "cell_type": "code",
      "metadata": {
        "id": "E2H0otq5jfc0",
        "colab_type": "code",
        "outputId": "81dfa37e-b46e-4251-9f7c-359396692e57",
        "colab": {
          "base_uri": "https://localhost:8080/",
          "height": 34
        }
      },
      "source": [
        "from sklearn.metrics import accuracy_score\n",
        "\n",
        "preds2 = svl.predict(X_test)\n",
        "#print(preds2)\n",
        "\n",
        "print(\"Accuracy:\", accuracy_score(y_test,preds2))"
      ],
      "execution_count": 0,
      "outputs": [
        {
          "output_type": "stream",
          "text": [
            "Accuracy: 0.6268656716417911\n"
          ],
          "name": "stdout"
        }
      ]
    },
    {
      "cell_type": "code",
      "metadata": {
        "id": "oEgA6mSMjfal",
        "colab_type": "code",
        "outputId": "ef35f52c-fc45-43c8-e06f-df310153ce10",
        "colab": {
          "base_uri": "https://localhost:8080/",
          "height": 34
        }
      },
      "source": [
        "from sklearn.metrics import f1_score\n",
        "from sklearn.metrics import cohen_kappa_score\n",
        "from sklearn.metrics import roc_auc_score\n",
        "print(f1_score(y_test, preds2, average=None))"
      ],
      "execution_count": 0,
      "outputs": [
        {
          "output_type": "stream",
          "text": [
            "[0.74226804 0.32432432]\n"
          ],
          "name": "stdout"
        }
      ]
    },
    {
      "cell_type": "code",
      "metadata": {
        "id": "8KPxDE-ujfWa",
        "colab_type": "code",
        "colab": {}
      },
      "source": [
        "for i in range(len(y_test)):\n",
        "    if(y_test[i]=='No'):\n",
        "        #print(y_test[i])\n",
        "        num = int(0)\n",
        "        #print(type(num))\n",
        "        y_test[i]= int(num)\n",
        "        #print(type(y_test[i]))\n",
        "        #print(y_test[i])\n",
        "    else:\n",
        "        num = int(1)\n",
        "        y_test[i]=int(num)\n",
        "        #print(type(y_test[i]))\n",
        "        \n",
        "    if(preds2[i]=='No'):\n",
        "        num = int(0)\n",
        "        preds2[i]=int(num)\n",
        "    else:\n",
        "        num = int(1)\n",
        "        preds2[i]=int(num)\n",
        "\n",
        "#print(y_test)\n",
        "#print(preds)"
      ],
      "execution_count": 0,
      "outputs": []
    },
    {
      "cell_type": "code",
      "metadata": {
        "id": "9vWQUTNGjfU0",
        "colab_type": "code",
        "colab": {}
      },
      "source": [
        "y_test = list(map(int, y_test)) \n",
        "preds2 = list(map(int, preds2)) "
      ],
      "execution_count": 0,
      "outputs": []
    },
    {
      "cell_type": "code",
      "metadata": {
        "id": "Hu7jpNzPjfRR",
        "colab_type": "code",
        "outputId": "2fc85759-43b5-48ee-b8c7-b7f3e4ca7307",
        "colab": {
          "base_uri": "https://localhost:8080/",
          "height": 34
        }
      },
      "source": [
        "print(roc_auc_score(y_test, preds2))"
      ],
      "execution_count": 0,
      "outputs": [
        {
          "output_type": "stream",
          "text": [
            "0.5436046511627907\n"
          ],
          "name": "stdout"
        }
      ]
    },
    {
      "cell_type": "code",
      "metadata": {
        "id": "2ncuYu0Oj9_a",
        "colab_type": "code",
        "colab": {}
      },
      "source": [
        "#############################   Support Vector Machine Algorithm-With PCA 40% components  ##############################"
      ],
      "execution_count": 0,
      "outputs": []
    },
    {
      "cell_type": "code",
      "metadata": {
        "id": "iMj84em3j98M",
        "colab_type": "code",
        "colab": {}
      },
      "source": [
        "from sklearn.model_selection import train_test_split\n",
        "# test_size: what proportion of original data is used for test set\n",
        "X_train, X_test, y_train, y_test = train_test_split( X, y, test_size=0.1, random_state=0)"
      ],
      "execution_count": 0,
      "outputs": []
    },
    {
      "cell_type": "code",
      "metadata": {
        "id": "LrL7wUVej95L",
        "colab_type": "code",
        "colab": {}
      },
      "source": [
        "from sklearn.preprocessing import StandardScaler\n",
        "scaler = StandardScaler()\n",
        "# Fit on training set only.\n",
        "scaler.fit(X_train)\n",
        "# Apply transform to both the training set and the test set.\n",
        "X_train = scaler.transform(X_train)\n",
        "X_test = scaler.transform(X_test)\n"
      ],
      "execution_count": 0,
      "outputs": []
    },
    {
      "cell_type": "code",
      "metadata": {
        "id": "qVJ6urXej93S",
        "colab_type": "code",
        "colab": {}
      },
      "source": [
        "from sklearn.decomposition import PCA\n",
        "# Make an instance of the Model\n",
        "pca = PCA(.40)\n",
        "pca.fit(X_train)\n",
        "\n",
        "X_train = pca.transform(X_train) \n",
        "X_test = pca.transform(X_test) "
      ],
      "execution_count": 0,
      "outputs": []
    },
    {
      "cell_type": "code",
      "metadata": {
        "id": "Qt7V3O1ej90f",
        "colab_type": "code",
        "colab": {}
      },
      "source": [
        "from sklearn import svm\n",
        "svl = svm.SVC()"
      ],
      "execution_count": 0,
      "outputs": []
    },
    {
      "cell_type": "code",
      "metadata": {
        "id": "yrLoyKNVj9yW",
        "colab_type": "code",
        "outputId": "384b470c-fe75-4c7d-9bd5-583634e5488c",
        "colab": {
          "base_uri": "https://localhost:8080/",
          "height": 138
        }
      },
      "source": [
        "svl.fit(X_train,y_train)"
      ],
      "execution_count": 0,
      "outputs": [
        {
          "output_type": "stream",
          "text": [
            "/usr/local/lib/python3.6/dist-packages/sklearn/svm/base.py:193: FutureWarning: The default value of gamma will change from 'auto' to 'scale' in version 0.22 to account better for unscaled features. Set gamma explicitly to 'auto' or 'scale' to avoid this warning.\n",
            "  \"avoid this warning.\", FutureWarning)\n"
          ],
          "name": "stderr"
        },
        {
          "output_type": "execute_result",
          "data": {
            "text/plain": [
              "SVC(C=1.0, cache_size=200, class_weight=None, coef0=0.0,\n",
              "    decision_function_shape='ovr', degree=3, gamma='auto_deprecated',\n",
              "    kernel='rbf', max_iter=-1, probability=False, random_state=None,\n",
              "    shrinking=True, tol=0.001, verbose=False)"
            ]
          },
          "metadata": {
            "tags": []
          },
          "execution_count": 60
        }
      ]
    },
    {
      "cell_type": "code",
      "metadata": {
        "id": "oKJ-56qPj9vH",
        "colab_type": "code",
        "outputId": "f03b384a-e8c1-4445-a160-e76e1fcdcf28",
        "colab": {
          "base_uri": "https://localhost:8080/",
          "height": 34
        }
      },
      "source": [
        "from sklearn.metrics import accuracy_score\n",
        "\n",
        "preds2 = svl.predict(X_test)\n",
        "#print(preds2)\n",
        "\n",
        "print(\"Accuracy:\", accuracy_score(y_test,preds2))"
      ],
      "execution_count": 0,
      "outputs": [
        {
          "output_type": "stream",
          "text": [
            "Accuracy: 0.6268656716417911\n"
          ],
          "name": "stdout"
        }
      ]
    },
    {
      "cell_type": "code",
      "metadata": {
        "id": "fVVpwjRuj9sd",
        "colab_type": "code",
        "outputId": "4487e27f-fefe-403e-86e1-63482152ad62",
        "colab": {
          "base_uri": "https://localhost:8080/",
          "height": 34
        }
      },
      "source": [
        "from sklearn.metrics import f1_score\n",
        "from sklearn.metrics import cohen_kappa_score\n",
        "from sklearn.metrics import roc_auc_score\n",
        "print(f1_score(y_test, preds2, average=None))"
      ],
      "execution_count": 0,
      "outputs": [
        {
          "output_type": "stream",
          "text": [
            "[0.74226804 0.32432432]\n"
          ],
          "name": "stdout"
        }
      ]
    },
    {
      "cell_type": "code",
      "metadata": {
        "id": "9tedi3BEjfPk",
        "colab_type": "code",
        "colab": {}
      },
      "source": [
        "for i in range(len(y_test)):\n",
        "    if(y_test[i]=='No'):\n",
        "        #print(y_test[i])\n",
        "        num = int(0)\n",
        "        #print(type(num))\n",
        "        y_test[i]= int(num)\n",
        "        #print(type(y_test[i]))\n",
        "        #print(y_test[i])\n",
        "    else:\n",
        "        num = int(1)\n",
        "        y_test[i]=int(num)\n",
        "        #print(type(y_test[i]))\n",
        "        \n",
        "    if(preds2[i]=='No'):\n",
        "        num = int(0)\n",
        "        preds2[i]=int(num)\n",
        "    else:\n",
        "        num = int(1)\n",
        "        preds2[i]=int(num)\n",
        "\n",
        "#print(y_test)\n",
        "#print(preds)"
      ],
      "execution_count": 0,
      "outputs": []
    },
    {
      "cell_type": "code",
      "metadata": {
        "id": "gMgm-ckajfMd",
        "colab_type": "code",
        "colab": {}
      },
      "source": [
        "y_test = list(map(int, y_test)) \n",
        "preds2 = list(map(int, preds2)) "
      ],
      "execution_count": 0,
      "outputs": []
    },
    {
      "cell_type": "code",
      "metadata": {
        "id": "ALsZBVPjjfKG",
        "colab_type": "code",
        "outputId": "6ade6f43-50f0-4380-bbc6-2c0cf0181de0",
        "colab": {
          "base_uri": "https://localhost:8080/",
          "height": 34
        }
      },
      "source": [
        "print(roc_auc_score(y_test, preds2))"
      ],
      "execution_count": 0,
      "outputs": [
        {
          "output_type": "stream",
          "text": [
            "0.5436046511627907\n"
          ],
          "name": "stdout"
        }
      ]
    },
    {
      "cell_type": "code",
      "metadata": {
        "id": "qKVfXXTWjfGs",
        "colab_type": "code",
        "colab": {}
      },
      "source": [
        "#############################   Support Vector Machine Algorithm-With PCA 100% components  ##############################"
      ],
      "execution_count": 0,
      "outputs": []
    },
    {
      "cell_type": "code",
      "metadata": {
        "id": "tzZLt-ThjfFs",
        "colab_type": "code",
        "colab": {}
      },
      "source": [
        "from sklearn.model_selection import train_test_split\n",
        "# test_size: what proportion of original data is used for test set\n",
        "X_train, X_test, y_train, y_test = train_test_split( X, y, test_size=0.1, random_state=0)"
      ],
      "execution_count": 0,
      "outputs": []
    },
    {
      "cell_type": "code",
      "metadata": {
        "id": "xUxxIFq5jfBP",
        "colab_type": "code",
        "colab": {}
      },
      "source": [
        "from sklearn.preprocessing import StandardScaler\n",
        "scaler = StandardScaler()\n",
        "# Fit on training set only.\n",
        "scaler.fit(X_train)\n",
        "# Apply transform to both the training set and the test set.\n",
        "X_train = scaler.transform(X_train)\n",
        "X_test = scaler.transform(X_test)\n"
      ],
      "execution_count": 0,
      "outputs": []
    },
    {
      "cell_type": "code",
      "metadata": {
        "id": "WNc7qCrSje_1",
        "colab_type": "code",
        "colab": {}
      },
      "source": [
        "from sklearn.decomposition import PCA\n",
        "# Make an instance of the Model\n",
        "pca = PCA(.100)\n",
        "pca.fit(X_train)\n",
        "\n",
        "X_train = pca.transform(X_train) \n",
        "X_test = pca.transform(X_test) "
      ],
      "execution_count": 0,
      "outputs": []
    },
    {
      "cell_type": "code",
      "metadata": {
        "id": "BKjoAN24je8e",
        "colab_type": "code",
        "colab": {}
      },
      "source": [
        "from sklearn import svm\n",
        "svl = svm.SVC()"
      ],
      "execution_count": 0,
      "outputs": []
    },
    {
      "cell_type": "code",
      "metadata": {
        "id": "DUgffQqJje6e",
        "colab_type": "code",
        "outputId": "f00581ae-aa90-460c-e1a8-ccefa292d8ee",
        "colab": {
          "base_uri": "https://localhost:8080/",
          "height": 138
        }
      },
      "source": [
        "svl.fit(X_train,y_train)"
      ],
      "execution_count": 0,
      "outputs": [
        {
          "output_type": "stream",
          "text": [
            "/usr/local/lib/python3.6/dist-packages/sklearn/svm/base.py:193: FutureWarning: The default value of gamma will change from 'auto' to 'scale' in version 0.22 to account better for unscaled features. Set gamma explicitly to 'auto' or 'scale' to avoid this warning.\n",
            "  \"avoid this warning.\", FutureWarning)\n"
          ],
          "name": "stderr"
        },
        {
          "output_type": "execute_result",
          "data": {
            "text/plain": [
              "SVC(C=1.0, cache_size=200, class_weight=None, coef0=0.0,\n",
              "    decision_function_shape='ovr', degree=3, gamma='auto_deprecated',\n",
              "    kernel='rbf', max_iter=-1, probability=False, random_state=None,\n",
              "    shrinking=True, tol=0.001, verbose=False)"
            ]
          },
          "metadata": {
            "tags": []
          },
          "execution_count": 71
        }
      ]
    },
    {
      "cell_type": "code",
      "metadata": {
        "id": "nmrTuILRje2s",
        "colab_type": "code",
        "outputId": "aaf2ace9-2586-469a-a93f-21fd336d3578",
        "colab": {
          "base_uri": "https://localhost:8080/",
          "height": 34
        }
      },
      "source": [
        "from sklearn.metrics import accuracy_score\n",
        "\n",
        "preds2 = svl.predict(X_test)\n",
        "#print(preds2)\n",
        "\n",
        "print(\"Accuracy:\", accuracy_score(y_test,preds2))"
      ],
      "execution_count": 0,
      "outputs": [
        {
          "output_type": "stream",
          "text": [
            "Accuracy: 0.6268656716417911\n"
          ],
          "name": "stdout"
        }
      ]
    },
    {
      "cell_type": "code",
      "metadata": {
        "id": "p-qe3I5dje0z",
        "colab_type": "code",
        "outputId": "bf43fbdd-a2c8-41e0-981f-f38581d70dcc",
        "colab": {
          "base_uri": "https://localhost:8080/",
          "height": 34
        }
      },
      "source": [
        "from sklearn.metrics import f1_score\n",
        "from sklearn.metrics import cohen_kappa_score\n",
        "from sklearn.metrics import roc_auc_score\n",
        "print(f1_score(y_test, preds2, average=None))"
      ],
      "execution_count": 0,
      "outputs": [
        {
          "output_type": "stream",
          "text": [
            "[0.74226804 0.32432432]\n"
          ],
          "name": "stdout"
        }
      ]
    },
    {
      "cell_type": "code",
      "metadata": {
        "id": "NsHkmyIDjexY",
        "colab_type": "code",
        "colab": {}
      },
      "source": [
        "for i in range(len(y_test)):\n",
        "    if(y_test[i]=='No'):\n",
        "        #print(y_test[i])\n",
        "        num = int(0)\n",
        "        #print(type(num))\n",
        "        y_test[i]= int(num)\n",
        "        #print(type(y_test[i]))\n",
        "        #print(y_test[i])\n",
        "    else:\n",
        "        num = int(1)\n",
        "        y_test[i]=int(num)\n",
        "        #print(type(y_test[i]))\n",
        "        \n",
        "    if(preds2[i]=='No'):\n",
        "        num = int(0)\n",
        "        preds2[i]=int(num)\n",
        "    else:\n",
        "        num = int(1)\n",
        "        preds2[i]=int(num)\n",
        "\n",
        "#print(y_test)\n",
        "#print(preds)"
      ],
      "execution_count": 0,
      "outputs": []
    },
    {
      "cell_type": "code",
      "metadata": {
        "id": "elg1eHFljevD",
        "colab_type": "code",
        "colab": {}
      },
      "source": [
        "y_test = list(map(int, y_test)) \n",
        "preds2 = list(map(int, preds2)) "
      ],
      "execution_count": 0,
      "outputs": []
    },
    {
      "cell_type": "code",
      "metadata": {
        "id": "wL4TzPsXii7N",
        "colab_type": "code",
        "outputId": "c33e5cbb-e340-4427-ecaa-11318f741a9d",
        "colab": {
          "base_uri": "https://localhost:8080/",
          "height": 34
        }
      },
      "source": [
        "print(roc_auc_score(y_test, preds2))"
      ],
      "execution_count": 0,
      "outputs": [
        {
          "output_type": "stream",
          "text": [
            "0.5436046511627907\n"
          ],
          "name": "stdout"
        }
      ]
    }
  ]
}
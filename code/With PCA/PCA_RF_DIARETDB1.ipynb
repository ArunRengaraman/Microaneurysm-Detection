{
  "nbformat": 4,
  "nbformat_minor": 0,
  "metadata": {
    "colab": {
      "name": "PCA_RF-DIARETDB1.ipynb",
      "provenance": [],
      "collapsed_sections": []
    },
    "kernelspec": {
      "name": "python3",
      "display_name": "Python 3"
    }
  },
  "cells": [
    {
      "cell_type": "code",
      "metadata": {
        "id": "JuEBxReqFbWH",
        "colab_type": "code",
        "colab": {
          "base_uri": "https://localhost:8080/",
          "height": 121
        },
        "outputId": "63402312-3469-4139-9af5-2172b3dd8ef2"
      },
      "source": [
        "from google.colab import drive\n",
        "drive.mount('/content/gdrive')\n",
        "rootpath = 'gdrive/My Drive/Patches_DIARETDB1/'"
      ],
      "execution_count": 2,
      "outputs": [
        {
          "output_type": "stream",
          "text": [
            "Go to this URL in a browser: https://accounts.google.com/o/oauth2/auth?client_id=947318989803-6bn6qk8qdgf4n4g3pfee6491hc0brc4i.apps.googleusercontent.com&redirect_uri=urn%3Aietf%3Awg%3Aoauth%3A2.0%3Aoob&scope=email%20https%3A%2F%2Fwww.googleapis.com%2Fauth%2Fdocs.test%20https%3A%2F%2Fwww.googleapis.com%2Fauth%2Fdrive%20https%3A%2F%2Fwww.googleapis.com%2Fauth%2Fdrive.photos.readonly%20https%3A%2F%2Fwww.googleapis.com%2Fauth%2Fpeopleapi.readonly&response_type=code\n",
            "\n",
            "Enter your authorization code:\n",
            "··········\n",
            "Mounted at /content/gdrive\n"
          ],
          "name": "stdout"
        }
      ]
    },
    {
      "cell_type": "code",
      "metadata": {
        "id": "5h0_1c9ZFjb4",
        "colab_type": "code",
        "colab": {}
      },
      "source": [
        "import matplotlib.pyplot as plt\n",
        "import cv2\n",
        "import glob\n",
        "import numpy as np"
      ],
      "execution_count": 0,
      "outputs": []
    },
    {
      "cell_type": "code",
      "metadata": {
        "id": "pvmIpvyQFl0u",
        "colab_type": "code",
        "colab": {
          "base_uri": "https://localhost:8080/",
          "height": 50
        },
        "outputId": "a39546e5-86d2-4b07-a2cd-3307fc9965df"
      },
      "source": [
        "#Create numpy array of images\n",
        "X = []\n",
        "files = glob.glob (rootpath+\"*.png\")\n",
        "#print(files)\n",
        "files.sort()\n",
        "# files = sorted(files)\n",
        "for myFile in files:\n",
        "    #print(myFile)\n",
        "    image = cv2.imread (myFile,0)\n",
        "    X.append (image)\n",
        "\n",
        "X = np.array(X)\n",
        "print('X_data shape:', X.shape)\n",
        "print(len(X))"
      ],
      "execution_count": 4,
      "outputs": [
        {
          "output_type": "stream",
          "text": [
            "X_data shape: (1335, 300, 300)\n",
            "1335\n"
          ],
          "name": "stdout"
        }
      ]
    },
    {
      "cell_type": "code",
      "metadata": {
        "id": "FPF411-GF2PM",
        "colab_type": "code",
        "colab": {}
      },
      "source": [
        "y = ['No','No','Yes','No','Yes','No','No','Yes','Yes','No','No','No','No','Yes','No',\n",
        "     'No','No','Yes','No','Yes','Yes','No','Yes','Yes','No','No','Yes','Yes','Yes','Yes',\n",
        "     'No','Yes','Yes','No','Yes','No','No','Yes','Yes','No','No','Yes','Yes','Yes','Yes',\n",
        "     'No','Yes','Yes','Yes','Yes','No','No','Yes','Yes','No','Yes','Yes','No','Yes','No',\n",
        "     'Yes','No','Yes','No','Yes','Yes','No','Yes','Yes','Yes','Yes','Yes','Yes','Yes','Yes',\n",
        "     'Yes','No','No','No','Yes','No','No','Yes','Yes','No','No','No','No','Yes','No',\n",
        "     'Yes','Yes','Yes','No','Yes','No','No','No','Yes','No','Yes','Yes','Yes','Yes','No',\n",
        "     'Yes','No','Yes','Yes','Yes','Yes','No','Yes','Yes','No','Yes','Yes','Yes','Yes','Yes',\n",
        "     'No','No','Yes','No','Yes','Yes','No','No','Yes','No','No','No','No','Yes','Yes',\n",
        "     'No','No','Yes','No','Yes','Yes','No','No','Yes','No','Yes','Yes','Yes','Yes','Yes',\n",
        "     'No','No','Yes','No','Yes','Yes','No','Yes','Yes','No','Yes','Yes','Yes','Yes','Yes',\n",
        "     'No','No','No','No','Yes','No','No','Yes','Yes','No','No','No','No','Yes','No',\n",
        "     'No','No','No','No','Yes','No','No','Yes','Yes','No','Yes','No','Yes','Yes','Yes',\n",
        "     'Yes','No','No','No','No','Yes','No','No','No','No','Yes','Yes','Yes','Yes','No',\n",
        "     'Yes','No','Yes','Yes','Yes','Yes','Yes','Yes','Yes','No','Yes','Yes','Yes','Yes','Yes',\n",
        "     'Yes','Yes','Yes','No','Yes','Yes','No','No','No','No','Yes','Yes','Yes','No','Yes',\n",
        "     'Yes','No','No','No','Yes','No','No','Yes','Yes','No','No','No','No','Yes','No',\n",
        "     'No','No','No','No','Yes','No','No','Yes','Yes','No','No','Yes','No','Yes','Yes',\n",
        "     'No','Yes','Yes','Yes','No','Yes','Yes','Yes','Yes','No','No','Yes','Yes','Yes','Yes',\n",
        "     'No','Yes','Yes','Yes','Yes','Yes','No','Yes','Yes','No','Yes','Yes','Yes','Yes','Yes',\n",
        "     'No','Yes','Yes','Yes','Yes','Yes','No','Yes','Yes','Yes','Yes','Yes','Yes','Yes','Yes',\n",
        "     'Yes','No','Yes','Yes','No','Yes','No','Yes','Yes','No','No','No','No','Yes','Yes',\n",
        "     'No','No','No','No','No','Yes','No','No','No','No','Yes','Yes','No','No','Yes',\n",
        "     'No','No','No','No','No','Yes','No','No','No','No','Yes','Yes','Yes','No','Yes',\n",
        "     'No','No','Yes','No','Yes','Yes','No','No','No','No','Yes','Yes','Yes','No','Yes',\n",
        "     'No','Yes','Yes','No','No','No','No','No','Yes','Yes','Yes','Yes','Yes','Yes','Yes',\n",
        "     'Yes','Yes','Yes','Yes','No','Yes','No','Yes','Yes','Yes','Yes','No','Yes','Yes','No',\n",
        "     'No','No','No','Yes','Yes','No','Yes','No','Yes','No','No','No','No','Yes','No',\n",
        "     'No','Yes','No','No','Yes','No','Yes','No','No','Yes','Yes','Yes','Yes','Yes','No',\n",
        "     'No','No','No','No','Yes','No','No','Yes','Yes','No','No','No','No','Yes','No', #30\n",
        "     'No','No','No','No','Yes','No','No','No','Yes','No','No','No','No','Yes','No',\n",
        "     'No','No','No','No','Yes','No','No','No','No','No','No','No','No','Yes','No',\n",
        "     'No','No','No','No','Yes','No','No','No','Yes','No','No','No','No','Yes','No',\n",
        "     'No','No','No','No','Yes','No','No','No','Yes','No','No','No','No','Yes','No',\n",
        "     'No','No','No','No','Yes','No','Yes','No','Yes','No','No','No','No','Yes','No',\n",
        "     'No','No','No','No','Yes','No','Yes','No','Yes','No','No','No','No','Yes','No',\n",
        "     'No','No','No','No','Yes','No','No','No','Yes','No','No','No','No','Yes','No', \n",
        "     'No','No','No','No','Yes','No','No','No','Yes','No','No','No','No','Yes','No',\n",
        "     'No','No','No','No','Yes','No','No','No','Yes','No','No','No','No','Yes','No',\n",
        "     'No','No','No','No','Yes','No','No','No','Yes','No','No','No','No','Yes','No',\n",
        "     'No','No','No','No','Yes','No','No','No','Yes','No','No','No','No','Yes','No',\n",
        "     'No','No','No','No','Yes','No','No','No','Yes','No','No','No','No','Yes','No',\n",
        "     'No','No','No','No','Yes','No','Yes','No','Yes','No','No','Yes','No','Yes','No',\n",
        "     'No','No','No','No','Yes','No','Yes','No','Yes','No','Yes','Yes','No','Yes','No',\n",
        "     'No','No','No','No','Yes','No','No','No','Yes','No','No','No','No','Yes','No',\n",
        "     'No','No','No','No','Yes','No','No','No','Yes','No','No','No','No','Yes','No',\n",
        "     'No','No','No','No','Yes','No','No','No','Yes','No','No','No','No','Yes','No',\n",
        "     'No','No','No','No','Yes','No','No','No','Yes','No','No','No','No','Yes','No',\n",
        "     'No','No','No','No','Yes','No','No','Yes','Yes','No','No','No','No','Yes','No',\n",
        "     'No','No','No','No','Yes','No','No','No','Yes','No','No','No','No','Yes','Yes', #50\n",
        "     'No','No','No','No','Yes','No','No','Yes','Yes','No','No','No','No','Yes','Yes',\n",
        "     'No','No','Yes','Yes','Yes','No','No','No','Yes','No','Yes','No','Yes','Yes','No',\n",
        "     'No','No','Yes','Yes','Yes','Yes','Yes','No','Yes','No','No','Yes','No','Yes','Yes',\n",
        "     'No','No','No','No','Yes','No','No','No','Yes','No','Yes','Yes','No','Yes','No',\n",
        "     'No','No','Yes','No','Yes','No','No','Yes','Yes','No','No','No','No','Yes','Yes',\n",
        "     'No','No','No','No','Yes','No','No','No','Yes','No','No','No','No','Yes','Yes',\n",
        "     'No','No','No','No','Yes','No','No','No','Yes','No','No','No','No','Yes','No',\n",
        "     'No','No','No','No','Yes','No','No','No','Yes','No','No','No','No','Yes','No',\n",
        "     'No','Yes','No','No','Yes','No','No','Yes','Yes','No','No','No','No','Yes','No',\n",
        "     'No','No','No','No','Yes','No','No','Yes','Yes','No','No','No','No','Yes','No', #60\n",
        "     'No','No','No','No','Yes','No','No','No','Yes','No','No','No','No','Yes','No',\n",
        "     'No','No','No','No','Yes','No','No','Yes','Yes','No','No','No','No','Yes','No',\n",
        "     'No','No','No','No','Yes','No','No','No','Yes','No','No','No','No','Yes','No',\n",
        "     'No','No','Yes','No','Yes','No','Yes','Yes','Yes','No','Yes','No','No','Yes','No',\n",
        "     'No','No','No','No','Yes','No','Yes','No','No','No','Yes','Yes','No','Yes','Yes',\n",
        "     'No','No','No','No','Yes','No','No','No','Yes','No','No','No','No','Yes','No',\n",
        "     'No','No','No','Yes','Yes','Yes','No','No','Yes','No','No','No','No','Yes','Yes',\n",
        "     'No','No','No','No','Yes','No','No','No','Yes','No','No','No','No','Yes','No',\n",
        "     'No','Yes','No','No','Yes','No','No','No','Yes','No','No','No','No','Yes','No',\n",
        "     'No','No','No','No','Yes','No','No','No','Yes','No','No','No','No','Yes','No', #70\n",
        "     'No','No','No','No','Yes','No','No','No','Yes','No','No','No','No','Yes','No',\n",
        "     'No','No','No','No','Yes','No','Yes','No','Yes','No','No','No','No','Yes','No',\n",
        "     'No','No','No','No','Yes','No','Yes','No','Yes','No','No','No','No','Yes','No',\n",
        "     'No','No','No','No','Yes','No','No','No','Yes','No','No','No','No','Yes','No',\n",
        "     'No','No','No','No','Yes','No','No','Yes','Yes','No','No','No','No','Yes','No',\n",
        "     'No','No','No','No','Yes','No','No','No','Yes','No','No','No','No','Yes','No',\n",
        "     'No','No','No','No','Yes','No','No','No','Yes','No','No','No','No','Yes','No',\n",
        "     'No','No','No','No','Yes','No','No','No','Yes','No','No','No','No','Yes','No',\n",
        "     'No','No','No','No','Yes','No','No','Yes','Yes','No','No','No','No','Yes','No', #79\n",
        "     'Yes','Yes','No','No','Yes','No','No','No','Yes','No','No','No','No','Yes','No',\n",
        "     'No','Yes','No','No','Yes','No','No','No','Yes','No','No','No','Yes','Yes','No',\n",
        "     'No','No','No','No','Yes','No','No','No','Yes','No','No','No','No','Yes','No',\n",
        "     'No','No','No','No','Yes','No','No','No','Yes','No','No','Yes','No','Yes','No',\n",
        "     'No','No','No','No','No','Yes','No','No','No','No','Yes','Yes','No','No','Yes',\n",
        "     'No','No','No','No','No','Yes','No','No','No','No','No','Yes','No','No','Yes',\n",
        "     'No','No','No','No','Yes','No','No','No','Yes','No','No','No','No','Yes','No',\n",
        "     'No','No','No','No','Yes','No','No','No','Yes','No','No','No','No','Yes','No',\n",
        "     'No','No','No','No','Yes','No','No','No','Yes','No','No','No','No','Yes','No',\n",
        "     'No','No','No','No','Yes','No','No','No','Yes','No','No','Yes','No','Yes','No' #89\n",
        "     ]"
      ],
      "execution_count": 0,
      "outputs": []
    },
    {
      "cell_type": "code",
      "metadata": {
        "id": "YtbV4pkiF8Ks",
        "colab_type": "code",
        "outputId": "d87ff68e-805e-4d13-e13a-c1fa70b8c9af",
        "colab": {
          "base_uri": "https://localhost:8080/",
          "height": 34
        }
      },
      "source": [
        "y = np.asarray(y) \n",
        "print(y.shape)"
      ],
      "execution_count": 6,
      "outputs": [
        {
          "output_type": "stream",
          "text": [
            "(1335,)\n"
          ],
          "name": "stdout"
        }
      ]
    },
    {
      "cell_type": "code",
      "metadata": {
        "id": "TK9kfEgaF9SA",
        "colab_type": "code",
        "colab": {}
      },
      "source": [
        "from sklearn.utils import shuffle\n",
        "# X = X.reshape(X.shape[0],X.shape[1]*X.shape[2]).T\n",
        "# y = y.reshape(y.shape[0],)\n",
        "X = np.reshape(X, [X.shape[0], X.shape[1]*X.shape[2]])\n",
        "\n",
        "X, y = shuffle(X, y, random_state=42)"
      ],
      "execution_count": 0,
      "outputs": []
    },
    {
      "cell_type": "code",
      "metadata": {
        "id": "mZSPYkLJKs-R",
        "colab_type": "code",
        "colab": {}
      },
      "source": [
        "#############################   Random Forest Algorithm-With PCA 10 components  ##############################"
      ],
      "execution_count": 0,
      "outputs": []
    },
    {
      "cell_type": "code",
      "metadata": {
        "id": "G_AJ-cGGGFuD",
        "colab_type": "code",
        "colab": {}
      },
      "source": [
        "from sklearn.model_selection import train_test_split\n",
        "# test_size: what proportion of original data is used for test set\n",
        "X_train, X_test, y_train, y_test = train_test_split( X, y, test_size=0.1, random_state=0)"
      ],
      "execution_count": 0,
      "outputs": []
    },
    {
      "cell_type": "code",
      "metadata": {
        "id": "tW4pAxlxGfrx",
        "colab_type": "code",
        "colab": {}
      },
      "source": [
        "from sklearn.preprocessing import StandardScaler\n",
        "scaler = StandardScaler()\n",
        "# Fit on training set only.\n",
        "scaler.fit(X_train)\n",
        "# Apply transform to both the training set and the test set.\n",
        "X_train = scaler.transform(X_train)\n",
        "X_test = scaler.transform(X_test)\n"
      ],
      "execution_count": 0,
      "outputs": []
    },
    {
      "cell_type": "code",
      "metadata": {
        "id": "be0Y5dWiHM8I",
        "colab_type": "code",
        "colab": {}
      },
      "source": [
        "# Applying PCA function on training \n",
        "# and testing set of X component \n",
        "from sklearn.decomposition import PCA \n",
        "  \n",
        "pca = PCA(n_components = 10) \n",
        "  \n",
        "X_train = pca.fit_transform(X_train) \n",
        "X_test = pca.transform(X_test) \n",
        "  \n",
        "explained_variance = pca.explained_variance_ratio_ "
      ],
      "execution_count": 0,
      "outputs": []
    },
    {
      "cell_type": "code",
      "metadata": {
        "id": "-M1qNiAUIA-c",
        "colab_type": "code",
        "outputId": "eb978f8c-8d4c-4bc2-e3b4-9076fa8bcd83",
        "colab": {
          "base_uri": "https://localhost:8080/",
          "height": 134
        }
      },
      "source": [
        "from sklearn.ensemble import RandomForestClassifier\n",
        "clf = RandomForestClassifier(n_estimators=25, random_state=0)\n",
        "print(clf)"
      ],
      "execution_count": 12,
      "outputs": [
        {
          "output_type": "stream",
          "text": [
            "RandomForestClassifier(bootstrap=True, class_weight=None, criterion='gini',\n",
            "                       max_depth=None, max_features='auto', max_leaf_nodes=None,\n",
            "                       min_impurity_decrease=0.0, min_impurity_split=None,\n",
            "                       min_samples_leaf=1, min_samples_split=2,\n",
            "                       min_weight_fraction_leaf=0.0, n_estimators=25,\n",
            "                       n_jobs=None, oob_score=False, random_state=0, verbose=0,\n",
            "                       warm_start=False)\n"
          ],
          "name": "stdout"
        }
      ]
    },
    {
      "cell_type": "code",
      "metadata": {
        "id": "K3yeNA1lIPrW",
        "colab_type": "code",
        "outputId": "eb4374d5-5db0-41cd-fee6-6f01bd71973e",
        "colab": {
          "base_uri": "https://localhost:8080/",
          "height": 134
        }
      },
      "source": [
        "clf.fit(X_train, y_train)"
      ],
      "execution_count": 13,
      "outputs": [
        {
          "output_type": "execute_result",
          "data": {
            "text/plain": [
              "RandomForestClassifier(bootstrap=True, class_weight=None, criterion='gini',\n",
              "                       max_depth=None, max_features='auto', max_leaf_nodes=None,\n",
              "                       min_impurity_decrease=0.0, min_impurity_split=None,\n",
              "                       min_samples_leaf=1, min_samples_split=2,\n",
              "                       min_weight_fraction_leaf=0.0, n_estimators=25,\n",
              "                       n_jobs=None, oob_score=False, random_state=0, verbose=0,\n",
              "                       warm_start=False)"
            ]
          },
          "metadata": {
            "tags": []
          },
          "execution_count": 13
        }
      ]
    },
    {
      "cell_type": "code",
      "metadata": {
        "id": "9ztVtTW6IVTB",
        "colab_type": "code",
        "outputId": "4678d76f-bda0-46e5-8b97-4584da79e7a3",
        "colab": {
          "base_uri": "https://localhost:8080/",
          "height": 34
        }
      },
      "source": [
        "from sklearn.metrics import accuracy_score\n",
        "\n",
        "preds = clf.predict(X_test)\n",
        "print(\"Accuracy:\", accuracy_score(y_test,preds))"
      ],
      "execution_count": 14,
      "outputs": [
        {
          "output_type": "stream",
          "text": [
            "Accuracy: 0.7611940298507462\n"
          ],
          "name": "stdout"
        }
      ]
    },
    {
      "cell_type": "code",
      "metadata": {
        "id": "5IwFt3ZII44q",
        "colab_type": "code",
        "outputId": "2b4003fd-6e17-418a-cedd-d028eb384f7b",
        "colab": {
          "base_uri": "https://localhost:8080/",
          "height": 34
        }
      },
      "source": [
        "from sklearn.metrics import f1_score\n",
        "from sklearn.metrics import cohen_kappa_score\n",
        "from sklearn.metrics import roc_auc_score\n",
        "print(f1_score(y_test, preds, average=None))"
      ],
      "execution_count": 15,
      "outputs": [
        {
          "output_type": "stream",
          "text": [
            "[0.82608696 0.61904762]\n"
          ],
          "name": "stdout"
        }
      ]
    },
    {
      "cell_type": "code",
      "metadata": {
        "id": "p65bG0NmI7id",
        "colab_type": "code",
        "colab": {}
      },
      "source": [
        "for i in range(len(y_test)):\n",
        "    if(y_test[i]=='No'):\n",
        "        #print(y_test[i])\n",
        "        num = int(0)\n",
        "        #print(type(num))\n",
        "        y_test[i]= int(num)\n",
        "        #print(type(y_test[i]))\n",
        "        #print(y_test[i])\n",
        "    else:\n",
        "        num = int(1)\n",
        "        y_test[i]=int(num)\n",
        "        #print(type(y_test[i]))\n",
        "        \n",
        "    if(preds[i]=='No'):\n",
        "        num = int(0)\n",
        "        preds[i]=int(num)\n",
        "    else:\n",
        "        num = int(1)\n",
        "        preds[i]=int(num)\n",
        "\n",
        "#print(y_test)\n",
        "#print(preds)"
      ],
      "execution_count": 0,
      "outputs": []
    },
    {
      "cell_type": "code",
      "metadata": {
        "id": "HFbhfyozI8sl",
        "colab_type": "code",
        "colab": {}
      },
      "source": [
        "y_test = list(map(int, y_test)) \n",
        "preds = list(map(int, preds)) "
      ],
      "execution_count": 0,
      "outputs": []
    },
    {
      "cell_type": "code",
      "metadata": {
        "id": "xNZX8L0gI-4v",
        "colab_type": "code",
        "outputId": "43faec5f-f875-44f3-9e26-47faebe3af6d",
        "colab": {
          "base_uri": "https://localhost:8080/",
          "height": 34
        }
      },
      "source": [
        "print(roc_auc_score(y_test, preds))"
      ],
      "execution_count": 18,
      "outputs": [
        {
          "output_type": "stream",
          "text": [
            "0.7126937984496124\n"
          ],
          "name": "stdout"
        }
      ]
    },
    {
      "cell_type": "code",
      "metadata": {
        "id": "Le-459xMJuGv",
        "colab_type": "code",
        "colab": {}
      },
      "source": [
        "#############################   Random Forest Algorithm-With PCA 50 components  ##############################"
      ],
      "execution_count": 0,
      "outputs": []
    },
    {
      "cell_type": "code",
      "metadata": {
        "id": "rqFPbC0PKzpc",
        "colab_type": "code",
        "colab": {}
      },
      "source": [
        "from sklearn.model_selection import train_test_split\n",
        "# test_size: what proportion of original data is used for test set\n",
        "X_train, X_test, y_train, y_test = train_test_split( X, y, test_size=0.1, random_state=0)"
      ],
      "execution_count": 0,
      "outputs": []
    },
    {
      "cell_type": "code",
      "metadata": {
        "id": "-G0LPO1XK0pG",
        "colab_type": "code",
        "colab": {}
      },
      "source": [
        "from sklearn.preprocessing import StandardScaler\n",
        "scaler = StandardScaler()\n",
        "# Fit on training set only.\n",
        "scaler.fit(X_train)\n",
        "# Apply transform to both the training set and the test set.\n",
        "X_train = scaler.transform(X_train)\n",
        "X_test = scaler.transform(X_test)"
      ],
      "execution_count": 0,
      "outputs": []
    },
    {
      "cell_type": "code",
      "metadata": {
        "id": "NFjXKP4wJ0rU",
        "colab_type": "code",
        "colab": {}
      },
      "source": [
        "# Applying PCA function on training \n",
        "# and testing set of X component \n",
        "from sklearn.decomposition import PCA \n",
        "  \n",
        "pca = PCA(n_components = 50) \n",
        "  \n",
        "X_train = pca.fit_transform(X_train) \n",
        "X_test = pca.transform(X_test) \n",
        "  \n",
        "explained_variance = pca.explained_variance_ratio_ "
      ],
      "execution_count": 0,
      "outputs": []
    },
    {
      "cell_type": "code",
      "metadata": {
        "id": "XRbxwkDxJ3OR",
        "colab_type": "code",
        "outputId": "2765f635-b931-4c2f-9432-90276f07037a",
        "colab": {
          "base_uri": "https://localhost:8080/",
          "height": 134
        }
      },
      "source": [
        "from sklearn.ensemble import RandomForestClassifier\n",
        "clf = RandomForestClassifier(n_estimators=25, random_state=0)\n",
        "print(clf)"
      ],
      "execution_count": 23,
      "outputs": [
        {
          "output_type": "stream",
          "text": [
            "RandomForestClassifier(bootstrap=True, class_weight=None, criterion='gini',\n",
            "                       max_depth=None, max_features='auto', max_leaf_nodes=None,\n",
            "                       min_impurity_decrease=0.0, min_impurity_split=None,\n",
            "                       min_samples_leaf=1, min_samples_split=2,\n",
            "                       min_weight_fraction_leaf=0.0, n_estimators=25,\n",
            "                       n_jobs=None, oob_score=False, random_state=0, verbose=0,\n",
            "                       warm_start=False)\n"
          ],
          "name": "stdout"
        }
      ]
    },
    {
      "cell_type": "code",
      "metadata": {
        "id": "henACicJJ5vN",
        "colab_type": "code",
        "outputId": "5eab49d3-c26a-4cf6-9226-582a06e85fb9",
        "colab": {
          "base_uri": "https://localhost:8080/",
          "height": 134
        }
      },
      "source": [
        "clf.fit(X_train, y_train)"
      ],
      "execution_count": 24,
      "outputs": [
        {
          "output_type": "execute_result",
          "data": {
            "text/plain": [
              "RandomForestClassifier(bootstrap=True, class_weight=None, criterion='gini',\n",
              "                       max_depth=None, max_features='auto', max_leaf_nodes=None,\n",
              "                       min_impurity_decrease=0.0, min_impurity_split=None,\n",
              "                       min_samples_leaf=1, min_samples_split=2,\n",
              "                       min_weight_fraction_leaf=0.0, n_estimators=25,\n",
              "                       n_jobs=None, oob_score=False, random_state=0, verbose=0,\n",
              "                       warm_start=False)"
            ]
          },
          "metadata": {
            "tags": []
          },
          "execution_count": 24
        }
      ]
    },
    {
      "cell_type": "code",
      "metadata": {
        "id": "VrQGwGxkJ9lk",
        "colab_type": "code",
        "outputId": "c76e1f5b-248b-4d46-fbae-6f5a38359965",
        "colab": {
          "base_uri": "https://localhost:8080/",
          "height": 34
        }
      },
      "source": [
        "from sklearn.metrics import accuracy_score\n",
        "\n",
        "preds = clf.predict(X_test)\n",
        "print(\"Accuracy:\", accuracy_score(y_test,preds))"
      ],
      "execution_count": 25,
      "outputs": [
        {
          "output_type": "stream",
          "text": [
            "Accuracy: 0.7835820895522388\n"
          ],
          "name": "stdout"
        }
      ]
    },
    {
      "cell_type": "code",
      "metadata": {
        "id": "neVWU6HcJ_gR",
        "colab_type": "code",
        "outputId": "08f395e9-06b7-4d79-b031-37e7a7c46ae6",
        "colab": {
          "base_uri": "https://localhost:8080/",
          "height": 34
        }
      },
      "source": [
        "from sklearn.metrics import f1_score\n",
        "from sklearn.metrics import cohen_kappa_score\n",
        "from sklearn.metrics import roc_auc_score\n",
        "print(f1_score(y_test, preds, average=None))"
      ],
      "execution_count": 26,
      "outputs": [
        {
          "output_type": "stream",
          "text": [
            "[0.84491979 0.64197531]\n"
          ],
          "name": "stdout"
        }
      ]
    },
    {
      "cell_type": "code",
      "metadata": {
        "id": "dnKCd0_HKBZp",
        "colab_type": "code",
        "colab": {}
      },
      "source": [
        "for i in range(len(y_test)):\n",
        "    if(y_test[i]=='No'):\n",
        "        #print(y_test[i])\n",
        "        num = int(0)\n",
        "        #print(type(num))\n",
        "        y_test[i]= int(num)\n",
        "        #print(type(y_test[i]))\n",
        "        #print(y_test[i])\n",
        "    else:\n",
        "        num = int(1)\n",
        "        y_test[i]=int(num)\n",
        "        #print(type(y_test[i]))\n",
        "        \n",
        "    if(preds[i]=='No'):\n",
        "        num = int(0)\n",
        "        preds[i]=int(num)\n",
        "    else:\n",
        "        num = int(1)\n",
        "        preds[i]=int(num)\n",
        "\n",
        "#print(y_test)\n",
        "#print(preds)"
      ],
      "execution_count": 0,
      "outputs": []
    },
    {
      "cell_type": "code",
      "metadata": {
        "id": "_cS6ZUMrKDlj",
        "colab_type": "code",
        "colab": {}
      },
      "source": [
        "y_test = list(map(int, y_test)) \n",
        "preds = list(map(int, preds)) "
      ],
      "execution_count": 0,
      "outputs": []
    },
    {
      "cell_type": "code",
      "metadata": {
        "id": "11jBjAanKFGZ",
        "colab_type": "code",
        "outputId": "401f3204-e724-4133-b0a6-e287b1851f86",
        "colab": {
          "base_uri": "https://localhost:8080/",
          "height": 34
        }
      },
      "source": [
        "print(roc_auc_score(y_test, preds))"
      ],
      "execution_count": 29,
      "outputs": [
        {
          "output_type": "stream",
          "text": [
            "0.7301356589147285\n"
          ],
          "name": "stdout"
        }
      ]
    },
    {
      "cell_type": "code",
      "metadata": {
        "id": "C_3EyWEMLSW-",
        "colab_type": "code",
        "colab": {}
      },
      "source": [
        "#############################   Random Forest Algorithm-With PCA 100 components  ##############################"
      ],
      "execution_count": 0,
      "outputs": []
    },
    {
      "cell_type": "code",
      "metadata": {
        "id": "EK-0UnV6LYXi",
        "colab_type": "code",
        "colab": {}
      },
      "source": [
        "from sklearn.model_selection import train_test_split\n",
        "# test_size: what proportion of original data is used for test set\n",
        "X_train, X_test, y_train, y_test = train_test_split( X, y, test_size=0.1, random_state=0)"
      ],
      "execution_count": 0,
      "outputs": []
    },
    {
      "cell_type": "code",
      "metadata": {
        "id": "zdVw6pu4Lc-B",
        "colab_type": "code",
        "colab": {}
      },
      "source": [
        "from sklearn.preprocessing import StandardScaler\n",
        "scaler = StandardScaler()\n",
        "# Fit on training set only.\n",
        "scaler.fit(X_train)\n",
        "# Apply transform to both the training set and the test set.\n",
        "X_train = scaler.transform(X_train)\n",
        "X_test = scaler.transform(X_test)"
      ],
      "execution_count": 0,
      "outputs": []
    },
    {
      "cell_type": "code",
      "metadata": {
        "id": "rv-KDPRKLfZ7",
        "colab_type": "code",
        "colab": {}
      },
      "source": [
        "# Applying PCA function on training \n",
        "# and testing set of X component \n",
        "from sklearn.decomposition import PCA \n",
        "  \n",
        "pca = PCA(n_components = 100) \n",
        "  \n",
        "X_train = pca.fit_transform(X_train) \n",
        "X_test = pca.transform(X_test) \n",
        "  \n",
        "explained_variance = pca.explained_variance_ratio_ "
      ],
      "execution_count": 0,
      "outputs": []
    },
    {
      "cell_type": "code",
      "metadata": {
        "id": "7JGk2xrlLgAv",
        "colab_type": "code",
        "outputId": "bee455fb-f0a7-4c16-f5c3-badb3ce238a7",
        "colab": {
          "base_uri": "https://localhost:8080/",
          "height": 134
        }
      },
      "source": [
        "from sklearn.ensemble import RandomForestClassifier\n",
        "clf = RandomForestClassifier(n_estimators=25, random_state=0)\n",
        "print(clf)"
      ],
      "execution_count": 34,
      "outputs": [
        {
          "output_type": "stream",
          "text": [
            "RandomForestClassifier(bootstrap=True, class_weight=None, criterion='gini',\n",
            "                       max_depth=None, max_features='auto', max_leaf_nodes=None,\n",
            "                       min_impurity_decrease=0.0, min_impurity_split=None,\n",
            "                       min_samples_leaf=1, min_samples_split=2,\n",
            "                       min_weight_fraction_leaf=0.0, n_estimators=25,\n",
            "                       n_jobs=None, oob_score=False, random_state=0, verbose=0,\n",
            "                       warm_start=False)\n"
          ],
          "name": "stdout"
        }
      ]
    },
    {
      "cell_type": "code",
      "metadata": {
        "id": "pyyu6FgPLiJK",
        "colab_type": "code",
        "outputId": "d5a47703-b32c-49cc-ad94-54c646d4e768",
        "colab": {
          "base_uri": "https://localhost:8080/",
          "height": 134
        }
      },
      "source": [
        "clf.fit(X_train, y_train)"
      ],
      "execution_count": 35,
      "outputs": [
        {
          "output_type": "execute_result",
          "data": {
            "text/plain": [
              "RandomForestClassifier(bootstrap=True, class_weight=None, criterion='gini',\n",
              "                       max_depth=None, max_features='auto', max_leaf_nodes=None,\n",
              "                       min_impurity_decrease=0.0, min_impurity_split=None,\n",
              "                       min_samples_leaf=1, min_samples_split=2,\n",
              "                       min_weight_fraction_leaf=0.0, n_estimators=25,\n",
              "                       n_jobs=None, oob_score=False, random_state=0, verbose=0,\n",
              "                       warm_start=False)"
            ]
          },
          "metadata": {
            "tags": []
          },
          "execution_count": 35
        }
      ]
    },
    {
      "cell_type": "code",
      "metadata": {
        "id": "WkZuWHvhLj4l",
        "colab_type": "code",
        "outputId": "a2364891-e575-4644-e8ae-3eaea4676081",
        "colab": {
          "base_uri": "https://localhost:8080/",
          "height": 34
        }
      },
      "source": [
        "from sklearn.metrics import accuracy_score\n",
        "\n",
        "preds = clf.predict(X_test)\n",
        "print(\"Accuracy:\", accuracy_score(y_test,preds))"
      ],
      "execution_count": 36,
      "outputs": [
        {
          "output_type": "stream",
          "text": [
            "Accuracy: 0.7238805970149254\n"
          ],
          "name": "stdout"
        }
      ]
    },
    {
      "cell_type": "code",
      "metadata": {
        "id": "YHbIM4G2Lmdz",
        "colab_type": "code",
        "outputId": "44e6ef31-3968-45ac-ea3a-9e47978010db",
        "colab": {
          "base_uri": "https://localhost:8080/",
          "height": 34
        }
      },
      "source": [
        "from sklearn.metrics import f1_score\n",
        "from sklearn.metrics import cohen_kappa_score\n",
        "from sklearn.metrics import roc_auc_score\n",
        "print(f1_score(y_test, preds, average=None))"
      ],
      "execution_count": 37,
      "outputs": [
        {
          "output_type": "stream",
          "text": [
            "[0.8        0.55421687]\n"
          ],
          "name": "stdout"
        }
      ]
    },
    {
      "cell_type": "code",
      "metadata": {
        "id": "K_Q7yBgXLo2f",
        "colab_type": "code",
        "colab": {}
      },
      "source": [
        "for i in range(len(y_test)):\n",
        "    if(y_test[i]=='No'):\n",
        "        #print(y_test[i])\n",
        "        num = int(0)\n",
        "        #print(type(num))\n",
        "        y_test[i]= int(num)\n",
        "        #print(type(y_test[i]))\n",
        "        #print(y_test[i])\n",
        "    else:\n",
        "        num = int(1)\n",
        "        y_test[i]=int(num)\n",
        "        #print(type(y_test[i]))\n",
        "        \n",
        "    if(preds[i]=='No'):\n",
        "        num = int(0)\n",
        "        preds[i]=int(num)\n",
        "    else:\n",
        "        num = int(1)\n",
        "        preds[i]=int(num)\n",
        "\n",
        "#print(y_test)\n",
        "#print(preds)"
      ],
      "execution_count": 0,
      "outputs": []
    },
    {
      "cell_type": "code",
      "metadata": {
        "id": "MB0RbhJALrUF",
        "colab_type": "code",
        "colab": {}
      },
      "source": [
        "y_test = list(map(int, y_test)) \n",
        "preds = list(map(int, preds)) "
      ],
      "execution_count": 0,
      "outputs": []
    },
    {
      "cell_type": "code",
      "metadata": {
        "id": "MKWmpbX0LtII",
        "colab_type": "code",
        "outputId": "c0325ca1-6209-46c0-9fd9-f90e26b629fe",
        "colab": {
          "base_uri": "https://localhost:8080/",
          "height": 34
        }
      },
      "source": [
        "print(roc_auc_score(y_test, preds))"
      ],
      "execution_count": 40,
      "outputs": [
        {
          "output_type": "stream",
          "text": [
            "0.6698158914728682\n"
          ],
          "name": "stdout"
        }
      ]
    },
    {
      "cell_type": "code",
      "metadata": {
        "id": "IEDr2YKO6V8W",
        "colab_type": "code",
        "colab": {}
      },
      "source": [
        "#############################   Random Forest Algorithm-With PCA 200 components  ##############################"
      ],
      "execution_count": 0,
      "outputs": []
    },
    {
      "cell_type": "code",
      "metadata": {
        "id": "TlHD-zrO6b7Y",
        "colab_type": "code",
        "colab": {}
      },
      "source": [
        "from sklearn.model_selection import train_test_split\n",
        "# test_size: what proportion of original data is used for test set\n",
        "X_train, X_test, y_train, y_test = train_test_split( X, y, test_size=0.1, random_state=0)"
      ],
      "execution_count": 0,
      "outputs": []
    },
    {
      "cell_type": "code",
      "metadata": {
        "id": "ZK1hKkaB6epl",
        "colab_type": "code",
        "colab": {}
      },
      "source": [
        "from sklearn.preprocessing import StandardScaler\n",
        "scaler = StandardScaler()\n",
        "# Fit on training set only.\n",
        "scaler.fit(X_train)\n",
        "# Apply transform to both the training set and the test set.\n",
        "X_train = scaler.transform(X_train)\n",
        "X_test = scaler.transform(X_test)"
      ],
      "execution_count": 0,
      "outputs": []
    },
    {
      "cell_type": "code",
      "metadata": {
        "id": "8QmJqSsi6hnd",
        "colab_type": "code",
        "colab": {}
      },
      "source": [
        "# Applying PCA function on training \n",
        "# and testing set of X component \n",
        "from sklearn.decomposition import PCA \n",
        "  \n",
        "pca = PCA(n_components = 200) \n",
        "  \n",
        "X_train = pca.fit_transform(X_train) \n",
        "X_test = pca.transform(X_test) \n",
        "  \n",
        "explained_variance = pca.explained_variance_ratio_ "
      ],
      "execution_count": 0,
      "outputs": []
    },
    {
      "cell_type": "code",
      "metadata": {
        "id": "-WPaP0BQ6lr4",
        "colab_type": "code",
        "outputId": "62ad0192-1c6e-41f1-f900-66705a28c155",
        "colab": {
          "base_uri": "https://localhost:8080/",
          "height": 134
        }
      },
      "source": [
        "from sklearn.ensemble import RandomForestClassifier\n",
        "clf = RandomForestClassifier(n_estimators=25, random_state=0)\n",
        "print(clf)"
      ],
      "execution_count": 45,
      "outputs": [
        {
          "output_type": "stream",
          "text": [
            "RandomForestClassifier(bootstrap=True, class_weight=None, criterion='gini',\n",
            "                       max_depth=None, max_features='auto', max_leaf_nodes=None,\n",
            "                       min_impurity_decrease=0.0, min_impurity_split=None,\n",
            "                       min_samples_leaf=1, min_samples_split=2,\n",
            "                       min_weight_fraction_leaf=0.0, n_estimators=25,\n",
            "                       n_jobs=None, oob_score=False, random_state=0, verbose=0,\n",
            "                       warm_start=False)\n"
          ],
          "name": "stdout"
        }
      ]
    },
    {
      "cell_type": "code",
      "metadata": {
        "id": "4oUw6PS36rW5",
        "colab_type": "code",
        "outputId": "73b955d8-11ad-4d02-d60c-edbc36d3eb5d",
        "colab": {
          "base_uri": "https://localhost:8080/",
          "height": 134
        }
      },
      "source": [
        "clf.fit(X_train, y_train)"
      ],
      "execution_count": 46,
      "outputs": [
        {
          "output_type": "execute_result",
          "data": {
            "text/plain": [
              "RandomForestClassifier(bootstrap=True, class_weight=None, criterion='gini',\n",
              "                       max_depth=None, max_features='auto', max_leaf_nodes=None,\n",
              "                       min_impurity_decrease=0.0, min_impurity_split=None,\n",
              "                       min_samples_leaf=1, min_samples_split=2,\n",
              "                       min_weight_fraction_leaf=0.0, n_estimators=25,\n",
              "                       n_jobs=None, oob_score=False, random_state=0, verbose=0,\n",
              "                       warm_start=False)"
            ]
          },
          "metadata": {
            "tags": []
          },
          "execution_count": 46
        }
      ]
    },
    {
      "cell_type": "code",
      "metadata": {
        "id": "yLyhCBoL6uGh",
        "colab_type": "code",
        "outputId": "16efc707-006c-4eea-a401-022efb2a9c8a",
        "colab": {
          "base_uri": "https://localhost:8080/",
          "height": 34
        }
      },
      "source": [
        "from sklearn.metrics import accuracy_score\n",
        "\n",
        "preds = clf.predict(X_test)\n",
        "print(\"Accuracy:\", accuracy_score(y_test,preds))"
      ],
      "execution_count": 47,
      "outputs": [
        {
          "output_type": "stream",
          "text": [
            "Accuracy: 0.7089552238805971\n"
          ],
          "name": "stdout"
        }
      ]
    },
    {
      "cell_type": "code",
      "metadata": {
        "id": "kceJAk8Z6wf1",
        "colab_type": "code",
        "outputId": "c4a04c3a-4d81-4b5d-9a08-56fc2197a420",
        "colab": {
          "base_uri": "https://localhost:8080/",
          "height": 34
        }
      },
      "source": [
        "from sklearn.metrics import f1_score\n",
        "from sklearn.metrics import cohen_kappa_score\n",
        "from sklearn.metrics import roc_auc_score\n",
        "print(f1_score(y_test, preds, average=None))"
      ],
      "execution_count": 48,
      "outputs": [
        {
          "output_type": "stream",
          "text": [
            "[0.79365079 0.50632911]\n"
          ],
          "name": "stdout"
        }
      ]
    },
    {
      "cell_type": "code",
      "metadata": {
        "id": "WG5xgzKX6zBj",
        "colab_type": "code",
        "colab": {}
      },
      "source": [
        "for i in range(len(y_test)):\n",
        "    if(y_test[i]=='No'):\n",
        "        #print(y_test[i])\n",
        "        num = int(0)\n",
        "        #print(type(num))\n",
        "        y_test[i]= int(num)\n",
        "        #print(type(y_test[i]))\n",
        "        #print(y_test[i])\n",
        "    else:\n",
        "        num = int(1)\n",
        "        y_test[i]=int(num)\n",
        "        #print(type(y_test[i]))\n",
        "        \n",
        "    if(preds[i]=='No'):\n",
        "        num = int(0)\n",
        "        preds[i]=int(num)\n",
        "    else:\n",
        "        num = int(1)\n",
        "        preds[i]=int(num)\n",
        "\n",
        "#print(y_test)\n",
        "#print(preds)"
      ],
      "execution_count": 0,
      "outputs": []
    },
    {
      "cell_type": "code",
      "metadata": {
        "id": "Ok3CQc-461QM",
        "colab_type": "code",
        "colab": {}
      },
      "source": [
        "y_test = list(map(int, y_test)) \n",
        "preds = list(map(int, preds)) "
      ],
      "execution_count": 0,
      "outputs": []
    },
    {
      "cell_type": "code",
      "metadata": {
        "id": "3PO39AvW64Vi",
        "colab_type": "code",
        "outputId": "1e266abc-1b2f-45af-df37-a3cead27e86c",
        "colab": {
          "base_uri": "https://localhost:8080/",
          "height": 34
        }
      },
      "source": [
        "print(roc_auc_score(y_test, preds))"
      ],
      "execution_count": 51,
      "outputs": [
        {
          "output_type": "stream",
          "text": [
            "0.6443798449612403\n"
          ],
          "name": "stdout"
        }
      ]
    },
    {
      "cell_type": "code",
      "metadata": {
        "id": "5ZMeA0r17EDi",
        "colab_type": "code",
        "colab": {}
      },
      "source": [
        "#############################   Random Forest Algorithm-With PCA 300 components  ##############################"
      ],
      "execution_count": 0,
      "outputs": []
    },
    {
      "cell_type": "code",
      "metadata": {
        "id": "IMDkO6pP7D7D",
        "colab_type": "code",
        "colab": {}
      },
      "source": [
        "from sklearn.model_selection import train_test_split\n",
        "# test_size: what proportion of original data is used for test set\n",
        "X_train, X_test, y_train, y_test = train_test_split( X, y, test_size=0.1, random_state=0)"
      ],
      "execution_count": 0,
      "outputs": []
    },
    {
      "cell_type": "code",
      "metadata": {
        "id": "DQa2AWwP7D0t",
        "colab_type": "code",
        "colab": {}
      },
      "source": [
        "from sklearn.preprocessing import StandardScaler\n",
        "scaler = StandardScaler()\n",
        "# Fit on training set only.\n",
        "scaler.fit(X_train)\n",
        "# Apply transform to both the training set and the test set.\n",
        "X_train = scaler.transform(X_train)\n",
        "X_test = scaler.transform(X_test)"
      ],
      "execution_count": 0,
      "outputs": []
    },
    {
      "cell_type": "code",
      "metadata": {
        "id": "IeFblvq-7Dsj",
        "colab_type": "code",
        "colab": {}
      },
      "source": [
        "# Applying PCA function on training \n",
        "# and testing set of X component \n",
        "from sklearn.decomposition import PCA \n",
        "  \n",
        "pca = PCA(n_components = 300) \n",
        "  \n",
        "X_train = pca.fit_transform(X_train) \n",
        "X_test = pca.transform(X_test) \n",
        "  \n",
        "explained_variance = pca.explained_variance_ratio_ "
      ],
      "execution_count": 0,
      "outputs": []
    },
    {
      "cell_type": "code",
      "metadata": {
        "id": "-g4pfDyg7Dlf",
        "colab_type": "code",
        "outputId": "8d8b635b-0e01-4cd8-efdd-2ef88606e7be",
        "colab": {
          "base_uri": "https://localhost:8080/",
          "height": 134
        }
      },
      "source": [
        "from sklearn.ensemble import RandomForestClassifier\n",
        "clf = RandomForestClassifier(n_estimators=25, random_state=0)\n",
        "print(clf)"
      ],
      "execution_count": 56,
      "outputs": [
        {
          "output_type": "stream",
          "text": [
            "RandomForestClassifier(bootstrap=True, class_weight=None, criterion='gini',\n",
            "                       max_depth=None, max_features='auto', max_leaf_nodes=None,\n",
            "                       min_impurity_decrease=0.0, min_impurity_split=None,\n",
            "                       min_samples_leaf=1, min_samples_split=2,\n",
            "                       min_weight_fraction_leaf=0.0, n_estimators=25,\n",
            "                       n_jobs=None, oob_score=False, random_state=0, verbose=0,\n",
            "                       warm_start=False)\n"
          ],
          "name": "stdout"
        }
      ]
    },
    {
      "cell_type": "code",
      "metadata": {
        "id": "oqrhA1ng7DcQ",
        "colab_type": "code",
        "outputId": "012e1f42-368b-404e-f34b-f223cd4ce0c5",
        "colab": {
          "base_uri": "https://localhost:8080/",
          "height": 134
        }
      },
      "source": [
        "clf.fit(X_train, y_train)"
      ],
      "execution_count": 57,
      "outputs": [
        {
          "output_type": "execute_result",
          "data": {
            "text/plain": [
              "RandomForestClassifier(bootstrap=True, class_weight=None, criterion='gini',\n",
              "                       max_depth=None, max_features='auto', max_leaf_nodes=None,\n",
              "                       min_impurity_decrease=0.0, min_impurity_split=None,\n",
              "                       min_samples_leaf=1, min_samples_split=2,\n",
              "                       min_weight_fraction_leaf=0.0, n_estimators=25,\n",
              "                       n_jobs=None, oob_score=False, random_state=0, verbose=0,\n",
              "                       warm_start=False)"
            ]
          },
          "metadata": {
            "tags": []
          },
          "execution_count": 57
        }
      ]
    },
    {
      "cell_type": "code",
      "metadata": {
        "id": "ALnRop8F7DPW",
        "colab_type": "code",
        "outputId": "040d6dca-fce0-4279-bb58-a7a1af0230d6",
        "colab": {
          "base_uri": "https://localhost:8080/",
          "height": 34
        }
      },
      "source": [
        "from sklearn.metrics import accuracy_score\n",
        "\n",
        "preds = clf.predict(X_test)\n",
        "print(\"Accuracy:\", accuracy_score(y_test,preds))"
      ],
      "execution_count": 58,
      "outputs": [
        {
          "output_type": "stream",
          "text": [
            "Accuracy: 0.6716417910447762\n"
          ],
          "name": "stdout"
        }
      ]
    },
    {
      "cell_type": "code",
      "metadata": {
        "id": "-VXPgGwj7C9R",
        "colab_type": "code",
        "outputId": "d4658e1a-01ff-4d89-dcc6-3621d80e0ae0",
        "colab": {
          "base_uri": "https://localhost:8080/",
          "height": 34
        }
      },
      "source": [
        "from sklearn.metrics import f1_score\n",
        "from sklearn.metrics import cohen_kappa_score\n",
        "from sklearn.metrics import roc_auc_score\n",
        "print(f1_score(y_test, preds, average=None))"
      ],
      "execution_count": 59,
      "outputs": [
        {
          "output_type": "stream",
          "text": [
            "[0.77083333 0.42105263]\n"
          ],
          "name": "stdout"
        }
      ]
    },
    {
      "cell_type": "code",
      "metadata": {
        "id": "sIUvfTP27CfC",
        "colab_type": "code",
        "colab": {}
      },
      "source": [
        "for i in range(len(y_test)):\n",
        "    if(y_test[i]=='No'):\n",
        "        #print(y_test[i])\n",
        "        num = int(0)\n",
        "        #print(type(num))\n",
        "        y_test[i]= int(num)\n",
        "        #print(type(y_test[i]))\n",
        "        #print(y_test[i])\n",
        "    else:\n",
        "        num = int(1)\n",
        "        y_test[i]=int(num)\n",
        "        #print(type(y_test[i]))\n",
        "        \n",
        "    if(preds[i]=='No'):\n",
        "        num = int(0)\n",
        "        preds[i]=int(num)\n",
        "    else:\n",
        "        num = int(1)\n",
        "        preds[i]=int(num)\n",
        "\n",
        "#print(y_test)\n",
        "#print(preds)"
      ],
      "execution_count": 0,
      "outputs": []
    },
    {
      "cell_type": "code",
      "metadata": {
        "id": "9jsJ4WSl7Zk9",
        "colab_type": "code",
        "colab": {}
      },
      "source": [
        "\n",
        "y_test = list(map(int, y_test)) \n",
        "preds = list(map(int, preds)) \n"
      ],
      "execution_count": 0,
      "outputs": []
    },
    {
      "cell_type": "code",
      "metadata": {
        "id": "Jf45FsoG7cmr",
        "colab_type": "code",
        "outputId": "b672c22f-ef76-4b7a-fc18-c60c77161e16",
        "colab": {
          "base_uri": "https://localhost:8080/",
          "height": 34
        }
      },
      "source": [
        "print(roc_auc_score(y_test, preds))"
      ],
      "execution_count": 62,
      "outputs": [
        {
          "output_type": "stream",
          "text": [
            "0.5968992248062015\n"
          ],
          "name": "stdout"
        }
      ]
    },
    {
      "cell_type": "code",
      "metadata": {
        "id": "3alqBJ2H7oVp",
        "colab_type": "code",
        "colab": {}
      },
      "source": [
        "#############################   Random Forest Algorithm-With PCA 400 components  ##############################"
      ],
      "execution_count": 0,
      "outputs": []
    },
    {
      "cell_type": "code",
      "metadata": {
        "id": "XMa40NLb7oSR",
        "colab_type": "code",
        "colab": {}
      },
      "source": [
        "from sklearn.model_selection import train_test_split\n",
        "# test_size: what proportion of original data is used for test set\n",
        "X_train, X_test, y_train, y_test = train_test_split( X, y, test_size=0.1, random_state=0)"
      ],
      "execution_count": 0,
      "outputs": []
    },
    {
      "cell_type": "code",
      "metadata": {
        "id": "j4QFBOp07oP_",
        "colab_type": "code",
        "colab": {}
      },
      "source": [
        "from sklearn.preprocessing import StandardScaler\n",
        "scaler = StandardScaler()\n",
        "# Fit on training set only.\n",
        "scaler.fit(X_train)\n",
        "# Apply transform to both the training set and the test set.\n",
        "X_train = scaler.transform(X_train)\n",
        "X_test = scaler.transform(X_test)"
      ],
      "execution_count": 0,
      "outputs": []
    },
    {
      "cell_type": "code",
      "metadata": {
        "id": "vq8bULtP7oNd",
        "colab_type": "code",
        "colab": {}
      },
      "source": [
        "# Applying PCA function on training \n",
        "# and testing set of X component \n",
        "from sklearn.decomposition import PCA \n",
        "  \n",
        "pca = PCA(n_components = 400) \n",
        "  \n",
        "X_train = pca.fit_transform(X_train) \n",
        "X_test = pca.transform(X_test) \n",
        "  \n",
        "explained_variance = pca.explained_variance_ratio_ "
      ],
      "execution_count": 0,
      "outputs": []
    },
    {
      "cell_type": "code",
      "metadata": {
        "id": "Egg6ov6g7oLh",
        "colab_type": "code",
        "outputId": "748c475a-4591-4e40-84d5-ba81e5ca0bb3",
        "colab": {
          "base_uri": "https://localhost:8080/",
          "height": 134
        }
      },
      "source": [
        "from sklearn.ensemble import RandomForestClassifier\n",
        "clf = RandomForestClassifier(n_estimators=25, random_state=0)\n",
        "print(clf)"
      ],
      "execution_count": 67,
      "outputs": [
        {
          "output_type": "stream",
          "text": [
            "RandomForestClassifier(bootstrap=True, class_weight=None, criterion='gini',\n",
            "                       max_depth=None, max_features='auto', max_leaf_nodes=None,\n",
            "                       min_impurity_decrease=0.0, min_impurity_split=None,\n",
            "                       min_samples_leaf=1, min_samples_split=2,\n",
            "                       min_weight_fraction_leaf=0.0, n_estimators=25,\n",
            "                       n_jobs=None, oob_score=False, random_state=0, verbose=0,\n",
            "                       warm_start=False)\n"
          ],
          "name": "stdout"
        }
      ]
    },
    {
      "cell_type": "code",
      "metadata": {
        "id": "a2xSWO1o7oHE",
        "colab_type": "code",
        "outputId": "97f44c9a-6ecd-4884-d134-abc7a1287e7b",
        "colab": {
          "base_uri": "https://localhost:8080/",
          "height": 134
        }
      },
      "source": [
        "clf.fit(X_train, y_train)"
      ],
      "execution_count": 68,
      "outputs": [
        {
          "output_type": "execute_result",
          "data": {
            "text/plain": [
              "RandomForestClassifier(bootstrap=True, class_weight=None, criterion='gini',\n",
              "                       max_depth=None, max_features='auto', max_leaf_nodes=None,\n",
              "                       min_impurity_decrease=0.0, min_impurity_split=None,\n",
              "                       min_samples_leaf=1, min_samples_split=2,\n",
              "                       min_weight_fraction_leaf=0.0, n_estimators=25,\n",
              "                       n_jobs=None, oob_score=False, random_state=0, verbose=0,\n",
              "                       warm_start=False)"
            ]
          },
          "metadata": {
            "tags": []
          },
          "execution_count": 68
        }
      ]
    },
    {
      "cell_type": "code",
      "metadata": {
        "id": "PvD4r2Ys7oE9",
        "colab_type": "code",
        "outputId": "34b790d2-c6a7-4fe2-8092-893f9b6b9867",
        "colab": {
          "base_uri": "https://localhost:8080/",
          "height": 34
        }
      },
      "source": [
        "from sklearn.metrics import accuracy_score\n",
        "\n",
        "preds = clf.predict(X_test)\n",
        "print(\"Accuracy:\", accuracy_score(y_test,preds))"
      ],
      "execution_count": 69,
      "outputs": [
        {
          "output_type": "stream",
          "text": [
            "Accuracy: 0.6492537313432836\n"
          ],
          "name": "stdout"
        }
      ]
    },
    {
      "cell_type": "code",
      "metadata": {
        "id": "bUnaERjs7oAp",
        "colab_type": "code",
        "outputId": "e2057a47-c55f-4433-8c94-055f60a77dd7",
        "colab": {
          "base_uri": "https://localhost:8080/",
          "height": 34
        }
      },
      "source": [
        "from sklearn.metrics import f1_score\n",
        "from sklearn.metrics import cohen_kappa_score\n",
        "from sklearn.metrics import roc_auc_score\n",
        "print(f1_score(y_test, preds, average=None))"
      ],
      "execution_count": 70,
      "outputs": [
        {
          "output_type": "stream",
          "text": [
            "[0.76142132 0.33802817]\n"
          ],
          "name": "stdout"
        }
      ]
    },
    {
      "cell_type": "code",
      "metadata": {
        "id": "SCwCW9AD7n_H",
        "colab_type": "code",
        "colab": {}
      },
      "source": [
        "for i in range(len(y_test)):\n",
        "    if(y_test[i]=='No'):\n",
        "        #print(y_test[i])\n",
        "        num = int(0)\n",
        "        #print(type(num))\n",
        "        y_test[i]= int(num)\n",
        "        #print(type(y_test[i]))\n",
        "        #print(y_test[i])\n",
        "    else:\n",
        "        num = int(1)\n",
        "        y_test[i]=int(num)\n",
        "        #print(type(y_test[i]))\n",
        "        \n",
        "    if(preds[i]=='No'):\n",
        "        num = int(0)\n",
        "        preds[i]=int(num)\n",
        "    else:\n",
        "        num = int(1)\n",
        "        preds[i]=int(num)\n",
        "\n",
        "#print(y_test)\n",
        "#print(preds)"
      ],
      "execution_count": 0,
      "outputs": []
    },
    {
      "cell_type": "code",
      "metadata": {
        "id": "h5J8Wef-7n8-",
        "colab_type": "code",
        "colab": {}
      },
      "source": [
        "y_test = list(map(int, y_test)) \n",
        "preds = list(map(int, preds)) \n"
      ],
      "execution_count": 0,
      "outputs": []
    },
    {
      "cell_type": "code",
      "metadata": {
        "id": "kzEBcZ-x7n6U",
        "colab_type": "code",
        "outputId": "aea094be-58e6-4c9a-9ba4-ed7f57d96a7a",
        "colab": {
          "base_uri": "https://localhost:8080/",
          "height": 34
        }
      },
      "source": [
        "print(roc_auc_score(y_test, preds))"
      ],
      "execution_count": 73,
      "outputs": [
        {
          "output_type": "stream",
          "text": [
            "0.561046511627907\n"
          ],
          "name": "stdout"
        }
      ]
    },
    {
      "cell_type": "code",
      "metadata": {
        "id": "-Oa5aUV3RgqH",
        "colab_type": "code",
        "colab": {}
      },
      "source": [
        "#############################   Random Forest Algorithm-With PCA 500 components  ##############################"
      ],
      "execution_count": 0,
      "outputs": []
    },
    {
      "cell_type": "code",
      "metadata": {
        "id": "Qape-XokRgd7",
        "colab_type": "code",
        "colab": {}
      },
      "source": [
        "from sklearn.model_selection import train_test_split\n",
        "# test_size: what proportion of original data is used for test set\n",
        "X_train, X_test, y_train, y_test = train_test_split( X, y, test_size=0.1, random_state=0)"
      ],
      "execution_count": 0,
      "outputs": []
    },
    {
      "cell_type": "code",
      "metadata": {
        "id": "YTgfoqvlRgaU",
        "colab_type": "code",
        "colab": {}
      },
      "source": [
        "from sklearn.preprocessing import StandardScaler\n",
        "scaler = StandardScaler()\n",
        "# Fit on training set only.\n",
        "scaler.fit(X_train)\n",
        "# Apply transform to both the training set and the test set.\n",
        "X_train = scaler.transform(X_train)\n",
        "X_test = scaler.transform(X_test)"
      ],
      "execution_count": 0,
      "outputs": []
    },
    {
      "cell_type": "code",
      "metadata": {
        "id": "RvsfB4CjRgYR",
        "colab_type": "code",
        "colab": {}
      },
      "source": [
        "# Applying PCA function on training \n",
        "# and testing set of X component \n",
        "from sklearn.decomposition import PCA \n",
        "  \n",
        "pca = PCA(n_components = 500) \n",
        "  \n",
        "X_train = pca.fit_transform(X_train) \n",
        "X_test = pca.transform(X_test) \n",
        "  \n",
        "explained_variance = pca.explained_variance_ratio_ "
      ],
      "execution_count": 0,
      "outputs": []
    },
    {
      "cell_type": "code",
      "metadata": {
        "id": "UMXhh14-RgUj",
        "colab_type": "code",
        "colab": {
          "base_uri": "https://localhost:8080/",
          "height": 134
        },
        "outputId": "63de8c53-2525-45b1-e7a0-bc806ea16a9d"
      },
      "source": [
        "from sklearn.ensemble import RandomForestClassifier\n",
        "clf = RandomForestClassifier(n_estimators=25, random_state=0)\n",
        "print(clf)"
      ],
      "execution_count": 78,
      "outputs": [
        {
          "output_type": "stream",
          "text": [
            "RandomForestClassifier(bootstrap=True, class_weight=None, criterion='gini',\n",
            "                       max_depth=None, max_features='auto', max_leaf_nodes=None,\n",
            "                       min_impurity_decrease=0.0, min_impurity_split=None,\n",
            "                       min_samples_leaf=1, min_samples_split=2,\n",
            "                       min_weight_fraction_leaf=0.0, n_estimators=25,\n",
            "                       n_jobs=None, oob_score=False, random_state=0, verbose=0,\n",
            "                       warm_start=False)\n"
          ],
          "name": "stdout"
        }
      ]
    },
    {
      "cell_type": "code",
      "metadata": {
        "id": "c8JKgEXARgTE",
        "colab_type": "code",
        "colab": {
          "base_uri": "https://localhost:8080/",
          "height": 134
        },
        "outputId": "4e69e073-126a-4105-ece4-0752815e1c28"
      },
      "source": [
        "clf.fit(X_train, y_train)"
      ],
      "execution_count": 80,
      "outputs": [
        {
          "output_type": "execute_result",
          "data": {
            "text/plain": [
              "RandomForestClassifier(bootstrap=True, class_weight=None, criterion='gini',\n",
              "                       max_depth=None, max_features='auto', max_leaf_nodes=None,\n",
              "                       min_impurity_decrease=0.0, min_impurity_split=None,\n",
              "                       min_samples_leaf=1, min_samples_split=2,\n",
              "                       min_weight_fraction_leaf=0.0, n_estimators=25,\n",
              "                       n_jobs=None, oob_score=False, random_state=0, verbose=0,\n",
              "                       warm_start=False)"
            ]
          },
          "metadata": {
            "tags": []
          },
          "execution_count": 80
        }
      ]
    },
    {
      "cell_type": "code",
      "metadata": {
        "id": "CKG92ynERgRN",
        "colab_type": "code",
        "colab": {
          "base_uri": "https://localhost:8080/",
          "height": 34
        },
        "outputId": "fc1674c8-3fe0-4d14-cc9d-737ee41d5353"
      },
      "source": [
        "from sklearn.metrics import accuracy_score\n",
        "\n",
        "preds = clf.predict(X_test)\n",
        "print(\"Accuracy:\", accuracy_score(y_test,preds))"
      ],
      "execution_count": 81,
      "outputs": [
        {
          "output_type": "stream",
          "text": [
            "Accuracy: 0.6716417910447762\n"
          ],
          "name": "stdout"
        }
      ]
    },
    {
      "cell_type": "code",
      "metadata": {
        "id": "3Iz7mVa9RgPG",
        "colab_type": "code",
        "colab": {
          "base_uri": "https://localhost:8080/",
          "height": 34
        },
        "outputId": "2ad2c935-d340-4f52-a361-9ff23e6561d2"
      },
      "source": [
        "from sklearn.metrics import f1_score\n",
        "from sklearn.metrics import cohen_kappa_score\n",
        "from sklearn.metrics import roc_auc_score\n",
        "print(f1_score(y_test, preds, average=None))"
      ],
      "execution_count": 82,
      "outputs": [
        {
          "output_type": "stream",
          "text": [
            "[0.78       0.35294118]\n"
          ],
          "name": "stdout"
        }
      ]
    },
    {
      "cell_type": "code",
      "metadata": {
        "id": "9aIS_bxkRgLP",
        "colab_type": "code",
        "colab": {}
      },
      "source": [
        "for i in range(len(y_test)):\n",
        "    if(y_test[i]=='No'):\n",
        "        #print(y_test[i])\n",
        "        num = int(0)\n",
        "        #print(type(num))\n",
        "        y_test[i]= int(num)\n",
        "        #print(type(y_test[i]))\n",
        "        #print(y_test[i])\n",
        "    else:\n",
        "        num = int(1)\n",
        "        y_test[i]=int(num)\n",
        "        #print(type(y_test[i]))\n",
        "        \n",
        "    if(preds[i]=='No'):\n",
        "        num = int(0)\n",
        "        preds[i]=int(num)\n",
        "    else:\n",
        "        num = int(1)\n",
        "        preds[i]=int(num)\n",
        "\n",
        "#print(y_test)\n",
        "#print(preds)"
      ],
      "execution_count": 0,
      "outputs": []
    },
    {
      "cell_type": "code",
      "metadata": {
        "id": "gPE8d4qNRgJn",
        "colab_type": "code",
        "colab": {}
      },
      "source": [
        "y_test = list(map(int, y_test)) \n",
        "preds = list(map(int, preds)) \n"
      ],
      "execution_count": 0,
      "outputs": []
    },
    {
      "cell_type": "code",
      "metadata": {
        "id": "oooTGBdORgFf",
        "colab_type": "code",
        "colab": {
          "base_uri": "https://localhost:8080/",
          "height": 34
        },
        "outputId": "0c7f4ba5-abbb-4042-d6a2-3255184759cd"
      },
      "source": [
        "print(roc_auc_score(y_test, preds))"
      ],
      "execution_count": 85,
      "outputs": [
        {
          "output_type": "stream",
          "text": [
            "0.5784883720930233\n"
          ],
          "name": "stdout"
        }
      ]
    },
    {
      "cell_type": "code",
      "metadata": {
        "id": "J38n8R6-RgDA",
        "colab_type": "code",
        "colab": {}
      },
      "source": [
        "#############################   Random Forest Algorithm-With PCA 625 components  ##############################"
      ],
      "execution_count": 0,
      "outputs": []
    },
    {
      "cell_type": "code",
      "metadata": {
        "id": "fu5X9vBlRgAJ",
        "colab_type": "code",
        "colab": {}
      },
      "source": [
        "from sklearn.model_selection import train_test_split\n",
        "# test_size: what proportion of original data is used for test set\n",
        "X_train, X_test, y_train, y_test = train_test_split( X, y, test_size=0.1, random_state=0)"
      ],
      "execution_count": 0,
      "outputs": []
    },
    {
      "cell_type": "code",
      "metadata": {
        "id": "mpXZVH5mRf89",
        "colab_type": "code",
        "colab": {}
      },
      "source": [
        "from sklearn.preprocessing import StandardScaler\n",
        "scaler = StandardScaler()\n",
        "# Fit on training set only.\n",
        "scaler.fit(X_train)\n",
        "# Apply transform to both the training set and the test set.\n",
        "X_train = scaler.transform(X_train)\n",
        "X_test = scaler.transform(X_test)"
      ],
      "execution_count": 0,
      "outputs": []
    },
    {
      "cell_type": "code",
      "metadata": {
        "id": "Y3TO9fw9RfTS",
        "colab_type": "code",
        "colab": {}
      },
      "source": [
        "# Applying PCA function on training \n",
        "# and testing set of X component \n",
        "from sklearn.decomposition import PCA \n",
        "  \n",
        "pca = PCA(n_components = 625) \n",
        "  \n",
        "X_train = pca.fit_transform(X_train) \n",
        "X_test = pca.transform(X_test) \n",
        "  \n",
        "explained_variance = pca.explained_variance_ratio_ "
      ],
      "execution_count": 0,
      "outputs": []
    },
    {
      "cell_type": "code",
      "metadata": {
        "id": "9qEwUFT0RfLw",
        "colab_type": "code",
        "colab": {
          "base_uri": "https://localhost:8080/",
          "height": 134
        },
        "outputId": "4a17e96e-6186-40e5-b723-bdd8f53b886b"
      },
      "source": [
        "from sklearn.ensemble import RandomForestClassifier\n",
        "clf = RandomForestClassifier(n_estimators=25, random_state=0)\n",
        "print(clf)"
      ],
      "execution_count": 90,
      "outputs": [
        {
          "output_type": "stream",
          "text": [
            "RandomForestClassifier(bootstrap=True, class_weight=None, criterion='gini',\n",
            "                       max_depth=None, max_features='auto', max_leaf_nodes=None,\n",
            "                       min_impurity_decrease=0.0, min_impurity_split=None,\n",
            "                       min_samples_leaf=1, min_samples_split=2,\n",
            "                       min_weight_fraction_leaf=0.0, n_estimators=25,\n",
            "                       n_jobs=None, oob_score=False, random_state=0, verbose=0,\n",
            "                       warm_start=False)\n"
          ],
          "name": "stdout"
        }
      ]
    },
    {
      "cell_type": "code",
      "metadata": {
        "id": "52QkMy30RfEP",
        "colab_type": "code",
        "colab": {
          "base_uri": "https://localhost:8080/",
          "height": 134
        },
        "outputId": "44113820-d4d8-4605-a5b1-5cbda595a808"
      },
      "source": [
        "clf.fit(X_train, y_train)"
      ],
      "execution_count": 91,
      "outputs": [
        {
          "output_type": "execute_result",
          "data": {
            "text/plain": [
              "RandomForestClassifier(bootstrap=True, class_weight=None, criterion='gini',\n",
              "                       max_depth=None, max_features='auto', max_leaf_nodes=None,\n",
              "                       min_impurity_decrease=0.0, min_impurity_split=None,\n",
              "                       min_samples_leaf=1, min_samples_split=2,\n",
              "                       min_weight_fraction_leaf=0.0, n_estimators=25,\n",
              "                       n_jobs=None, oob_score=False, random_state=0, verbose=0,\n",
              "                       warm_start=False)"
            ]
          },
          "metadata": {
            "tags": []
          },
          "execution_count": 91
        }
      ]
    },
    {
      "cell_type": "code",
      "metadata": {
        "id": "jyw93h7DSUnZ",
        "colab_type": "code",
        "colab": {
          "base_uri": "https://localhost:8080/",
          "height": 34
        },
        "outputId": "d1530d47-61e4-46ad-b5e6-081b54cbbe07"
      },
      "source": [
        "from sklearn.metrics import accuracy_score\n",
        "\n",
        "preds = clf.predict(X_test)\n",
        "print(\"Accuracy:\", accuracy_score(y_test,preds))"
      ],
      "execution_count": 92,
      "outputs": [
        {
          "output_type": "stream",
          "text": [
            "Accuracy: 0.6940298507462687\n"
          ],
          "name": "stdout"
        }
      ]
    },
    {
      "cell_type": "code",
      "metadata": {
        "id": "VcnVmsPjSUjF",
        "colab_type": "code",
        "colab": {
          "base_uri": "https://localhost:8080/",
          "height": 34
        },
        "outputId": "bc3e5957-58e3-4906-f471-708eac542cd9"
      },
      "source": [
        "from sklearn.metrics import f1_score\n",
        "from sklearn.metrics import cohen_kappa_score\n",
        "from sklearn.metrics import roc_auc_score\n",
        "print(f1_score(y_test, preds, average=None))"
      ],
      "execution_count": 93,
      "outputs": [
        {
          "output_type": "stream",
          "text": [
            "[0.79396985 0.4057971 ]\n"
          ],
          "name": "stdout"
        }
      ]
    },
    {
      "cell_type": "code",
      "metadata": {
        "id": "lXeqsBh5SUg6",
        "colab_type": "code",
        "colab": {}
      },
      "source": [
        "for i in range(len(y_test)):\n",
        "    if(y_test[i]=='No'):\n",
        "        #print(y_test[i])\n",
        "        num = int(0)\n",
        "        #print(type(num))\n",
        "        y_test[i]= int(num)\n",
        "        #print(type(y_test[i]))\n",
        "        #print(y_test[i])\n",
        "    else:\n",
        "        num = int(1)\n",
        "        y_test[i]=int(num)\n",
        "        #print(type(y_test[i]))\n",
        "        \n",
        "    if(preds[i]=='No'):\n",
        "        num = int(0)\n",
        "        preds[i]=int(num)\n",
        "    else:\n",
        "        num = int(1)\n",
        "        preds[i]=int(num)\n",
        "\n",
        "#print(y_test)\n",
        "#print(preds)"
      ],
      "execution_count": 0,
      "outputs": []
    },
    {
      "cell_type": "code",
      "metadata": {
        "id": "6j6FOAJASUej",
        "colab_type": "code",
        "colab": {}
      },
      "source": [
        "y_test = list(map(int, y_test)) \n",
        "preds = list(map(int, preds)) \n"
      ],
      "execution_count": 0,
      "outputs": []
    },
    {
      "cell_type": "code",
      "metadata": {
        "id": "OakOu619SUaV",
        "colab_type": "code",
        "colab": {
          "base_uri": "https://localhost:8080/",
          "height": 34
        },
        "outputId": "512ffe8c-1fa5-4051-89b2-b6a218ec8ee1"
      },
      "source": [
        "print(roc_auc_score(y_test, preds))"
      ],
      "execution_count": 96,
      "outputs": [
        {
          "output_type": "stream",
          "text": [
            "0.6051356589147286\n"
          ],
          "name": "stdout"
        }
      ]
    }
  ]
}